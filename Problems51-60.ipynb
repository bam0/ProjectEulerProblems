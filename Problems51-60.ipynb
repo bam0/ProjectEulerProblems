{
 "cells": [
  {
   "cell_type": "markdown",
   "id": "0bcfca7a",
   "metadata": {},
   "source": [
    "# Project Euler\n",
    "## Problems 51 - 60\n",
    "\n",
    "### ************************"
   ]
  },
  {
   "cell_type": "markdown",
   "id": "37c53d7d",
   "metadata": {},
   "source": [
    "## Problem #51"
   ]
  },
  {
   "cell_type": "markdown",
   "id": "53c2511e",
   "metadata": {},
   "source": [
    "Find the smallest prime which, by replacing part of the number (not necessarily adjacent digits) with the same digit, is part of an eight prime value family."
   ]
  },
  {
   "cell_type": "code",
   "execution_count": 41,
   "id": "458cfbbc",
   "metadata": {},
   "outputs": [],
   "source": [
    "import math\n",
    "from itertools import combinations"
   ]
  },
  {
   "cell_type": "code",
   "execution_count": 73,
   "id": "604444ea",
   "metadata": {},
   "outputs": [],
   "source": [
    "def findEightReplacementPrime():\n",
    "    primes = generatePrimesTo(5000)\n",
    "    curNum = 56003\n",
    "    memo = set()\n",
    "    while curNum < 2100000:\n",
    "        if curNum in memo or curNum % 5 == 0:\n",
    "            curNum += 2\n",
    "            continue\n",
    "        if isPrime(curNum, primes) and canReplaceDigits(curNum, primes, memo):\n",
    "            return curNum\n",
    "        curNum += 2\n",
    "    return None"
   ]
  },
  {
   "cell_type": "code",
   "execution_count": 71,
   "id": "69dff873",
   "metadata": {},
   "outputs": [],
   "source": [
    "def canReplaceDigits(prime, primes, memo):\n",
    "    digits = numToArray(prime)\n",
    "    countArr = [0 for _ in range(10)]\n",
    "    for d in digits:\n",
    "        countArr[d] += 1\n",
    "    vals = []\n",
    "    for i, x in enumerate(countArr):\n",
    "        if x >= 3:\n",
    "            vals.append(i)\n",
    "    if len(vals) == 0:\n",
    "        return False\n",
    "    for val in vals:\n",
    "        indeces = []\n",
    "        for i, d in enumerate(digits):\n",
    "            if d == val:\n",
    "                indeces.append(i)\n",
    "        combs = list(combinations(indeces, 3))\n",
    "        d_copy = digits.copy()\n",
    "        for c in combs:\n",
    "            digits = d_copy\n",
    "            notPrimeCount = 0\n",
    "            for i in range(10):\n",
    "                if i == 0 and c[0] == 0:\n",
    "                    notPrimeCount += 1\n",
    "                    continue\n",
    "                for idx in c:\n",
    "                    digits[idx] = i\n",
    "                curNum = arrayToNum(digits)\n",
    "                if isPrime(curNum, primes):\n",
    "                    memo.add(curNum)\n",
    "                else:\n",
    "                    notPrimeCount += 1\n",
    "                    if notPrimeCount > 2:\n",
    "                        break\n",
    "            if notPrimeCount < 3:\n",
    "                return True\n",
    "    return False"
   ]
  },
  {
   "cell_type": "code",
   "execution_count": 1,
   "id": "a8b69707",
   "metadata": {},
   "outputs": [],
   "source": [
    "def numToArray(num):\n",
    "    digits = []\n",
    "    while num > 0:\n",
    "        num, rem = divmod(num, 10)\n",
    "        digits.append(rem)\n",
    "    return digits[::-1]"
   ]
  },
  {
   "cell_type": "code",
   "execution_count": 4,
   "id": "648a480a",
   "metadata": {},
   "outputs": [],
   "source": [
    "def arrayToNum(arr):\n",
    "    num = arr[0]\n",
    "    for i in range(1, len(arr)):\n",
    "        num *= 10\n",
    "        num += arr[i]\n",
    "    return num"
   ]
  },
  {
   "cell_type": "code",
   "execution_count": 9,
   "id": "744607fa",
   "metadata": {},
   "outputs": [],
   "source": [
    "def generatePrimesTo(n):\n",
    "    primes = [2,3,5,7]\n",
    "    i = 11\n",
    "    while i < n:\n",
    "        for j in [0, 2, 6, 8]:\n",
    "            if isPrime(i+j, primes):\n",
    "                primes.append(i+j)\n",
    "        i += 10\n",
    "    while primes[-1] > n:\n",
    "        primes.pop()\n",
    "    return primes"
   ]
  },
  {
   "cell_type": "code",
   "execution_count": 10,
   "id": "0d625276",
   "metadata": {},
   "outputs": [],
   "source": [
    "def isPrime(n, primes):\n",
    "    if n < 11:\n",
    "        return False if n not in [2,3,5,7] else True\n",
    "    i = 0\n",
    "    root = math.floor(n**0.5)\n",
    "    while i < len(primes) and primes[i] <= root:\n",
    "        if n % primes[i] == 0:\n",
    "            return False\n",
    "        i += 1\n",
    "    return True"
   ]
  },
  {
   "cell_type": "code",
   "execution_count": 74,
   "id": "99c6a48d",
   "metadata": {},
   "outputs": [
    {
     "data": {
      "text/plain": [
       "121313"
      ]
     },
     "execution_count": 74,
     "metadata": {},
     "output_type": "execute_result"
    }
   ],
   "source": [
    "findEightReplacementPrime()"
   ]
  },
  {
   "cell_type": "markdown",
   "id": "572c26be",
   "metadata": {},
   "source": [
    "## Problem #52"
   ]
  },
  {
   "cell_type": "markdown",
   "id": "16b0e9fc",
   "metadata": {},
   "source": [
    "Find the smallest positive integer x, such that 2x, 3x, ..., 6x contain the same digits."
   ]
  },
  {
   "cell_type": "code",
   "execution_count": 77,
   "id": "272acfa8",
   "metadata": {},
   "outputs": [],
   "source": [
    "def findSmallestSameDigits():\n",
    "    x = 9\n",
    "    isGood = False\n",
    "    while not isGood:\n",
    "        counts = digitCounts(x)\n",
    "        isGood = True\n",
    "        for i in range(2, 7):\n",
    "            val = i * x\n",
    "            if counts != digitCounts(val):\n",
    "                isGood = False\n",
    "                x += 9\n",
    "                break\n",
    "    return x"
   ]
  },
  {
   "cell_type": "code",
   "execution_count": 76,
   "id": "ae52d21c",
   "metadata": {},
   "outputs": [],
   "source": [
    "def digitCounts(n):\n",
    "    counts = [0 for _ in range(10)]\n",
    "    while n > 0:\n",
    "        n, rem = divmod(n, 10)\n",
    "        counts[rem] += 1\n",
    "    return counts"
   ]
  },
  {
   "cell_type": "code",
   "execution_count": 78,
   "id": "2c4061fb",
   "metadata": {},
   "outputs": [
    {
     "data": {
      "text/plain": [
       "142857"
      ]
     },
     "execution_count": 78,
     "metadata": {},
     "output_type": "execute_result"
    }
   ],
   "source": [
    "findSmallestSameDigits()"
   ]
  },
  {
   "cell_type": "markdown",
   "id": "da9127ef",
   "metadata": {},
   "source": [
    "## Problem #53"
   ]
  },
  {
   "cell_type": "markdown",
   "id": "73b65376",
   "metadata": {},
   "source": [
    "How many, not necessarily distinct, values of n choose r for 1 <= n <= 100 are greater than one-million?"
   ]
  },
  {
   "cell_type": "code",
   "execution_count": 80,
   "id": "c0b0c1e7",
   "metadata": {},
   "outputs": [],
   "source": [
    "def findGreaterThan(cap):\n",
    "    count = 0\n",
    "    for n in range(1, 101):\n",
    "        for r in range(1, n+1):\n",
    "            if choose(n, r) > cap:\n",
    "                count += 1\n",
    "    return count"
   ]
  },
  {
   "cell_type": "code",
   "execution_count": 79,
   "id": "c5a2b26c",
   "metadata": {},
   "outputs": [],
   "source": [
    "def choose(n, k):\n",
    "    prod = 1\n",
    "    for i in range(1, k+1):\n",
    "        prod = (prod * (n-i+1)) // i\n",
    "    return prod"
   ]
  },
  {
   "cell_type": "code",
   "execution_count": 81,
   "id": "2b25d53f",
   "metadata": {},
   "outputs": [
    {
     "data": {
      "text/plain": [
       "4075"
      ]
     },
     "execution_count": 81,
     "metadata": {},
     "output_type": "execute_result"
    }
   ],
   "source": [
    "findGreaterThan(1000000)"
   ]
  },
  {
   "cell_type": "markdown",
   "id": "244114e3",
   "metadata": {},
   "source": [
    "## Problem #54"
   ]
  },
  {
   "cell_type": "markdown",
   "id": "c07d1c9c",
   "metadata": {},
   "source": [
    "How many poker hands does Player 1 win?"
   ]
  },
  {
   "cell_type": "code",
   "execution_count": 137,
   "id": "bf059164",
   "metadata": {},
   "outputs": [],
   "source": [
    "def pokerResults():\n",
    "    hands = getHandList('poker_p54.txt')\n",
    "    p1wins, p2wins = 0, 0\n",
    "    pdic = pokerDictMaker()\n",
    "    for hand in hands:\n",
    "        p1hand = hand[:5]\n",
    "        p2hand = hand[5:]\n",
    "        p1score, p2score = rankOfHand(p1hand, pdic), rankOfHand(p2hand, pdic)\n",
    "        if p1score > p2score:\n",
    "            p1wins += 1\n",
    "        elif p2score > p1score:\n",
    "            p2wins += 1\n",
    "        else:\n",
    "            whoWins = breakPokerTie(p1hand, p2hand, p1score, pdic)\n",
    "            if whoWins == 1:\n",
    "                p1wins += 1\n",
    "            else:\n",
    "                p2wins += 1\n",
    "    print(\"P1 Wins:\", p1wins)\n",
    "    print(\"P2 Wins:\", p2wins)\n",
    "    return p1wins"
   ]
  },
  {
   "cell_type": "code",
   "execution_count": 132,
   "id": "9ff9a31f",
   "metadata": {},
   "outputs": [],
   "source": [
    "def breakPokerTie(h1, h2, rank, pdic):\n",
    "    h1vals, h2vals = [], []\n",
    "    for i in range(5):\n",
    "        h1vals.append(pdic[h1[i][0]])\n",
    "        h2vals.append(pdic[h2[i][0]])\n",
    "    if rank in [1, 5, 6, 9]:\n",
    "        return 1 if max(h1vals) > max(h2vals) else 2\n",
    "    counts1, counts2 = {}, {}\n",
    "    for i in range(5):\n",
    "        val1, val2 = h1vals[i], h2vals[i]\n",
    "        if val1 in counts1:\n",
    "            counts1[val1] += 1\n",
    "        else:\n",
    "            counts1[val1] = 1\n",
    "        if val2 in counts2:\n",
    "            counts2[val2] += 1\n",
    "        else:\n",
    "            counts2[val2] = 1\n",
    "    counts1, counts2 = invertDict(counts1), invertDict(counts2)\n",
    "    if rank == 8:\n",
    "        if counts1[4] == counts2[4]:\n",
    "            return 1 if counts1[1][0] > counts2[1][0] else 2\n",
    "        return 1 if counts1[4][0] > counts2[4][0] else 2\n",
    "    if rank == 4 or rank == 7:\n",
    "        if counts1[3] == counts2[3]:\n",
    "            if 2 in counts1:\n",
    "                return 1 if counts1[2][0] > counts2[2][0] else 2\n",
    "            return 1 if max(counts1[1]) > max(counts1[1]) else 2\n",
    "        return 1 if counts1[3][0] > counts2[3][0] else 2\n",
    "    if rank == 2:\n",
    "        if counts1[2] == counts2[2]:\n",
    "            return 1 if max(counts1[1]) > max(counts2[1]) else 2\n",
    "        return 1 if counts1[2][0] > counts2[2][0] else 2\n",
    "    if max(counts1[2]) == max(counts2[2]):\n",
    "        if min(counts1[2]) == min(counts2[2]):\n",
    "            return 1 if counts1[1][0] > counts2[1][0] else 2\n",
    "        return 1 if min(counts1[2]) > min(counts2[2]) else 2\n",
    "    return 1 if max(counts1[2]) > max(counts2[2]) else 2"
   ]
  },
  {
   "cell_type": "code",
   "execution_count": 120,
   "id": "42efed70",
   "metadata": {},
   "outputs": [],
   "source": [
    "def invertDict(dct):\n",
    "    newDict = {}\n",
    "    for key, val in dct.items():\n",
    "        if val in newDict:\n",
    "            newDict[val].append(key)\n",
    "        else:\n",
    "            newDict[val] = [key]\n",
    "    return newDict"
   ]
  },
  {
   "cell_type": "code",
   "execution_count": 121,
   "id": "e23ec51c",
   "metadata": {},
   "outputs": [],
   "source": [
    "def rankOfHand(hand, pdic):\n",
    "    values = []\n",
    "    suits = []\n",
    "    for card in hand:\n",
    "        values.append(pdic[card[0]])\n",
    "        suits.append(card[1])\n",
    "    values.sort()\n",
    "    numSuits = len(set(suits))\n",
    "    isFlush = numSuits == 1\n",
    "    isStraight = True\n",
    "    for i in range(1, len(values)):\n",
    "        if values[i] != values[i-1] + 1:\n",
    "            isStraight = False\n",
    "            break\n",
    "    if isStraight and isFlush:\n",
    "        if values == [10, 11, 12, 13, 14]:\n",
    "            return 10\n",
    "        else:\n",
    "            return 9\n",
    "    if isFlush:\n",
    "        return 6\n",
    "    if isStraight:\n",
    "        return 5\n",
    "    valueDict = {}\n",
    "    for val in values:\n",
    "        if val in valueDict:\n",
    "            valueDict[val] += 1\n",
    "        else:\n",
    "            valueDict[val] = 1\n",
    "    counts = sorted(valueDict.values())\n",
    "    if counts == [1, 4]:\n",
    "        return 8\n",
    "    if counts == [2, 3]:\n",
    "        return 7\n",
    "    if counts[-1] == 3:\n",
    "        return 4\n",
    "    if counts == [1,2,2]:\n",
    "        return 3\n",
    "    if counts[-1] == 2:\n",
    "        return 2\n",
    "    return 1"
   ]
  },
  {
   "cell_type": "code",
   "execution_count": 122,
   "id": "38922242",
   "metadata": {},
   "outputs": [],
   "source": [
    "def getHandList(filename):\n",
    "    hands = []\n",
    "    with open(filename, 'r') as f:\n",
    "        for line in f.readlines():\n",
    "            line = line.strip()\n",
    "            row = line.split()\n",
    "            hands.append(row)\n",
    "    return hands"
   ]
  },
  {
   "cell_type": "code",
   "execution_count": 123,
   "id": "97325159",
   "metadata": {},
   "outputs": [],
   "source": [
    "def pokerDictMaker():\n",
    "    values = {'T': 10, 'J': 11, 'Q':12, 'K': 13, 'A':14}\n",
    "    for i in range(2, 10):\n",
    "        values[str(i)] = i\n",
    "    return values"
   ]
  },
  {
   "cell_type": "code",
   "execution_count": 138,
   "id": "03d53a70",
   "metadata": {},
   "outputs": [
    {
     "name": "stdout",
     "output_type": "stream",
     "text": [
      "P1 Wins: 376\n",
      "P2 Wins: 624\n"
     ]
    },
    {
     "data": {
      "text/plain": [
       "376"
      ]
     },
     "execution_count": 138,
     "metadata": {},
     "output_type": "execute_result"
    }
   ],
   "source": [
    "pokerResults()"
   ]
  },
  {
   "cell_type": "markdown",
   "id": "72ebfb57",
   "metadata": {},
   "source": [
    "## Problem #55"
   ]
  },
  {
   "cell_type": "markdown",
   "id": "4a3ceef7",
   "metadata": {},
   "source": [
    "How many Lychrel numbers are there below ten-thousand?"
   ]
  },
  {
   "cell_type": "code",
   "execution_count": 162,
   "id": "90d59c5c",
   "metadata": {},
   "outputs": [],
   "source": [
    "def lychrelsBelow(cap):\n",
    "    ldic = {}\n",
    "    count = 0\n",
    "    for i in range(1, cap):\n",
    "        if isLychrel(i, ldic, cap):\n",
    "            count += 1\n",
    "    return count"
   ]
  },
  {
   "cell_type": "code",
   "execution_count": 161,
   "id": "98eb6c59",
   "metadata": {},
   "outputs": [],
   "source": [
    "def isLychrel(n, lychrelDict, cap):\n",
    "    if n in lychrelDict:\n",
    "        return lychrelDict[n]\n",
    "    i = 0\n",
    "    valsChecked = [n]\n",
    "    curVal = n\n",
    "    while i < 50:\n",
    "        curVal = curVal + arrToNum(numToArrReversed(curVal))\n",
    "        if isPalindrome(numToArrReversed(curVal)):\n",
    "            break\n",
    "        if curVal < cap:\n",
    "            valsChecked.append(curVal)\n",
    "        i += 1\n",
    "    if i < 50:\n",
    "        for val in valsChecked:\n",
    "            lychrelDict[val] = False\n",
    "        return False\n",
    "    else:\n",
    "        for val in valsChecked:\n",
    "            lychrelDict[val] = True\n",
    "        return True"
   ]
  },
  {
   "cell_type": "code",
   "execution_count": 151,
   "id": "0dbc6438",
   "metadata": {},
   "outputs": [],
   "source": [
    "def isPalindrome(digits):\n",
    "    li, ri = 0, len(digits)-1\n",
    "    while li <= ri:\n",
    "        if digits[li] != digits[ri]:\n",
    "            return False\n",
    "        li += 1\n",
    "        ri -= 1\n",
    "    return True"
   ]
  },
  {
   "cell_type": "code",
   "execution_count": 152,
   "id": "c4eb3dbc",
   "metadata": {},
   "outputs": [],
   "source": [
    "def numToArrReversed(n):\n",
    "    digits = []\n",
    "    while n > 0:\n",
    "        n, rem = divmod(n, 10)\n",
    "        digits.append(rem)\n",
    "    return digits"
   ]
  },
  {
   "cell_type": "code",
   "execution_count": 153,
   "id": "c76874f2",
   "metadata": {},
   "outputs": [],
   "source": [
    "def arrToNum(arr):\n",
    "    val = arr[0]\n",
    "    for i in range(1, len(arr)):\n",
    "        val *= 10\n",
    "        val += arr[i]\n",
    "    return val"
   ]
  },
  {
   "cell_type": "code",
   "execution_count": 163,
   "id": "08836f02",
   "metadata": {},
   "outputs": [
    {
     "data": {
      "text/plain": [
       "249"
      ]
     },
     "execution_count": 163,
     "metadata": {},
     "output_type": "execute_result"
    }
   ],
   "source": [
    "lychrelsBelow(10000)"
   ]
  },
  {
   "cell_type": "markdown",
   "id": "13a9a692",
   "metadata": {},
   "source": [
    "## Problem #56"
   ]
  },
  {
   "cell_type": "markdown",
   "id": "d3849e41",
   "metadata": {},
   "source": [
    "Considering natural numbers of the form a^b where a,b < 100 what is the maximum digital sum?"
   ]
  },
  {
   "cell_type": "code",
   "execution_count": 164,
   "id": "439fa7bb",
   "metadata": {},
   "outputs": [],
   "source": [
    "def maxDigitalSum(cap):\n",
    "    maxSum = 0\n",
    "    for a in range(1, cap):\n",
    "        for b in range(1, cap):\n",
    "            curSum = digitalSum(a**b)\n",
    "            if curSum > maxSum:\n",
    "                maxSum = curSum\n",
    "    return maxSum"
   ]
  },
  {
   "cell_type": "code",
   "execution_count": 165,
   "id": "cfa233b1",
   "metadata": {},
   "outputs": [],
   "source": [
    "def digitalSum(n):\n",
    "    total = 0\n",
    "    while n > 0:\n",
    "        n, rem = divmod(n, 10)\n",
    "        total += rem\n",
    "    return total"
   ]
  },
  {
   "cell_type": "code",
   "execution_count": 166,
   "id": "dc6c213b",
   "metadata": {},
   "outputs": [
    {
     "data": {
      "text/plain": [
       "972"
      ]
     },
     "execution_count": 166,
     "metadata": {},
     "output_type": "execute_result"
    }
   ],
   "source": [
    "maxDigitalSum(100)"
   ]
  },
  {
   "cell_type": "markdown",
   "id": "190307c4",
   "metadata": {},
   "source": [
    "## Problem #57"
   ]
  },
  {
   "cell_type": "markdown",
   "id": "78144a7b",
   "metadata": {},
   "source": [
    "In the first one-thousand expansions of sqrt(2), how many fractions contain a numerator with more digits than the denominator?"
   ]
  },
  {
   "cell_type": "code",
   "execution_count": 168,
   "id": "c976bc96",
   "metadata": {},
   "outputs": [],
   "source": [
    "import math"
   ]
  },
  {
   "cell_type": "code",
   "execution_count": 174,
   "id": "189a22a0",
   "metadata": {},
   "outputs": [],
   "source": [
    "def squareRootOfTwo(cap):\n",
    "    n, d = 3, 2\n",
    "    count = 0\n",
    "    expansions = 1\n",
    "    while expansions <= cap:\n",
    "        n, d = n + 2*d, n + d\n",
    "        if numDigits(n) != numDigits(d):\n",
    "            count += 1\n",
    "        expansions += 1\n",
    "    return count"
   ]
  },
  {
   "cell_type": "code",
   "execution_count": 170,
   "id": "17ac98cd",
   "metadata": {},
   "outputs": [],
   "source": [
    "def numDigits(n):\n",
    "    return math.floor(math.log10(n)) + 1"
   ]
  },
  {
   "cell_type": "code",
   "execution_count": 175,
   "id": "aba2f218",
   "metadata": {},
   "outputs": [
    {
     "data": {
      "text/plain": [
       "153"
      ]
     },
     "execution_count": 175,
     "metadata": {},
     "output_type": "execute_result"
    }
   ],
   "source": [
    "squareRootOfTwo(1000)"
   ]
  },
  {
   "cell_type": "markdown",
   "id": "495ec016",
   "metadata": {},
   "source": [
    "## Problem #58"
   ]
  },
  {
   "cell_type": "markdown",
   "id": "187f4482",
   "metadata": {},
   "source": [
    "If one complete new layer is wrapped around the spiral above, a square spiral with side length 9 will be formed. If this process is continued, what is the side length of the square spiral for which the ratio of primes along both diagonals first falls below 10%?"
   ]
  },
  {
   "cell_type": "code",
   "execution_count": 184,
   "id": "bb4fe3ea",
   "metadata": {},
   "outputs": [],
   "source": [
    "def spiralPrimePercentage(cap):\n",
    "    primes = generatePrimesTo(50000)\n",
    "    primeCount = 3\n",
    "    compCount = 2\n",
    "    i = 2\n",
    "    while primeCount / (primeCount + compCount) >= cap:\n",
    "        compCount += 1\n",
    "        sq = (2*i+1)**2\n",
    "        nums = [sq-2*i, sq-4*i, sq-6*i]\n",
    "        for num in nums:\n",
    "            if isPrime(num, primes):\n",
    "                primeCount += 1\n",
    "            else:\n",
    "                compCount += 1\n",
    "        i += 1\n",
    "    return int(sq**0.5)"
   ]
  },
  {
   "cell_type": "code",
   "execution_count": 176,
   "id": "ee61d569",
   "metadata": {},
   "outputs": [],
   "source": [
    "def generatePrimesTo(n):\n",
    "    primes = [2,3,5,7]\n",
    "    i = 11\n",
    "    while i < n:\n",
    "        for j in [0, 2, 6, 8]:\n",
    "            if isPrime(i+j, primes):\n",
    "                primes.append(i+j)\n",
    "        i += 10\n",
    "    while primes[-1] > n:\n",
    "        primes.pop()\n",
    "    return primes"
   ]
  },
  {
   "cell_type": "code",
   "execution_count": 177,
   "id": "cb7be45b",
   "metadata": {},
   "outputs": [],
   "source": [
    "def isPrime(n, primes):\n",
    "    if n < 11:\n",
    "        return False if n not in [2,3,5,7] else True\n",
    "    i = 0\n",
    "    root = math.floor(n**0.5)\n",
    "    while i < len(primes) and primes[i] <= root:\n",
    "        if n % primes[i] == 0:\n",
    "            return False\n",
    "        i += 1\n",
    "    return True"
   ]
  },
  {
   "cell_type": "code",
   "execution_count": 185,
   "id": "3c904f72",
   "metadata": {},
   "outputs": [
    {
     "data": {
      "text/plain": [
       "26241"
      ]
     },
     "execution_count": 185,
     "metadata": {},
     "output_type": "execute_result"
    }
   ],
   "source": [
    "spiralPrimePercentage(0.1)"
   ]
  },
  {
   "cell_type": "markdown",
   "id": "c5cfec88",
   "metadata": {},
   "source": [
    "## Problem #59"
   ]
  },
  {
   "cell_type": "markdown",
   "id": "702ffb05",
   "metadata": {},
   "source": [
    "The encryption key consists of three lower case characters. Using a file containing the encrypted ASCII codes, and the knowledge that the plain text must contain common English words, decrypt the message and find the sum of the ASCII values in the original text."
   ]
  },
  {
   "cell_type": "code",
   "execution_count": 315,
   "id": "3e456b4a",
   "metadata": {},
   "outputs": [],
   "source": [
    "from itertools import product"
   ]
  },
  {
   "cell_type": "code",
   "execution_count": 338,
   "id": "3406d520",
   "metadata": {},
   "outputs": [],
   "source": [
    "def asciiSum():\n",
    "    message = runXorDecryption()\n",
    "    total = 0\n",
    "    for char in message:\n",
    "        total += ord(char)\n",
    "    print(message)\n",
    "    return total"
   ]
  },
  {
   "cell_type": "code",
   "execution_count": 334,
   "id": "7a10f83f",
   "metadata": {},
   "outputs": [],
   "source": [
    "def runXorDecryption():\n",
    "    nums = getListFromFile('xorDecryption_p59.txt')\n",
    "    alpha = 'abcdefghijklmnopqrstuvwxyz'\n",
    "    commonWords = set()\n",
    "    targetMessage = \"\"\n",
    "    with open('commonWords_p59.txt', 'r') as f:\n",
    "        for line in f.readlines():\n",
    "            line = line.strip()\n",
    "            commonWords.add(line)\n",
    "    for code in product(alpha, repeat=3):\n",
    "        i = 0\n",
    "        newMessage = []\n",
    "        while i < len(nums):\n",
    "            codeVal = ord(code[i % 3])\n",
    "            msgVal = nums[i]\n",
    "            char = chr(msgVal ^ codeVal)\n",
    "            newMessage.append(char)\n",
    "            i += 1\n",
    "        message = ''.join(newMessage).split()\n",
    "        counts = 0\n",
    "        for word in message:\n",
    "            if word in commonWords:\n",
    "                counts += 1\n",
    "        if counts > 20:\n",
    "            return ' '.join(message)"
   ]
  },
  {
   "cell_type": "code",
   "execution_count": 206,
   "id": "492b8a99",
   "metadata": {},
   "outputs": [],
   "source": [
    "def getListFromFile(filename):\n",
    "    with open(filename, 'r') as f:\n",
    "        message = ''.join(f.readlines()).split(',')\n",
    "    return [int(x) for x in message]"
   ]
  },
  {
   "cell_type": "code",
   "execution_count": 207,
   "id": "b797d641",
   "metadata": {},
   "outputs": [],
   "source": [
    "def intListToText(nums):\n",
    "    message = [chr(x) for x in nums]\n",
    "    return ''.join(message)"
   ]
  },
  {
   "cell_type": "code",
   "execution_count": 339,
   "id": "551b4421",
   "metadata": {},
   "outputs": [
    {
     "name": "stdout",
     "output_type": "stream",
     "text": [
      "An extract taken from the introduction of one of Euler's most celebrated papers, \"De summis serierum reciprocarum\" [On the sums of series of reciprocals]: I have recently found, quite unexpectedly, an elegant expression for the entire sum of this series 1 + 1/4 + 1/9 + 1/16 + etc., which depends on the quadrature of the circle, so that if the true sum of this series is obtained, from it at once the quadrature of the circle follows. Namely, I have found that the sum of this series is a sixth part of the square of the perimeter of the circle whose diameter is 1; or by putting the sum of this series equal to s, it has the ratio sqrt(6) multiplied by s to 1 of the perimeter to the diameter. I will soon show that the sum of this series to be approximately 1.644934066842264364; and from multiplying this number by six, and then taking the square root, the number 3.141592653589793238 is indeed produced, which expresses the perimeter of a circle whose diameter is 1. Following again the same steps by which I had arrived at this sum, I have discovered that the sum of the series 1 + 1/16 + 1/81 + 1/256 + 1/625 + etc. also depends on the quadrature of the circle. Namely, the sum of this multiplied by 90 gives the biquadrate (fourth power) of the circumference of the perimeter of a circle whose diameter is 1. And by similar reasoning I have likewise been able to determine the sums of the subsequent series in which the exponents are even numbers.\n"
     ]
    },
    {
     "data": {
      "text/plain": [
       "129448"
      ]
     },
     "execution_count": 339,
     "metadata": {},
     "output_type": "execute_result"
    }
   ],
   "source": [
    "asciiSum()"
   ]
  },
  {
   "cell_type": "markdown",
   "id": "88c760df",
   "metadata": {},
   "source": [
    "## Problem #60"
   ]
  },
  {
   "cell_type": "markdown",
   "id": "82ae6955",
   "metadata": {},
   "source": [
    "Find the lowest sum for a set of five primes for which any two primes concatenate to produce another prime."
   ]
  },
  {
   "cell_type": "code",
   "execution_count": 422,
   "id": "11ebceff",
   "metadata": {},
   "outputs": [],
   "source": [
    "import math"
   ]
  },
  {
   "cell_type": "code",
   "execution_count": 434,
   "id": "e144f46e",
   "metadata": {},
   "outputs": [],
   "source": [
    "def primePairSets(target):\n",
    "    primes = generatePrimesTo(20000)\n",
    "    validSets = []\n",
    "    for p in primes:\n",
    "        memo = set()\n",
    "        for group in validSets:\n",
    "            works = True\n",
    "            for val in group:\n",
    "                if not canConcat(p, val, primes, memo):\n",
    "                    works = False\n",
    "                    break\n",
    "            if works:\n",
    "                if len(group) + 1 == target:\n",
    "                    finalList = sorted(list(group) + [p])\n",
    "                    print(finalList)\n",
    "                    return sum(finalList)\n",
    "                validSets.append(set([p] + list(group)))\n",
    "        validSets.append(set([p]))"
   ]
  },
  {
   "cell_type": "code",
   "execution_count": 435,
   "id": "dd0daf80",
   "metadata": {},
   "outputs": [],
   "source": [
    "def canConcat(p, q, primes, memo):\n",
    "    if q in memo:\n",
    "        return True\n",
    "    result = isPrime(concat(p, q), primes) and isPrime(concat(q, p), primes)\n",
    "    if result:\n",
    "        memo.add(q)\n",
    "    return result"
   ]
  },
  {
   "cell_type": "code",
   "execution_count": 436,
   "id": "17106b8d",
   "metadata": {},
   "outputs": [],
   "source": [
    "def concat(a, b):\n",
    "    numTens = math.floor(math.log10(b)) + 1\n",
    "    return a * 10**numTens + b"
   ]
  },
  {
   "cell_type": "code",
   "execution_count": 437,
   "id": "5016fd37",
   "metadata": {},
   "outputs": [],
   "source": [
    "def generatePrimesTo(n):\n",
    "    primes = [2,3,5,7]\n",
    "    i = 11\n",
    "    while i < n:\n",
    "        for j in [0, 2, 6, 8]:\n",
    "            if isPrime(i+j, primes):\n",
    "                primes.append(i+j)\n",
    "        i += 10\n",
    "    while primes[-1] > n:\n",
    "        primes.pop()\n",
    "    return primes"
   ]
  },
  {
   "cell_type": "code",
   "execution_count": 438,
   "id": "82d3e07b",
   "metadata": {},
   "outputs": [],
   "source": [
    "def isPrime(n, primes):\n",
    "    if n < 11:\n",
    "        return False if n not in [2,3,5,7] else True\n",
    "    i = 0\n",
    "    root = math.floor(n**0.5)\n",
    "    while i < len(primes) and primes[i] <= root:\n",
    "        if n % primes[i] == 0:\n",
    "            return False\n",
    "        i += 1\n",
    "    return True"
   ]
  },
  {
   "cell_type": "code",
   "execution_count": 439,
   "id": "9c962399",
   "metadata": {},
   "outputs": [
    {
     "name": "stdout",
     "output_type": "stream",
     "text": [
      "[13, 5197, 5701, 6733, 8389]\n"
     ]
    },
    {
     "data": {
      "text/plain": [
       "26033"
      ]
     },
     "execution_count": 439,
     "metadata": {},
     "output_type": "execute_result"
    }
   ],
   "source": [
    "primePairSets(5)"
   ]
  },
  {
   "cell_type": "code",
   "execution_count": null,
   "id": "dca22f56",
   "metadata": {},
   "outputs": [],
   "source": []
  }
 ],
 "metadata": {
  "kernelspec": {
   "display_name": "Python 3 (ipykernel)",
   "language": "python",
   "name": "python3"
  },
  "language_info": {
   "codemirror_mode": {
    "name": "ipython",
    "version": 3
   },
   "file_extension": ".py",
   "mimetype": "text/x-python",
   "name": "python",
   "nbconvert_exporter": "python",
   "pygments_lexer": "ipython3",
   "version": "3.11.5"
  }
 },
 "nbformat": 4,
 "nbformat_minor": 5
}
