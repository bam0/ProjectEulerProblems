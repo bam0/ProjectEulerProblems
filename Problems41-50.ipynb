{
 "cells": [
  {
   "cell_type": "markdown",
   "id": "f5cbbeae",
   "metadata": {},
   "source": [
    "# Project Euler\n",
    "## Problems 41 - 50\n",
    "\n",
    "### ************************"
   ]
  },
  {
   "cell_type": "markdown",
   "id": "21a42002",
   "metadata": {},
   "source": [
    "## Problem #41"
   ]
  },
  {
   "cell_type": "markdown",
   "id": "8a49fc67",
   "metadata": {},
   "source": [
    "What is the largest n-digit pandigital prime that exists?"
   ]
  },
  {
   "cell_type": "code",
   "execution_count": 25,
   "id": "a35e76b1",
   "metadata": {},
   "outputs": [],
   "source": [
    "import math"
   ]
  },
  {
   "cell_type": "code",
   "execution_count": 23,
   "id": "9e368b52",
   "metadata": {},
   "outputs": [],
   "source": [
    "def largestPandigitalPrime():\n",
    "    digs = list(range(7, 0, -1))\n",
    "    cap = fac(len(digs))\n",
    "    nthOrder = 1\n",
    "    primes = generatePrimesTo(math.floor(7654321**0.5))\n",
    "    while nthOrder < cap:\n",
    "        curVal = arrayToNumber(nthLexicographic(nthOrder, digs))\n",
    "        if isPrime(curVal, primes):\n",
    "            return curVal\n",
    "        nthOrder += 1\n",
    "    return None"
   ]
  },
  {
   "cell_type": "code",
   "execution_count": 13,
   "id": "2aadcc2b",
   "metadata": {},
   "outputs": [],
   "source": [
    "def arrayToNumber(digits):\n",
    "    num = digits[0]\n",
    "    for i in range(1, len(digits)):\n",
    "        num *= 10\n",
    "        num += digits[i]\n",
    "    return num"
   ]
  },
  {
   "cell_type": "code",
   "execution_count": 17,
   "id": "09eb546c",
   "metadata": {},
   "outputs": [],
   "source": [
    "def nthLexicographic(n, digits):\n",
    "    if n <= 1 or len(digits) == 1:\n",
    "        return digits\n",
    "    f = fac(len(digits)-1)\n",
    "    if n <= f:\n",
    "        return [digits[0]] + nthLexicographic(n, digits[1:])\n",
    "    q, rem = divmod(n-1, f)\n",
    "    if q+1 >= len(digits):\n",
    "        return [digits[-1]] + nthLexicographic(rem+1, digits[:len(digits)-1])\n",
    "    return [digits[q]] + nthLexicographic(rem+1, digits[:q] + digits[q+1:])"
   ]
  },
  {
   "cell_type": "code",
   "execution_count": 18,
   "id": "20eb4e29",
   "metadata": {},
   "outputs": [],
   "source": [
    "def fac(n):\n",
    "    prod = 1\n",
    "    for i in range(2, n+1):\n",
    "        prod *= i\n",
    "    return prod"
   ]
  },
  {
   "cell_type": "code",
   "execution_count": 19,
   "id": "c0553851",
   "metadata": {},
   "outputs": [],
   "source": [
    "def generatePrimesTo(n):\n",
    "    primes = [2,3,5,7]\n",
    "    i = 11\n",
    "    while i < n:\n",
    "        for j in [0, 2, 6, 8]:\n",
    "            if isPrime(i+j, primes):\n",
    "                primes.append(i+j)\n",
    "        i += 10\n",
    "    while primes[-1] > n:\n",
    "        primes.pop()\n",
    "    return primes"
   ]
  },
  {
   "cell_type": "code",
   "execution_count": 20,
   "id": "d6cb10c7",
   "metadata": {},
   "outputs": [],
   "source": [
    "def isPrime(n, primes):\n",
    "    if n < 11:\n",
    "        return False if n not in [2,3,5,7] else True\n",
    "    i = 0\n",
    "    root = math.floor(n**0.5)\n",
    "    while i < len(primes) and primes[i] <= root:\n",
    "        if n % primes[i] == 0:\n",
    "            return False\n",
    "        i += 1\n",
    "    return True"
   ]
  },
  {
   "cell_type": "code",
   "execution_count": 26,
   "id": "672a7080",
   "metadata": {},
   "outputs": [
    {
     "data": {
      "text/plain": [
       "7652413"
      ]
     },
     "execution_count": 26,
     "metadata": {},
     "output_type": "execute_result"
    }
   ],
   "source": [
    "largestPandigitalPrime()"
   ]
  },
  {
   "cell_type": "markdown",
   "id": "ebafca9a",
   "metadata": {},
   "source": [
    "## Problem #42"
   ]
  },
  {
   "cell_type": "markdown",
   "id": "f2903b47",
   "metadata": {},
   "source": [
    "Using words.txt, a 16K text file containing nearly two-thousand common English words, how many are triangle words?"
   ]
  },
  {
   "cell_type": "code",
   "execution_count": 48,
   "id": "651005cc",
   "metadata": {},
   "outputs": [],
   "source": [
    "def howManyTriangleWords(filename):\n",
    "    with open(filename, 'r') as f:\n",
    "        words = ''.join(f.readlines()).split('\\\",\\\"')\n",
    "        words[0] = words[0].strip('\\\"')\n",
    "        words[-1] = words[-1].strip('\\\"')\n",
    "    bet = alphabetDictMaker()\n",
    "    tris = trianglesBelow(2600)\n",
    "    count = 0\n",
    "    for word in words:\n",
    "        score = calcWordScore(word, bet)\n",
    "        if score in tris:\n",
    "            count += 1\n",
    "    return count"
   ]
  },
  {
   "cell_type": "code",
   "execution_count": 45,
   "id": "fcc5b635",
   "metadata": {},
   "outputs": [],
   "source": [
    "def alphabetDictMaker():\n",
    "    alphabet = \"ABCDEFGHIJKLMNOPQRSTUVWXYZ\"\n",
    "    bet = {}\n",
    "    for i, char in enumerate(alphabet):\n",
    "        bet[char] = i + 1\n",
    "    return bet"
   ]
  },
  {
   "cell_type": "code",
   "execution_count": 46,
   "id": "e35775d4",
   "metadata": {},
   "outputs": [],
   "source": [
    "def calcWordScore(word, bet):\n",
    "    total = 0\n",
    "    for char in word:\n",
    "        total += bet[char]\n",
    "    return total"
   ]
  },
  {
   "cell_type": "code",
   "execution_count": 47,
   "id": "7e46fb2f",
   "metadata": {},
   "outputs": [],
   "source": [
    "def triangle(n):\n",
    "    return n * (n + 1) // 2"
   ]
  },
  {
   "cell_type": "code",
   "execution_count": 40,
   "id": "3aa32bd6",
   "metadata": {},
   "outputs": [],
   "source": [
    "def trianglesBelow(cap):\n",
    "    n = 1\n",
    "    t = triangle(n)\n",
    "    tris = set()\n",
    "    while t < cap:\n",
    "        tris.add(t)\n",
    "        n += 1\n",
    "        t = triangle(n)\n",
    "    return tris"
   ]
  },
  {
   "cell_type": "code",
   "execution_count": 49,
   "id": "2a403d71",
   "metadata": {},
   "outputs": [
    {
     "data": {
      "text/plain": [
       "162"
      ]
     },
     "execution_count": 49,
     "metadata": {},
     "output_type": "execute_result"
    }
   ],
   "source": [
    "howManyTriangleWords('triangleWords_p42.txt')"
   ]
  },
  {
   "cell_type": "markdown",
   "id": "f4bdd9fb",
   "metadata": {},
   "source": [
    "## Problem #43"
   ]
  },
  {
   "cell_type": "markdown",
   "id": "64f92ffc",
   "metadata": {},
   "source": [
    "Find the sum of all 0 to 9 pandigital numbers with this substring divisibility property."
   ]
  },
  {
   "cell_type": "code",
   "execution_count": 81,
   "id": "a5dc98e3",
   "metadata": {},
   "outputs": [],
   "source": [
    "def pandigitalDivisibility():\n",
    "    pans = getInitialPans(17)\n",
    "    for p in [13,11,7,5,3,2]:\n",
    "        newPans = []\n",
    "        for pan, arr in pans:\n",
    "            for i in range(10):\n",
    "                if arr[i] == 1:\n",
    "                    continue\n",
    "                clone = arr.copy()\n",
    "                testNum = 100 * i + pan[0] * 10 + pan[1]\n",
    "                if testNum % p == 0:\n",
    "                    clone[i] = 1\n",
    "                    newPans.append([[i] + pan, clone])\n",
    "        pans = newPans\n",
    "    finalPans = []\n",
    "    for pan, arr in pans:\n",
    "        for i in range(10):\n",
    "            if arr[i] == 0:\n",
    "                finalPans.append(arrayToNumber([i] + pan))\n",
    "                break\n",
    "    print(finalPans)\n",
    "    return sum(finalPans)"
   ]
  },
  {
   "cell_type": "code",
   "execution_count": 75,
   "id": "7ae5f439",
   "metadata": {},
   "outputs": [],
   "source": [
    "def getInitialPans(p):\n",
    "    initialVals = []\n",
    "    for i in range(p, 1000, p):\n",
    "        initialVals.append(digitizer(i))\n",
    "    pans = []\n",
    "    for val in initialVals:\n",
    "        arr = [0 for i in range(10)]\n",
    "        isGood = True\n",
    "        for digit in val:\n",
    "            if arr[digit] == 1:\n",
    "                isGood = False\n",
    "                break\n",
    "            arr[digit] = 1\n",
    "        if isGood:\n",
    "            pans.append([val, arr])\n",
    "    return pans"
   ]
  },
  {
   "cell_type": "code",
   "execution_count": 78,
   "id": "846127b5",
   "metadata": {},
   "outputs": [],
   "source": [
    "def arrayToNumber(digits):\n",
    "    num = digits[0]\n",
    "    for i in range(1, len(digits)):\n",
    "        num *= 10\n",
    "        num += digits[i]\n",
    "    return num"
   ]
  },
  {
   "cell_type": "code",
   "execution_count": 76,
   "id": "5673a23a",
   "metadata": {},
   "outputs": [],
   "source": [
    "def digitizer(n):\n",
    "    digits = []\n",
    "    while n > 0:\n",
    "        n, rem = divmod(n, 10)\n",
    "        digits.append(rem)\n",
    "    if len(digits) < 3:\n",
    "        digits = digits + [0]*(3-len(digits))\n",
    "    return digits[::-1]"
   ]
  },
  {
   "cell_type": "code",
   "execution_count": 82,
   "id": "b7dc8a77",
   "metadata": {},
   "outputs": [
    {
     "name": "stdout",
     "output_type": "stream",
     "text": [
      "[4160357289, 1460357289, 4106357289, 1406357289, 4130952867, 1430952867]\n"
     ]
    },
    {
     "data": {
      "text/plain": [
       "16695334890"
      ]
     },
     "execution_count": 82,
     "metadata": {},
     "output_type": "execute_result"
    }
   ],
   "source": [
    "pandigitalDivisibility()"
   ]
  },
  {
   "cell_type": "markdown",
   "id": "2a890574",
   "metadata": {},
   "source": [
    "## Problem #44"
   ]
  },
  {
   "cell_type": "markdown",
   "id": "e1a4fdb3",
   "metadata": {},
   "source": [
    "Find the pair of pentagonal numbers, Pj and Pk, for which their sum and difference are pentagonal and D = |Pk - Pj| is minimised; what is the value of D?"
   ]
  },
  {
   "cell_type": "code",
   "execution_count": 91,
   "id": "ac3cece5",
   "metadata": {},
   "outputs": [],
   "source": [
    "def findMinPentDiff():\n",
    "    pentList = [1, 5, 12]\n",
    "    pentSet = set(pentList)\n",
    "    i = 4\n",
    "    while True:\n",
    "        curPent = pent(i)\n",
    "        for j in range(i-4, 1, -1):\n",
    "            other = pentList[j]\n",
    "            if curPent - other in pentSet:\n",
    "                if other - (curPent - other) in pentSet:\n",
    "                    return 2 * other - curPent\n",
    "        pentSet.add(curPent)\n",
    "        pentList.append(curPent)\n",
    "        i += 1"
   ]
  },
  {
   "cell_type": "code",
   "execution_count": 89,
   "id": "e712d65b",
   "metadata": {},
   "outputs": [],
   "source": [
    "def pent(n):\n",
    "    return n * (3*n - 1) // 2"
   ]
  },
  {
   "cell_type": "code",
   "execution_count": 92,
   "id": "afcb74d7",
   "metadata": {},
   "outputs": [
    {
     "data": {
      "text/plain": [
       "5482660"
      ]
     },
     "execution_count": 92,
     "metadata": {},
     "output_type": "execute_result"
    }
   ],
   "source": [
    "findMinPentDiff()"
   ]
  },
  {
   "cell_type": "markdown",
   "id": "58d9f421",
   "metadata": {},
   "source": [
    "## Problem #45"
   ]
  },
  {
   "cell_type": "markdown",
   "id": "4ea92490",
   "metadata": {},
   "source": [
    "Find the next triangle number after 40755 that is also pentagonal and hexagonal."
   ]
  },
  {
   "cell_type": "code",
   "execution_count": 99,
   "id": "b4774aa0",
   "metadata": {},
   "outputs": [],
   "source": [
    "def findNextTriPenHex():\n",
    "    i = 1\n",
    "    tris, pents, hexes = set(), set(), set()\n",
    "    count = 0\n",
    "    while count < 2:\n",
    "        t = triangle(i)\n",
    "        if t in pents and t in hexes:\n",
    "            count += 1\n",
    "        tris.add(t)\n",
    "        pents.add(pent(i))\n",
    "        hexes.add(hexa(i))\n",
    "        i += 1\n",
    "    return t"
   ]
  },
  {
   "cell_type": "code",
   "execution_count": 93,
   "id": "0092b5ee",
   "metadata": {},
   "outputs": [],
   "source": [
    "def triangle(n):\n",
    "    return n * (n + 1) // 2"
   ]
  },
  {
   "cell_type": "code",
   "execution_count": 94,
   "id": "cde13d8a",
   "metadata": {},
   "outputs": [],
   "source": [
    "def pent(n):\n",
    "    return n * (3*n - 1) // 2"
   ]
  },
  {
   "cell_type": "code",
   "execution_count": 96,
   "id": "a7fe6e81",
   "metadata": {},
   "outputs": [],
   "source": [
    "def hexa(n):\n",
    "    return n * (2*n - 1)"
   ]
  },
  {
   "cell_type": "code",
   "execution_count": 100,
   "id": "a33e7b5b",
   "metadata": {},
   "outputs": [
    {
     "data": {
      "text/plain": [
       "1533776805"
      ]
     },
     "execution_count": 100,
     "metadata": {},
     "output_type": "execute_result"
    }
   ],
   "source": [
    "findNextTriPenHex()"
   ]
  },
  {
   "cell_type": "markdown",
   "id": "1b6e8aad",
   "metadata": {},
   "source": [
    "## Problem #46"
   ]
  },
  {
   "cell_type": "markdown",
   "id": "885a9503",
   "metadata": {},
   "source": [
    "What is the smallest odd composite that cannot be written as the sum of a prime and twice a square?"
   ]
  },
  {
   "cell_type": "code",
   "execution_count": 114,
   "id": "b1f803d5",
   "metadata": {},
   "outputs": [],
   "source": [
    "import math"
   ]
  },
  {
   "cell_type": "code",
   "execution_count": 123,
   "id": "559066a2",
   "metadata": {},
   "outputs": [],
   "source": [
    "def disproveGoldbach():\n",
    "    oddPrimes = [3, 5, 7]\n",
    "    curNum = 9\n",
    "    while True:\n",
    "        if isPrime(curNum, oddPrimes):\n",
    "            oddPrimes.append(curNum)\n",
    "        else:\n",
    "            idx = 0\n",
    "            didFind = False\n",
    "            while idx < len(oddPrimes):\n",
    "                check = (curNum - oddPrimes[idx]) // 2\n",
    "                if isSquare(check):\n",
    "                    didFind = True\n",
    "                    break\n",
    "                idx += 1\n",
    "            if not didFind:\n",
    "                return curNum\n",
    "        curNum += 2"
   ]
  },
  {
   "cell_type": "code",
   "execution_count": 117,
   "id": "952a78a6",
   "metadata": {},
   "outputs": [],
   "source": [
    "def isPrime(n, primes):\n",
    "    if n < 11:\n",
    "        return False if n not in [2,3,5,7] else True\n",
    "    i = 0\n",
    "    root = math.floor(n**0.5)\n",
    "    while i < len(primes) and primes[i] <= root:\n",
    "        if n % primes[i] == 0:\n",
    "            return False\n",
    "        i += 1\n",
    "    return True"
   ]
  },
  {
   "cell_type": "code",
   "execution_count": 118,
   "id": "f8fbe519",
   "metadata": {},
   "outputs": [],
   "source": [
    "def isSquare(n):\n",
    "    root = n**0.5\n",
    "    return root == math.floor(root) + 0.0"
   ]
  },
  {
   "cell_type": "code",
   "execution_count": 124,
   "id": "ebfb74a9",
   "metadata": {},
   "outputs": [
    {
     "data": {
      "text/plain": [
       "5777"
      ]
     },
     "execution_count": 124,
     "metadata": {},
     "output_type": "execute_result"
    }
   ],
   "source": [
    "disproveGoldbach()"
   ]
  },
  {
   "cell_type": "markdown",
   "id": "7ddd5d8d",
   "metadata": {},
   "source": [
    "## Problem #47"
   ]
  },
  {
   "cell_type": "markdown",
   "id": "2fd1e5b4",
   "metadata": {},
   "source": [
    "Find the first four consecutive integers to have four distinct prime factors each. What is the first of these numbers?"
   ]
  },
  {
   "cell_type": "code",
   "execution_count": 125,
   "id": "ed3126d6",
   "metadata": {},
   "outputs": [],
   "source": [
    "import math"
   ]
  },
  {
   "cell_type": "code",
   "execution_count": 144,
   "id": "79379c83",
   "metadata": {},
   "outputs": [],
   "source": [
    "def fourConsecutiveFourFactors():\n",
    "    primes = generatePrimesTo(2*3*5*7)\n",
    "    i = 2*3*5*7\n",
    "    notFound = True\n",
    "    while notFound:\n",
    "        facs = primeFactors(i, primes)\n",
    "        if len(facs) == 1:\n",
    "            primes.append(list(facs)[0])\n",
    "        elif len(facs) == 4:\n",
    "            notFound = False\n",
    "            for _ in range(3):\n",
    "                i += 1\n",
    "                facs = primeFactors(i, primes)\n",
    "                if len(facs) == 1:\n",
    "                    primes.append(list(facs)[0])\n",
    "                    notFound = True\n",
    "                    break\n",
    "                elif len(facs) != 4:\n",
    "                    notFound = True\n",
    "                    break\n",
    "        i += 1\n",
    "    return i - 4"
   ]
  },
  {
   "cell_type": "code",
   "execution_count": 131,
   "id": "85eb9280",
   "metadata": {},
   "outputs": [],
   "source": [
    "def primeFactors(n, primes):\n",
    "    i = 0\n",
    "    root = math.floor(n**0.5)\n",
    "    factors = set()\n",
    "    while primes[i] <= root:\n",
    "        while n % primes[i] == 0:\n",
    "            n //= primes[i]\n",
    "            factors.add(primes[i])\n",
    "        if n == 1:\n",
    "            break\n",
    "        i += 1\n",
    "    if n > 1:\n",
    "        factors.add(n)\n",
    "    return factors"
   ]
  },
  {
   "cell_type": "code",
   "execution_count": 139,
   "id": "270017a7",
   "metadata": {},
   "outputs": [],
   "source": [
    "def generatePrimesTo(n):\n",
    "    primes = [2,3,5,7]\n",
    "    i = 11\n",
    "    while i < n:\n",
    "        for j in [0, 2, 6, 8]:\n",
    "            if isPrime(i+j, primes):\n",
    "                primes.append(i+j)\n",
    "        i += 10\n",
    "    while primes[-1] > n:\n",
    "        primes.pop()\n",
    "    return primes"
   ]
  },
  {
   "cell_type": "code",
   "execution_count": 138,
   "id": "22c561ee",
   "metadata": {},
   "outputs": [],
   "source": [
    "def isPrime(n, primes):\n",
    "    if n < 11:\n",
    "        return False if n not in [2,3,5,7] else True\n",
    "    i = 0\n",
    "    root = math.floor(n**0.5)\n",
    "    while i < len(primes) and primes[i] <= root:\n",
    "        if n % primes[i] == 0:\n",
    "            return False\n",
    "        i += 1\n",
    "    return True"
   ]
  },
  {
   "cell_type": "code",
   "execution_count": 146,
   "id": "ae12ba60",
   "metadata": {},
   "outputs": [
    {
     "data": {
      "text/plain": [
       "134043"
      ]
     },
     "execution_count": 146,
     "metadata": {},
     "output_type": "execute_result"
    }
   ],
   "source": [
    "fourConsecutiveFourFactors()"
   ]
  },
  {
   "cell_type": "markdown",
   "id": "b0e25cfb",
   "metadata": {},
   "source": [
    "## Problem #48"
   ]
  },
  {
   "cell_type": "markdown",
   "id": "85c67bd4",
   "metadata": {},
   "source": [
    "Find the last ten digits of the series 1^1 + 2^2 + ... + 1000^1000. "
   ]
  },
  {
   "cell_type": "code",
   "execution_count": 147,
   "id": "a276ff6d",
   "metadata": {},
   "outputs": [],
   "source": [
    "def lastTenOfPowers(n):\n",
    "    mod = 10**10\n",
    "    total = 0\n",
    "    for i in range(1, n+1):\n",
    "        total += i**i\n",
    "        total %= mod\n",
    "    return total"
   ]
  },
  {
   "cell_type": "code",
   "execution_count": 151,
   "id": "8bbf04f9",
   "metadata": {},
   "outputs": [
    {
     "data": {
      "text/plain": [
       "9110846700"
      ]
     },
     "execution_count": 151,
     "metadata": {},
     "output_type": "execute_result"
    }
   ],
   "source": [
    "lastTenOfPowers(1000)"
   ]
  },
  {
   "cell_type": "markdown",
   "id": "2645e775",
   "metadata": {},
   "source": [
    "## Problem #49"
   ]
  },
  {
   "cell_type": "markdown",
   "id": "92f515db",
   "metadata": {},
   "source": [
    "What 12-digit number do you form by concatenating the three terms in this sequence of 4-digit prime permutations?"
   ]
  },
  {
   "cell_type": "code",
   "execution_count": 194,
   "id": "c2b548a1",
   "metadata": {},
   "outputs": [],
   "source": [
    "def findFourDigitPrimeSequences():\n",
    "    fourPrimes = getFourDigitPrimes()\n",
    "    fourSet = set(fourPrimes)\n",
    "    count = 0\n",
    "    perms = []\n",
    "    for i in range(len(fourPrimes)-1, 1, -1):\n",
    "        for j in range(i-1, 0, -1):\n",
    "            p1, p2 = fourPrimes[i], fourPrimes[j]\n",
    "            if p1 - p2 > 5000:\n",
    "                break\n",
    "            p3 = 2 * p2 - p1\n",
    "            if p3 in fourSet:\n",
    "                if checkPermutation([p1, p2, p3]):\n",
    "                    count += 1\n",
    "                    perms.append([p3, p2, p1])\n",
    "                    if count > 1:\n",
    "                        for i in range(2):\n",
    "                            perms[i] = ''.join([str(x) for x in perms[i]])\n",
    "                        return perms"
   ]
  },
  {
   "cell_type": "code",
   "execution_count": 169,
   "id": "c8c5d38e",
   "metadata": {},
   "outputs": [],
   "source": [
    "def checkPermutation(nums):\n",
    "    arr = digitArray(nums[0])\n",
    "    for i in range(1, len(nums)):\n",
    "        if arr != digitArray(nums[i]):\n",
    "            return False\n",
    "    return True"
   ]
  },
  {
   "cell_type": "code",
   "execution_count": 170,
   "id": "85c066e3",
   "metadata": {},
   "outputs": [],
   "source": [
    "def digitArray(n):\n",
    "    arr = [0 for i in range(10)]\n",
    "    while n > 0:\n",
    "        n, rem = divmod(n, 10)\n",
    "        arr[rem] += 1\n",
    "    return arr"
   ]
  },
  {
   "cell_type": "code",
   "execution_count": 171,
   "id": "65e9efe1",
   "metadata": {},
   "outputs": [],
   "source": [
    "def getFourDigitPrimes():\n",
    "    primes = generatePrimesTo(101)\n",
    "    fourDigPrimes = []\n",
    "    for i in range(1001, 10000, 2):\n",
    "        if isPrime(i, primes):\n",
    "            fourDigPrimes.append(i)\n",
    "    return fourDigPrimes"
   ]
  },
  {
   "cell_type": "code",
   "execution_count": 172,
   "id": "db2c63b2",
   "metadata": {},
   "outputs": [],
   "source": [
    "def generatePrimesTo(n):\n",
    "    primes = [2,3,5,7]\n",
    "    i = 11\n",
    "    while i < n:\n",
    "        for j in [0, 2, 6, 8]:\n",
    "            if isPrime(i+j, primes):\n",
    "                primes.append(i+j)\n",
    "        i += 10\n",
    "    while primes[-1] > n:\n",
    "        primes.pop()\n",
    "    return primes"
   ]
  },
  {
   "cell_type": "code",
   "execution_count": 173,
   "id": "5644cb4e",
   "metadata": {},
   "outputs": [],
   "source": [
    "def isPrime(n, primes):\n",
    "    if n < 11:\n",
    "        return False if n not in [2,3,5,7] else True\n",
    "    i = 0\n",
    "    root = math.floor(n**0.5)\n",
    "    while i < len(primes) and primes[i] <= root:\n",
    "        if n % primes[i] == 0:\n",
    "            return False\n",
    "        i += 1\n",
    "    return True"
   ]
  },
  {
   "cell_type": "code",
   "execution_count": 195,
   "id": "aa498c0f",
   "metadata": {},
   "outputs": [
    {
     "data": {
      "text/plain": [
       "['296962999629', '148748178147']"
      ]
     },
     "execution_count": 195,
     "metadata": {},
     "output_type": "execute_result"
    }
   ],
   "source": [
    "findFourDigitPrimeSequences()"
   ]
  },
  {
   "cell_type": "markdown",
   "id": "9749338a",
   "metadata": {},
   "source": [
    "## Problem #50"
   ]
  },
  {
   "cell_type": "markdown",
   "id": "2a9b6f4c",
   "metadata": {},
   "source": [
    "Which prime, below one-million, can be written as the sum of the most consecutive primes?"
   ]
  },
  {
   "cell_type": "code",
   "execution_count": 196,
   "id": "a667b509",
   "metadata": {},
   "outputs": [],
   "source": [
    "import math"
   ]
  },
  {
   "cell_type": "code",
   "execution_count": 206,
   "id": "dda7897e",
   "metadata": {},
   "outputs": [],
   "source": [
    "def mostConsecutivePrimes():\n",
    "    primes = generatePrimesTo(5000)\n",
    "    primeSums = []\n",
    "    total = 0\n",
    "    for p in primes:\n",
    "        total += p\n",
    "        primeSums.append(total)\n",
    "    maxLength, maxPrime = 6, 41\n",
    "    for i in range(6, len(primeSums)):\n",
    "        if isPrime(primeSums[i], primes):\n",
    "            if primeSums[i] > 1000000:\n",
    "                continue\n",
    "            maxLength, maxPrime = i+1, primeSums[i]\n",
    "            continue\n",
    "        for j in range(i - maxLength, -1, -1):\n",
    "            val = primeSums[i] - primeSums[j]\n",
    "            if val > 1000000:\n",
    "                break\n",
    "            if isPrime(val, primes):\n",
    "                maxLength, maxPrime = i - j, val\n",
    "    print(maxLength)\n",
    "    return maxPrime"
   ]
  },
  {
   "cell_type": "code",
   "execution_count": 197,
   "id": "d12afd58",
   "metadata": {},
   "outputs": [],
   "source": [
    "def generatePrimesTo(n):\n",
    "    primes = [2,3,5,7]\n",
    "    i = 11\n",
    "    while i < n:\n",
    "        for j in [0, 2, 6, 8]:\n",
    "            if isPrime(i+j, primes):\n",
    "                primes.append(i+j)\n",
    "        i += 10\n",
    "    while primes[-1] > n:\n",
    "        primes.pop()\n",
    "    return primes"
   ]
  },
  {
   "cell_type": "code",
   "execution_count": 198,
   "id": "ce7b99bb",
   "metadata": {},
   "outputs": [],
   "source": [
    "def isPrime(n, primes):\n",
    "    if n < 11:\n",
    "        return False if n not in [2,3,5,7] else True\n",
    "    i = 0\n",
    "    root = math.floor(n**0.5)\n",
    "    while i < len(primes) and primes[i] <= root:\n",
    "        if n % primes[i] == 0:\n",
    "            return False\n",
    "        i += 1\n",
    "    return True"
   ]
  },
  {
   "cell_type": "code",
   "execution_count": 208,
   "id": "10180af9",
   "metadata": {},
   "outputs": [
    {
     "name": "stdout",
     "output_type": "stream",
     "text": [
      "543\n"
     ]
    },
    {
     "data": {
      "text/plain": [
       "997651"
      ]
     },
     "execution_count": 208,
     "metadata": {},
     "output_type": "execute_result"
    }
   ],
   "source": [
    "mostConsecutivePrimes()"
   ]
  },
  {
   "cell_type": "code",
   "execution_count": null,
   "id": "62c502b4",
   "metadata": {},
   "outputs": [],
   "source": []
  }
 ],
 "metadata": {
  "kernelspec": {
   "display_name": "Python 3 (ipykernel)",
   "language": "python",
   "name": "python3"
  },
  "language_info": {
   "codemirror_mode": {
    "name": "ipython",
    "version": 3
   },
   "file_extension": ".py",
   "mimetype": "text/x-python",
   "name": "python",
   "nbconvert_exporter": "python",
   "pygments_lexer": "ipython3",
   "version": "3.11.5"
  }
 },
 "nbformat": 4,
 "nbformat_minor": 5
}
