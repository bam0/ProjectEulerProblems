{
 "cells": [
  {
   "cell_type": "markdown",
   "id": "8a6820fc",
   "metadata": {},
   "source": [
    "# Project Euler\n",
    "## Problems 61 - 70\n",
    "\n",
    "### ************************"
   ]
  },
  {
   "cell_type": "markdown",
   "id": "a199ce18",
   "metadata": {},
   "source": [
    "## Problem #61"
   ]
  },
  {
   "cell_type": "markdown",
   "id": "ee859713",
   "metadata": {},
   "source": [
    "Find the sum of the only ordered set of six cyclic -digit numbers for which each polygonal type: triangle, square, pentagonal, hexagonal, heptagonal, and octagonal, is represented by a different number in the set."
   ]
  },
  {
   "cell_type": "code",
   "execution_count": 14,
   "id": "9b86174a",
   "metadata": {},
   "outputs": [],
   "source": [
    "def cyclicalFigurateNumbers():\n",
    "    fourDigs = generateFourDigitFigurates()\n",
    "    for val in fourDigs.values():\n",
    "        if checkTwoDigits(val, fourDigs, []):\n",
    "            break"
   ]
  },
  {
   "cell_type": "code",
   "execution_count": 16,
   "id": "0910df4d",
   "metadata": {},
   "outputs": [],
   "source": [
    "def checkTwoDigits(pairs, fourDigs, figList):\n",
    "    if len(figList) == 6:\n",
    "        val = figList[-1][0]\n",
    "        if val in fourDigs and figList[0] in fourDigs[val]:\n",
    "            print(figList)\n",
    "            print(cyclicSum(figList))\n",
    "            return True\n",
    "        else:\n",
    "            return False\n",
    "    shapes = set()\n",
    "    if len(figList) > 0:\n",
    "        shapes = set(x[1] for x in figList)\n",
    "    truthSet = set()\n",
    "    for pair in pairs:\n",
    "        two, fg = pair\n",
    "        if fg in shapes or two not in fourDigs:\n",
    "            continue\n",
    "        truthSet.add(checkTwoDigits(fourDigs[two], fourDigs, figList + [pair]))\n",
    "    if True in truthSet:\n",
    "        return True\n",
    "    return False"
   ]
  },
  {
   "cell_type": "code",
   "execution_count": 8,
   "id": "6641a163",
   "metadata": {},
   "outputs": [],
   "source": [
    "def generateFourDigitFigurates():\n",
    "    twoDigs = {}\n",
    "    n = 1\n",
    "    while n * (n + 1) // 2 < 10000:\n",
    "        tr = n * (n+1) // 2\n",
    "        sq = n**2\n",
    "        pe = n * (3*n - 1) // 2\n",
    "        hx = n * (2*n - 1)\n",
    "        hp = n * (5*n - 3) // 2\n",
    "        oc = n * (3*n - 2)\n",
    "        figs = [tr, sq, pe, hx, hp, oc]\n",
    "        for i, fig in enumerate(figs):\n",
    "            if 999 < fig and fig < 10000:\n",
    "                firstTwo = (fig - (fig % 100)) // 100\n",
    "                lastTwo = fig % 100\n",
    "                if lastTwo > 9:\n",
    "                    if firstTwo in twoDigs:\n",
    "                        twoDigs[firstTwo].append([lastTwo, i+3])\n",
    "                    else:\n",
    "                        twoDigs[firstTwo] = [[lastTwo, i+3]]\n",
    "        n += 1\n",
    "    return twoDigs"
   ]
  },
  {
   "cell_type": "code",
   "execution_count": 12,
   "id": "9414f6f3",
   "metadata": {},
   "outputs": [],
   "source": [
    "def cyclicSum(pairs):\n",
    "    total = 0\n",
    "    twos = [x[0] for x in pairs]\n",
    "    for i in range(len(twos)):\n",
    "        total += twos[i]*100 + twos[(i+1) % len(twos)]\n",
    "    return total"
   ]
  },
  {
   "cell_type": "code",
   "execution_count": 17,
   "id": "5640401f",
   "metadata": {},
   "outputs": [
    {
     "name": "stdout",
     "output_type": "stream",
     "text": [
      "[[28, 6], [82, 5], [56, 3], [25, 4], [12, 7], [81, 8]]\n",
      "28684\n"
     ]
    }
   ],
   "source": [
    "cyclicalFigurateNumbers()"
   ]
  },
  {
   "cell_type": "markdown",
   "id": "7b3802ca",
   "metadata": {},
   "source": [
    "## Problem #62"
   ]
  },
  {
   "cell_type": "markdown",
   "id": "9b4b543d",
   "metadata": {},
   "source": [
    "Find the smallest cube for which exactly five permutations of its digits are cube."
   ]
  },
  {
   "cell_type": "code",
   "execution_count": 38,
   "id": "57a99b68",
   "metadata": {},
   "outputs": [],
   "source": [
    "def smallestFivePermCube():\n",
    "    n = 1\n",
    "    tupDict = {}\n",
    "    notFound = True\n",
    "    while notFound:\n",
    "        cube = n**3\n",
    "        digCount = digitCountTup(cube)\n",
    "        if digCount in tupDict:\n",
    "            tupDict[digCount].append(cube)\n",
    "            if len(tupDict[digCount]) == 5:\n",
    "                print(tupDict[digCount])\n",
    "                return min(tupDict[digCount])\n",
    "        else:\n",
    "            tupDict[digCount] = [cube]\n",
    "        n += 1\n",
    "    return"
   ]
  },
  {
   "cell_type": "code",
   "execution_count": 18,
   "id": "138ee31a",
   "metadata": {},
   "outputs": [],
   "source": [
    "def digitCountTup(n):\n",
    "    counts = [0 for _ in range(10)]\n",
    "    while n > 0:\n",
    "        n, rem = divmod(n, 10)\n",
    "        counts[rem] += 1\n",
    "    return tuple(counts)"
   ]
  },
  {
   "cell_type": "code",
   "execution_count": 39,
   "id": "3acce104",
   "metadata": {},
   "outputs": [
    {
     "name": "stdout",
     "output_type": "stream",
     "text": [
      "[127035954683, 352045367981, 373559126408, 569310543872, 589323567104]\n"
     ]
    },
    {
     "data": {
      "text/plain": [
       "127035954683"
      ]
     },
     "execution_count": 39,
     "metadata": {},
     "output_type": "execute_result"
    }
   ],
   "source": [
    "smallestFivePermCube()"
   ]
  },
  {
   "cell_type": "markdown",
   "id": "fd5c24e4",
   "metadata": {},
   "source": [
    "## Problem #63"
   ]
  },
  {
   "cell_type": "markdown",
   "id": "697bd099",
   "metadata": {},
   "source": [
    "How many n-digit positive integers exist which are also an nth power?"
   ]
  },
  {
   "cell_type": "code",
   "execution_count": 40,
   "id": "a6f7881f",
   "metadata": {},
   "outputs": [],
   "source": [
    "import math"
   ]
  },
  {
   "cell_type": "code",
   "execution_count": 41,
   "id": "2e3b6d4c",
   "metadata": {},
   "outputs": [],
   "source": [
    "def allNthDigitPowers():\n",
    "    n = 1\n",
    "    k = math.ceil(10**((n-1)/n))\n",
    "    total = 0\n",
    "    while k < 10:\n",
    "        total += 10 - k\n",
    "        n += 1\n",
    "        k = math.ceil(10**((n-1)/n))\n",
    "    return total"
   ]
  },
  {
   "cell_type": "code",
   "execution_count": 42,
   "id": "b7b7d3b5",
   "metadata": {},
   "outputs": [
    {
     "data": {
      "text/plain": [
       "49"
      ]
     },
     "execution_count": 42,
     "metadata": {},
     "output_type": "execute_result"
    }
   ],
   "source": [
    "allNthDigitPowers()"
   ]
  },
  {
   "cell_type": "markdown",
   "id": "e1df672c",
   "metadata": {},
   "source": [
    "## Problem #64"
   ]
  },
  {
   "cell_type": "markdown",
   "id": "3b73fc04",
   "metadata": {},
   "source": [
    "How many continued fractions for N <= 10,000 have an odd period?"
   ]
  },
  {
   "cell_type": "code",
   "execution_count": 25,
   "id": "4a970573",
   "metadata": {},
   "outputs": [],
   "source": [
    "import math"
   ]
  },
  {
   "cell_type": "code",
   "execution_count": 38,
   "id": "67abc360",
   "metadata": {},
   "outputs": [],
   "source": [
    "def oddPeriodFractions(cap):\n",
    "    squares = set(x**2 for x in range(math.ceil(cap**0.5) + 1))\n",
    "    count = 0\n",
    "    for n in range(2, cap+1):\n",
    "        if n in squares:\n",
    "            continue\n",
    "        if continuedFractionLength(n) % 2 == 1:\n",
    "            count += 1\n",
    "    return count"
   ]
  },
  {
   "cell_type": "code",
   "execution_count": 33,
   "id": "eb3523b0",
   "metadata": {},
   "outputs": [],
   "source": [
    "def continuedFractionLength(n):\n",
    "    root = n**0.5\n",
    "    a, b = 1, math.floor(root)\n",
    "    i = 0\n",
    "    pairs = {}\n",
    "    pairs[(a, b)] = i\n",
    "    while True:\n",
    "        i += 1\n",
    "        if n == b**2:\n",
    "            print(a, b, n)\n",
    "        k = math.floor((a * root + a * b) / (n - b**2))\n",
    "        a, b = (n - b**2) // a, -1 * (b - k*((n - b**2) // a))\n",
    "        if (a, b) in pairs:\n",
    "            return i - pairs[(a, b)]\n",
    "        pairs[(a, b)] = i"
   ]
  },
  {
   "cell_type": "code",
   "execution_count": 45,
   "id": "93ccef3e",
   "metadata": {},
   "outputs": [
    {
     "data": {
      "text/plain": [
       "1322"
      ]
     },
     "execution_count": 45,
     "metadata": {},
     "output_type": "execute_result"
    }
   ],
   "source": [
    "oddPeriodFractions(10000)"
   ]
  },
  {
   "cell_type": "markdown",
   "id": "d96d7a02",
   "metadata": {},
   "source": [
    "## Problem #65"
   ]
  },
  {
   "cell_type": "markdown",
   "id": "bc310555",
   "metadata": {},
   "source": [
    "Find the sum of digits in the numerator of the 100th convergent of the continued fraction for e."
   ]
  },
  {
   "cell_type": "code",
   "execution_count": 19,
   "id": "ba070664",
   "metadata": {},
   "outputs": [],
   "source": [
    "def eDigitSum(n):\n",
    "    cons = eConvergents(n)\n",
    "    frac = [cons[-1], 1]\n",
    "    for i in range(n-2, -1, -1):\n",
    "        nextVal = cons[i]\n",
    "        n, d = frac\n",
    "        frac = simplifyFrac(n * nextVal + d, n)\n",
    "    return digSum(frac[0])        "
   ]
  },
  {
   "cell_type": "code",
   "execution_count": 17,
   "id": "0103e97a",
   "metadata": {},
   "outputs": [],
   "source": [
    "def eConvergents(n):\n",
    "    terms = [2]\n",
    "    i = 1\n",
    "    k = 2\n",
    "    while i <= n:\n",
    "        vals = [1, k, 1]\n",
    "        for val in vals:\n",
    "            terms.append(val)\n",
    "            i += 1\n",
    "        k += 2\n",
    "    while i > n:\n",
    "        terms.pop()\n",
    "        i -= 1\n",
    "    return terms"
   ]
  },
  {
   "cell_type": "code",
   "execution_count": 4,
   "id": "1a11e022",
   "metadata": {},
   "outputs": [],
   "source": [
    "def digSum(n):\n",
    "    total = 0\n",
    "    while n > 0:\n",
    "        n, rem = divmod(n, 10)\n",
    "        total += rem\n",
    "    return total"
   ]
  },
  {
   "cell_type": "code",
   "execution_count": 8,
   "id": "561e3426",
   "metadata": {},
   "outputs": [],
   "source": [
    "def simplifyFrac(n, d):\n",
    "    c = gcd(n, d)\n",
    "    return [n // c, d // c]"
   ]
  },
  {
   "cell_type": "code",
   "execution_count": 9,
   "id": "7a251194",
   "metadata": {},
   "outputs": [],
   "source": [
    "def gcd(a, b):\n",
    "    if b == 0:\n",
    "        return a\n",
    "    return gcd(b, a % b)"
   ]
  },
  {
   "cell_type": "code",
   "execution_count": 21,
   "id": "5a11d440",
   "metadata": {},
   "outputs": [
    {
     "data": {
      "text/plain": [
       "272"
      ]
     },
     "execution_count": 21,
     "metadata": {},
     "output_type": "execute_result"
    }
   ],
   "source": [
    "eDigitSum(100)"
   ]
  },
  {
   "cell_type": "markdown",
   "id": "4a6618c1",
   "metadata": {},
   "source": [
    "## Problem #66"
   ]
  },
  {
   "cell_type": "markdown",
   "id": "927f2d53",
   "metadata": {},
   "source": [
    "Find the value of D <= 1,000 in minimal solutions of x for which the largest value of x is obtained in x^2 - D*y^2 = 1."
   ]
  },
  {
   "cell_type": "code",
   "execution_count": 24,
   "id": "dcbeb121",
   "metadata": {},
   "outputs": [],
   "source": [
    "import math"
   ]
  },
  {
   "cell_type": "code",
   "execution_count": 130,
   "id": "279b430f",
   "metadata": {},
   "outputs": [],
   "source": [
    "def bigDiophantine(cap):\n",
    "    squares = set(x**2 for x in range(math.ceil(cap**0.5) + 1))\n",
    "    maxD, maxX, maxY = 0, 0, 0\n",
    "    for i in range(2, cap+1):\n",
    "        if i in squares:\n",
    "            continue\n",
    "        val = diophantineConvergent(i)\n",
    "        if val[0] > maxX:\n",
    "            maxX, maxY = val\n",
    "            maxD = i\n",
    "    print(f'X: {maxX}, Y: {maxY}')\n",
    "    return maxD"
   ]
  },
  {
   "cell_type": "code",
   "execution_count": 127,
   "id": "a7b6c303",
   "metadata": {},
   "outputs": [],
   "source": [
    "def diophantineConvergent(n):\n",
    "    D = n\n",
    "    period = continuedFractionPeriod(D)\n",
    "    start = len(period) - 1 if len(period) < 3 else len(period) - 2\n",
    "    frac = [period[start], 1]\n",
    "    for i in range(start - 1, -1, -1):\n",
    "        nextVal = period[i]\n",
    "        n, d = frac\n",
    "        frac = simplifyFrac(n * nextVal + d, n)\n",
    "    if frac[0]**2 - D * frac[1]**2 == 1:\n",
    "        return frac\n",
    "    frac = [period[start], 1]\n",
    "    for i in range(start - 1, 0, -1):\n",
    "        nextVal = period[i]\n",
    "        n, d = frac\n",
    "        frac = simplifyFrac(n * nextVal + d, n)\n",
    "    for i in range(len(period)-1, -1, -1):\n",
    "        nextVal = period[i]\n",
    "        n, d = frac\n",
    "        frac = simplifyFrac(n * nextVal + d, n)\n",
    "    return frac"
   ]
  },
  {
   "cell_type": "code",
   "execution_count": 89,
   "id": "2babfff8",
   "metadata": {},
   "outputs": [],
   "source": [
    "def continuedFractionPeriod(n):\n",
    "    root = n**0.5\n",
    "    a, b = 1, math.floor(root)\n",
    "    i = 0\n",
    "    pairs = {}\n",
    "    pairs[(a, b)] = i\n",
    "    period = [b]\n",
    "    while True:\n",
    "        i += 1\n",
    "        if n == b**2:\n",
    "            print(a, b, n)\n",
    "        k = math.floor((a * root + a * b) / (n - b**2))\n",
    "        period.append(k)\n",
    "        a, b = (n - b**2) // a, -1 * (b - k*((n - b**2) // a))\n",
    "        if (a, b) in pairs:\n",
    "            return period\n",
    "        pairs[(a, b)] = i"
   ]
  },
  {
   "cell_type": "code",
   "execution_count": 90,
   "id": "69869bc1",
   "metadata": {},
   "outputs": [],
   "source": [
    "def simplifyFrac(n, d):\n",
    "    c = gcd(n, d)\n",
    "    return [n // c, d // c]"
   ]
  },
  {
   "cell_type": "code",
   "execution_count": 91,
   "id": "e7efa3d9",
   "metadata": {},
   "outputs": [],
   "source": [
    "def gcd(a, b):\n",
    "    if b == 0:\n",
    "        return a\n",
    "    return gcd(b, a % b)"
   ]
  },
  {
   "cell_type": "code",
   "execution_count": 131,
   "id": "b1c8e2ee",
   "metadata": {},
   "outputs": [
    {
     "name": "stdout",
     "output_type": "stream",
     "text": [
      "X: 16421658242965910275055840472270471049, Y: 638728478116949861246791167518480580\n"
     ]
    },
    {
     "data": {
      "text/plain": [
       "661"
      ]
     },
     "execution_count": 131,
     "metadata": {},
     "output_type": "execute_result"
    }
   ],
   "source": [
    "bigDiophantine(1000)"
   ]
  },
  {
   "cell_type": "markdown",
   "id": "4dd81956",
   "metadata": {},
   "source": [
    "## Problem #67"
   ]
  },
  {
   "cell_type": "markdown",
   "id": "ad2d3bb0",
   "metadata": {},
   "source": [
    "Find the maximum total from top to bottom in the triangle, a 15K text file containing a triangle with one-hundred rows."
   ]
  },
  {
   "cell_type": "code",
   "execution_count": 132,
   "id": "b755d6de",
   "metadata": {},
   "outputs": [],
   "source": [
    "def maxTopBottom(arr):\n",
    "    for r in range(1, len(arr)):\n",
    "        arr[r][0] += arr[r-1][0]\n",
    "        for c in range(1, len(arr[r])-1):\n",
    "            arr[r][c] += max(arr[r-1][c-1], arr[r-1][c])\n",
    "        arr[r][-1] += arr[r-1][-1]\n",
    "    return max(arr[-1])"
   ]
  },
  {
   "cell_type": "code",
   "execution_count": 133,
   "id": "8d0c5e6d",
   "metadata": {},
   "outputs": [],
   "source": [
    "def getTriangleArray(filename):\n",
    "    arr = []\n",
    "    with open(filename, 'r') as f:\n",
    "        for line in f.readlines():\n",
    "            line = line.strip()\n",
    "            row = [int(x) for x in line.split()]\n",
    "            arr.append(row)\n",
    "    return arr"
   ]
  },
  {
   "cell_type": "code",
   "execution_count": 134,
   "id": "28ef2640",
   "metadata": {},
   "outputs": [
    {
     "data": {
      "text/plain": [
       "7273"
      ]
     },
     "execution_count": 134,
     "metadata": {},
     "output_type": "execute_result"
    }
   ],
   "source": [
    "maxTopBottom(getTriangleArray('trianglePath_p67.txt'))"
   ]
  },
  {
   "cell_type": "markdown",
   "id": "f02f34c1",
   "metadata": {},
   "source": [
    "## Problem #68"
   ]
  },
  {
   "cell_type": "markdown",
   "id": "01770608",
   "metadata": {},
   "source": [
    "Using the numbers 1 to 10, and depending on arrangements, it is possible to form 16- and 17-digit strings. What is the maximum 16-digit string for a \"magic\" 5-gon ring?"
   ]
  },
  {
   "cell_type": "code",
   "execution_count": 150,
   "id": "77c0035c",
   "metadata": {},
   "outputs": [],
   "source": [
    "def fiveGonRing():\n",
    "    ring = [5,4,3,2,1]\n",
    "    for i in range(1, fac(5)):\n",
    "        inner = nthLexicographic(i, ring)\n",
    "        outer = [6]\n",
    "        magic = outer[0] + inner[0] + inner[1]\n",
    "        numDic = {7:0, 8:0, 9:0, 10:0}\n",
    "        found = True\n",
    "        for j in range(1, 5):\n",
    "            val = magic - inner[j] - inner[(j+1)%5]\n",
    "            if val not in numDic or numDic[val] == 1:\n",
    "                found = False\n",
    "                break\n",
    "            numDic[val] = 1\n",
    "            outer.append(val)\n",
    "        if found:\n",
    "            digits = []\n",
    "            for outie, innie in zip(outer, inner):\n",
    "                digits.append(outie)\n",
    "                digits.append(innie)\n",
    "                digits.append(magic - outie - innie)\n",
    "            return ''.join([str(x) for x in digits])"
   ]
  },
  {
   "cell_type": "code",
   "execution_count": 136,
   "id": "6634d4e3",
   "metadata": {},
   "outputs": [],
   "source": [
    "def nthLexicographic(n, digits):\n",
    "    if n <= 1 or len(digits) == 1:\n",
    "        return digits\n",
    "    f = fac(len(digits)-1)\n",
    "    if n <= f:\n",
    "        return [digits[0]] + nthLexicographic(n, digits[1:])\n",
    "    q, rem = divmod(n-1, f)\n",
    "    if q+1 >= len(digits):\n",
    "        return [digits[-1]] + nthLexicographic(rem+1, digits[:len(digits)-1])\n",
    "    return [digits[q]] + nthLexicographic(rem+1, digits[:q] + digits[q+1:])"
   ]
  },
  {
   "cell_type": "code",
   "execution_count": 140,
   "id": "3e19d75e",
   "metadata": {},
   "outputs": [],
   "source": [
    "def fac(n):\n",
    "    prod = 1\n",
    "    for i in range(2, n+1):\n",
    "        prod *= i\n",
    "    return prod"
   ]
  },
  {
   "cell_type": "code",
   "execution_count": 151,
   "id": "b56cf014",
   "metadata": {},
   "outputs": [
    {
     "data": {
      "text/plain": [
       "'6531031914842725'"
      ]
     },
     "execution_count": 151,
     "metadata": {},
     "output_type": "execute_result"
    }
   ],
   "source": [
    "fiveGonRing()"
   ]
  },
  {
   "cell_type": "markdown",
   "id": "ecbaa14b",
   "metadata": {},
   "source": [
    "## Problem #69"
   ]
  },
  {
   "cell_type": "markdown",
   "id": "6f1184d3",
   "metadata": {},
   "source": [
    "Find the value of n <= 1,000,000 for which n / phi(n) is a maximum."
   ]
  },
  {
   "cell_type": "code",
   "execution_count": 168,
   "id": "fdf4aebd",
   "metadata": {},
   "outputs": [],
   "source": [
    "def maxTotientRatio(cap):\n",
    "    primes = generatePrimesTo(100)\n",
    "    prod = 1\n",
    "    idx = 0\n",
    "    while prod <= cap:\n",
    "        prod *= primes[idx]\n",
    "        idx += 1\n",
    "    return prod // primes[idx-1]"
   ]
  },
  {
   "cell_type": "code",
   "execution_count": 152,
   "id": "4b85f35b",
   "metadata": {},
   "outputs": [],
   "source": [
    "def generatePrimesTo(n):\n",
    "    primes = [2,3,5,7]\n",
    "    i = 11\n",
    "    while i < n:\n",
    "        for j in [0, 2, 6, 8]:\n",
    "            if isPrime(i+j, primes):\n",
    "                primes.append(i+j)\n",
    "        i += 10\n",
    "    while primes[-1] > n:\n",
    "        primes.pop()\n",
    "    return primes"
   ]
  },
  {
   "cell_type": "code",
   "execution_count": 153,
   "id": "74bd0b25",
   "metadata": {},
   "outputs": [],
   "source": [
    "def isPrime(n, primes):\n",
    "    if n < 11:\n",
    "        return False if n not in [2,3,5,7] else True\n",
    "    i = 0\n",
    "    root = math.floor(n**0.5)\n",
    "    while i < len(primes) and primes[i] <= root:\n",
    "        if n % primes[i] == 0:\n",
    "            return False\n",
    "        i += 1\n",
    "    return True"
   ]
  },
  {
   "cell_type": "code",
   "execution_count": 169,
   "id": "b87963f6",
   "metadata": {},
   "outputs": [
    {
     "data": {
      "text/plain": [
       "510510"
      ]
     },
     "execution_count": 169,
     "metadata": {},
     "output_type": "execute_result"
    }
   ],
   "source": [
    "maxTotientRatio(1000000)"
   ]
  },
  {
   "cell_type": "markdown",
   "id": "33c0acaf",
   "metadata": {},
   "source": [
    "## Problem #70"
   ]
  },
  {
   "cell_type": "markdown",
   "id": "082e466f",
   "metadata": {},
   "source": [
    "Find the value of n, where 1 < n < 10^7 and phi(n) is a permutation of n and n / phi(n) is minimized. "
   ]
  },
  {
   "cell_type": "code",
   "execution_count": 176,
   "id": "036bf853",
   "metadata": {},
   "outputs": [],
   "source": [
    "import math"
   ]
  },
  {
   "cell_type": "code",
   "execution_count": 189,
   "id": "ef556a1a",
   "metadata": {},
   "outputs": [],
   "source": [
    "def minTotientPerm(cap):\n",
    "    primes = generatePrimesTo(math.ceil(cap**0.5))\n",
    "    minRatio = float(\"inf\")\n",
    "    minN = 0\n",
    "    for n in range(2, cap):\n",
    "        totient = phi(n, primes)\n",
    "        val = n / totient\n",
    "        if val < minRatio and isPerm(n, totient):\n",
    "            minRatio = val\n",
    "            minN = n\n",
    "    return minN"
   ]
  },
  {
   "cell_type": "code",
   "execution_count": 184,
   "id": "05303863",
   "metadata": {},
   "outputs": [],
   "source": [
    "def phi(n, primes):\n",
    "    totient = n\n",
    "    root = n**0.5\n",
    "    for p in primes:\n",
    "        if p > root:\n",
    "            break\n",
    "        if n % p == 0:\n",
    "            totient //= p\n",
    "            while n % p == 0:\n",
    "                n //= p\n",
    "            totient *= p - 1\n",
    "            root = n**0.5\n",
    "    return totient if n < 2 else totient * (n - 1) // n"
   ]
  },
  {
   "cell_type": "code",
   "execution_count": 170,
   "id": "06661788",
   "metadata": {},
   "outputs": [],
   "source": [
    "def generatePrimesTo(n):\n",
    "    primes = [2,3,5,7]\n",
    "    i = 11\n",
    "    while i < n:\n",
    "        for j in [0, 2, 6, 8]:\n",
    "            if isPrime(i+j, primes):\n",
    "                primes.append(i+j)\n",
    "        i += 10\n",
    "    while primes[-1] > n:\n",
    "        primes.pop()\n",
    "    return primes"
   ]
  },
  {
   "cell_type": "code",
   "execution_count": 171,
   "id": "2bde6b0c",
   "metadata": {},
   "outputs": [],
   "source": [
    "def isPrime(n, primes):\n",
    "    if n < 11:\n",
    "        return False if n not in [2,3,5,7] else True\n",
    "    i = 0\n",
    "    root = math.floor(n**0.5)\n",
    "    while i < len(primes) and primes[i] <= root:\n",
    "        if n % primes[i] == 0:\n",
    "            return False\n",
    "        i += 1\n",
    "    return True"
   ]
  },
  {
   "cell_type": "code",
   "execution_count": 187,
   "id": "829205d2",
   "metadata": {},
   "outputs": [],
   "source": [
    "def isPerm(a, b):\n",
    "    return digCount(a) == digCount(b)"
   ]
  },
  {
   "cell_type": "code",
   "execution_count": 186,
   "id": "86a7a1e7",
   "metadata": {},
   "outputs": [],
   "source": [
    "def digCount(n):\n",
    "    digs = [0 for _ in range(10)]\n",
    "    while n > 0:\n",
    "        n, rem = divmod(n, 10)\n",
    "        digs[rem] += 1\n",
    "    return digs"
   ]
  },
  {
   "cell_type": "code",
   "execution_count": 193,
   "id": "6de75dfd",
   "metadata": {},
   "outputs": [
    {
     "data": {
      "text/plain": [
       "8319823"
      ]
     },
     "execution_count": 193,
     "metadata": {},
     "output_type": "execute_result"
    }
   ],
   "source": [
    "minTotientPerm(10**7)"
   ]
  },
  {
   "cell_type": "code",
   "execution_count": null,
   "id": "739996c5",
   "metadata": {},
   "outputs": [],
   "source": []
  }
 ],
 "metadata": {
  "kernelspec": {
   "display_name": "Python 3 (ipykernel)",
   "language": "python",
   "name": "python3"
  },
  "language_info": {
   "codemirror_mode": {
    "name": "ipython",
    "version": 3
   },
   "file_extension": ".py",
   "mimetype": "text/x-python",
   "name": "python",
   "nbconvert_exporter": "python",
   "pygments_lexer": "ipython3",
   "version": "3.11.5"
  }
 },
 "nbformat": 4,
 "nbformat_minor": 5
}
