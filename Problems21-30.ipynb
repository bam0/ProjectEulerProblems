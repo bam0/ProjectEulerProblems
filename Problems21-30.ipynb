{
 "cells": [
  {
   "cell_type": "markdown",
   "id": "5cc1a5f8",
   "metadata": {},
   "source": [
    "# Project Euler\n",
    "## Problems 21 - 30\n",
    "\n",
    "### ************************"
   ]
  },
  {
   "cell_type": "markdown",
   "id": "2d1328d8",
   "metadata": {},
   "source": [
    "## Problem #21"
   ]
  },
  {
   "cell_type": "markdown",
   "id": "cb3380de",
   "metadata": {},
   "source": [
    "Evaluate the sum of all the amicable numbers under 10,000."
   ]
  },
  {
   "cell_type": "code",
   "execution_count": 32,
   "id": "2fa2b64d",
   "metadata": {},
   "outputs": [],
   "source": [
    "import math"
   ]
  },
  {
   "cell_type": "code",
   "execution_count": 27,
   "id": "858a7de0",
   "metadata": {},
   "outputs": [],
   "source": [
    "def amicableSum(cap):\n",
    "    total = 0\n",
    "    primes = generatePrimesTo(math.floor(cap**0.5))\n",
    "    divs = {}\n",
    "    for i in range(4, cap):\n",
    "        divSum = properDivSum(i, primes)\n",
    "        if divSum in divs and divs[divSum] == i:\n",
    "            total += (i + divSum)\n",
    "        else:\n",
    "            divs[i] = divSum\n",
    "    return total"
   ]
  },
  {
   "cell_type": "code",
   "execution_count": 28,
   "id": "fa4b0b58",
   "metadata": {},
   "outputs": [],
   "source": [
    "def properDivSum(n, primes):\n",
    "    divs = 1\n",
    "    n_copy = n\n",
    "    root = n**0.5\n",
    "    for p in primes:\n",
    "        if n == 1 or root < p:\n",
    "            break\n",
    "        power = 1\n",
    "        curSum = 1\n",
    "        while n % p == 0:\n",
    "            n //= p\n",
    "            power *= p\n",
    "            curSum += power\n",
    "        divs *= curSum\n",
    "    if n != 1:\n",
    "        divs *= (n+1)\n",
    "    return divs - n_copy"
   ]
  },
  {
   "cell_type": "code",
   "execution_count": 29,
   "id": "b18274ae",
   "metadata": {},
   "outputs": [],
   "source": [
    "def generatePrimesTo(n):\n",
    "    primes = [2,3,5,7]\n",
    "    i = 11\n",
    "    while i < n:\n",
    "        for j in [0, 2, 6, 8]:\n",
    "            if isPrimeOver10(i+j, primes):\n",
    "                primes.append(i+j)\n",
    "        i += 10\n",
    "    while primes[-1] > n:\n",
    "        primes.pop()\n",
    "    return primes"
   ]
  },
  {
   "cell_type": "code",
   "execution_count": 30,
   "id": "907a34b9",
   "metadata": {},
   "outputs": [],
   "source": [
    "def isPrimeOver10(n, primes):\n",
    "    i = 0\n",
    "    root = math.floor(n**0.5)\n",
    "    while i < len(primes) and primes[i] <= root:\n",
    "        if n % primes[i] == 0:\n",
    "            return False\n",
    "        i += 1\n",
    "    return True"
   ]
  },
  {
   "cell_type": "code",
   "execution_count": 11,
   "id": "544bd6f8",
   "metadata": {},
   "outputs": [
    {
     "data": {
      "text/plain": [
       "31626"
      ]
     },
     "execution_count": 11,
     "metadata": {},
     "output_type": "execute_result"
    }
   ],
   "source": [
    "amicableSum(10000)"
   ]
  },
  {
   "cell_type": "markdown",
   "id": "7e9b8a16",
   "metadata": {},
   "source": [
    "## Problem #22"
   ]
  },
  {
   "cell_type": "markdown",
   "id": "a79e22b6",
   "metadata": {},
   "source": [
    "What is the total of all the name scores in the file?"
   ]
  },
  {
   "cell_type": "code",
   "execution_count": 24,
   "id": "91a3293c",
   "metadata": {},
   "outputs": [],
   "source": [
    "def nameScoreSum(filename):\n",
    "    with open(filename, 'r') as f:\n",
    "        names = ''.join(f.readlines()).split(\"\\\",\\\"\")\n",
    "        names[0] = names[0].strip(\"\\\"\")\n",
    "        names[-1] = names[-1].strip(\"\\\"\")\n",
    "    names.sort()\n",
    "    bet = alphabetDict()\n",
    "    total = 0\n",
    "    for i, name in enumerate(names):\n",
    "        total += nameScore(i, name, bet)\n",
    "    return total"
   ]
  },
  {
   "cell_type": "code",
   "execution_count": 14,
   "id": "50057060",
   "metadata": {},
   "outputs": [],
   "source": [
    "def nameScore(idx, name, alpha):\n",
    "    score = 0\n",
    "    for char in name:\n",
    "        score += alpha[char]\n",
    "    return (idx+1) * score"
   ]
  },
  {
   "cell_type": "code",
   "execution_count": 15,
   "id": "aba6abdd",
   "metadata": {},
   "outputs": [],
   "source": [
    "def alphabetDict():\n",
    "    alphabet = \"ABCDEFGHIJKLMNOPQRSTUVWXYZ\"\n",
    "    mydict = {}\n",
    "    for i, char in enumerate(alphabet):\n",
    "        mydict[char] = i+1\n",
    "    return mydict"
   ]
  },
  {
   "cell_type": "code",
   "execution_count": 25,
   "id": "3a0b627e",
   "metadata": {},
   "outputs": [
    {
     "data": {
      "text/plain": [
       "871198282"
      ]
     },
     "execution_count": 25,
     "metadata": {},
     "output_type": "execute_result"
    }
   ],
   "source": [
    "nameScoreSum('names_p22.txt')"
   ]
  },
  {
   "cell_type": "markdown",
   "id": "6afdfb6b",
   "metadata": {},
   "source": [
    "## Problem #23"
   ]
  },
  {
   "cell_type": "markdown",
   "id": "65d2baa9",
   "metadata": {},
   "source": [
    "Find the sum of all the positive integers which cannot be written as the sum of two abundant numbers."
   ]
  },
  {
   "cell_type": "code",
   "execution_count": 37,
   "id": "219f82c3",
   "metadata": {},
   "outputs": [],
   "source": [
    "def nonAbundantSums():\n",
    "    cap = 28123\n",
    "    abundants = generateAbundantNums(cap)\n",
    "    numDict = {}\n",
    "    for i in range(1, cap+1):\n",
    "        numDict[i] = i\n",
    "    for i in range(len(abundants)):\n",
    "        for j in range(i, len(abundants)):\n",
    "            ab_sum = abundants[i] + abundants[j]\n",
    "            if ab_sum > cap:\n",
    "                break\n",
    "            numDict[ab_sum] = 0\n",
    "    return sum(numDict.values())"
   ]
  },
  {
   "cell_type": "code",
   "execution_count": 33,
   "id": "07c9d47b",
   "metadata": {},
   "outputs": [],
   "source": [
    "def generateAbundantNums(cap):\n",
    "    abundants = []\n",
    "    primes = generatePrimesTo(math.floor(cap**0.5))\n",
    "    for i in range(4, cap+1):\n",
    "        if isAbundant(i, primes):\n",
    "            abundants.append(i)\n",
    "    return abundants"
   ]
  },
  {
   "cell_type": "code",
   "execution_count": 31,
   "id": "45d02d00",
   "metadata": {},
   "outputs": [],
   "source": [
    "def isAbundant(n, primes):\n",
    "    return properDivSum(n, primes) > n"
   ]
  },
  {
   "cell_type": "code",
   "execution_count": 28,
   "id": "1207e883",
   "metadata": {},
   "outputs": [],
   "source": [
    "def properDivSum(n, primes):\n",
    "    divs = 1\n",
    "    n_copy = n\n",
    "    root = n**0.5\n",
    "    for p in primes:\n",
    "        if n == 1 or root < p:\n",
    "            break\n",
    "        power = 1\n",
    "        curSum = 1\n",
    "        while n % p == 0:\n",
    "            n //= p\n",
    "            power *= p\n",
    "            curSum += power\n",
    "        divs *= curSum\n",
    "    if n != 1:\n",
    "        divs *= (n+1)\n",
    "    return divs - n_copy"
   ]
  },
  {
   "cell_type": "code",
   "execution_count": 29,
   "id": "194d7b7b",
   "metadata": {},
   "outputs": [],
   "source": [
    "def generatePrimesTo(n):\n",
    "    primes = [2,3,5,7]\n",
    "    i = 11\n",
    "    while i < n:\n",
    "        for j in [0, 2, 6, 8]:\n",
    "            if isPrimeOver10(i+j, primes):\n",
    "                primes.append(i+j)\n",
    "        i += 10\n",
    "    while primes[-1] > n:\n",
    "        primes.pop()\n",
    "    return primes"
   ]
  },
  {
   "cell_type": "code",
   "execution_count": 30,
   "id": "7ba76570",
   "metadata": {},
   "outputs": [],
   "source": [
    "def isPrimeOver10(n, primes):\n",
    "    i = 0\n",
    "    root = math.floor(n**0.5)\n",
    "    while i < len(primes) and primes[i] <= root:\n",
    "        if n % primes[i] == 0:\n",
    "            return False\n",
    "        i += 1\n",
    "    return True"
   ]
  },
  {
   "cell_type": "code",
   "execution_count": 38,
   "id": "3088d011",
   "metadata": {},
   "outputs": [
    {
     "data": {
      "text/plain": [
       "4179871"
      ]
     },
     "execution_count": 38,
     "metadata": {},
     "output_type": "execute_result"
    }
   ],
   "source": [
    "nonAbundantSums()"
   ]
  },
  {
   "cell_type": "markdown",
   "id": "3fb3b753",
   "metadata": {},
   "source": [
    "## Problem #24"
   ]
  },
  {
   "cell_type": "markdown",
   "id": "7b19b6f2",
   "metadata": {},
   "source": [
    "What is the millionth lexicographic permutation of the digits 0, 1, 2, 3, 4, 5, 6, 7, 8 and 9?"
   ]
  },
  {
   "cell_type": "code",
   "execution_count": 146,
   "id": "44ad39fa",
   "metadata": {},
   "outputs": [],
   "source": [
    "def prettyLexicographic(n, digits):\n",
    "    return ''.join([str(x) for x in nthLexicographic(n, digits)])"
   ]
  },
  {
   "cell_type": "code",
   "execution_count": 133,
   "id": "0a60bd4c",
   "metadata": {},
   "outputs": [],
   "source": [
    "def nthLexicographic(n, digits):\n",
    "    if n <= 1 or len(digits) == 1:\n",
    "        return digits\n",
    "    f = fac(len(digits)-1)\n",
    "    if n <= f:\n",
    "        return [digits[0]] + nthLexicographic(n, digits[1:])\n",
    "    q, rem = divmod(n-1, f)\n",
    "    if q+1 >= len(digits):\n",
    "        return [digits[-1]] + nthLexicographic(rem+1, digits[:len(digits)-1])\n",
    "    return [digits[q]] + nthLexicographic(rem+1, digits[:q] + digits[q+1:])"
   ]
  },
  {
   "cell_type": "code",
   "execution_count": 134,
   "id": "90c9333c",
   "metadata": {},
   "outputs": [],
   "source": [
    "def fac(n):\n",
    "    prod = 1\n",
    "    for i in range(2, n+1):\n",
    "        prod *= i\n",
    "    return prod"
   ]
  },
  {
   "cell_type": "code",
   "execution_count": 150,
   "id": "d3f960c3",
   "metadata": {},
   "outputs": [
    {
     "data": {
      "text/plain": [
       "'2783915460'"
      ]
     },
     "execution_count": 150,
     "metadata": {},
     "output_type": "execute_result"
    }
   ],
   "source": [
    "prettyLexicographic(1000000, list(range(10)))"
   ]
  },
  {
   "cell_type": "markdown",
   "id": "3ef6158d",
   "metadata": {},
   "source": [
    "## Problem #25"
   ]
  },
  {
   "cell_type": "markdown",
   "id": "5be84ea9",
   "metadata": {},
   "source": [
    "What is the index of the first term in the Fibonacci sequence to contain 1,000 digits?"
   ]
  },
  {
   "cell_type": "code",
   "execution_count": 153,
   "id": "c2ab6cbf",
   "metadata": {},
   "outputs": [],
   "source": [
    "import math"
   ]
  },
  {
   "cell_type": "code",
   "execution_count": 172,
   "id": "f3cc1944",
   "metadata": {},
   "outputs": [],
   "source": [
    "def fibWithDigs(d):\n",
    "    a, b = 1, 1\n",
    "    idx = 1\n",
    "    while numDigs(a) < d:\n",
    "        a, b = b, a + b\n",
    "        idx += 1\n",
    "    return idx"
   ]
  },
  {
   "cell_type": "code",
   "execution_count": 173,
   "id": "ebbfbff0",
   "metadata": {},
   "outputs": [],
   "source": [
    "def numDigs(n):\n",
    "    return math.floor(math.log10(n)) + 1"
   ]
  },
  {
   "cell_type": "code",
   "execution_count": 179,
   "id": "a835e332",
   "metadata": {},
   "outputs": [
    {
     "data": {
      "text/plain": [
       "4782"
      ]
     },
     "execution_count": 179,
     "metadata": {},
     "output_type": "execute_result"
    }
   ],
   "source": [
    "fibWithDigs(1000)"
   ]
  },
  {
   "cell_type": "markdown",
   "id": "a6749378",
   "metadata": {},
   "source": [
    "## Problem #26"
   ]
  },
  {
   "cell_type": "markdown",
   "id": "059c4654",
   "metadata": {},
   "source": [
    "Find the value of d < 1000 for which 1/d contains the longest recurring cycle in its decimal fraction part."
   ]
  },
  {
   "cell_type": "code",
   "execution_count": 194,
   "id": "fe05f6ab",
   "metadata": {},
   "outputs": [],
   "source": [
    "def longestCycleBefore(n):\n",
    "    maxCycle = 0\n",
    "    maxVal = 1\n",
    "    for val in range(3, n):\n",
    "        length = cycleLength(val)\n",
    "        if length > maxCycle:\n",
    "            maxCycle = length\n",
    "            maxVal = val\n",
    "    print(\"Max Length:\", maxCycle)\n",
    "    return maxVal"
   ]
  },
  {
   "cell_type": "code",
   "execution_count": 180,
   "id": "153295fe",
   "metadata": {},
   "outputs": [],
   "source": [
    "def cycleLength(n):\n",
    "    while n % 2 == 0:\n",
    "        n //= 2\n",
    "    while n % 5 == 0:\n",
    "        n //= 5\n",
    "    if n < 3:\n",
    "        return 0\n",
    "    curNine = 9\n",
    "    length = 1\n",
    "    while curNine % n != 0:\n",
    "        curNine *= 10\n",
    "        curNine += 9\n",
    "        length += 1\n",
    "    return length"
   ]
  },
  {
   "cell_type": "code",
   "execution_count": 195,
   "id": "fe146f57",
   "metadata": {},
   "outputs": [
    {
     "name": "stdout",
     "output_type": "stream",
     "text": [
      "Max Length: 982\n"
     ]
    },
    {
     "data": {
      "text/plain": [
       "983"
      ]
     },
     "execution_count": 195,
     "metadata": {},
     "output_type": "execute_result"
    }
   ],
   "source": [
    "longestCycleBefore(1000)"
   ]
  },
  {
   "cell_type": "markdown",
   "id": "fd681be5",
   "metadata": {},
   "source": [
    "## Problem #27"
   ]
  },
  {
   "cell_type": "markdown",
   "id": "2dfca198",
   "metadata": {},
   "source": [
    "Find the product of the coefficients a and b for the quadratic expression that produces the maximum number of primes for consecutive values of n, starting with n=0."
   ]
  },
  {
   "cell_type": "code",
   "execution_count": 206,
   "id": "e99b653d",
   "metadata": {},
   "outputs": [],
   "source": [
    "def maxQuadPrimes(cap):\n",
    "    primeList = generatePrimesTo(cap)\n",
    "    primeSet = set(generatePrimesTo(cap**2))\n",
    "    pair = [0, 0]\n",
    "    maxLength = 0\n",
    "    for b in primeList:\n",
    "        for a in range(999, -1000, -2):\n",
    "            streak = quadPrimeStreak(a, b, primeSet)\n",
    "            if streak > maxLength:\n",
    "                maxLength = streak\n",
    "                pair = [a, b]\n",
    "    print(\"Pair (a, b):\", pair[0], pair[1])\n",
    "    print(\"Length:\", maxLength)\n",
    "    return pair[0] * pair[1]"
   ]
  },
  {
   "cell_type": "code",
   "execution_count": 201,
   "id": "dd2e00e4",
   "metadata": {},
   "outputs": [],
   "source": [
    "def quadPrimeStreak(a, b, primes):\n",
    "    n = 1\n",
    "    while n**2 + n*a + b in primes:\n",
    "        n += 1\n",
    "    return n"
   ]
  },
  {
   "cell_type": "code",
   "execution_count": 196,
   "id": "14f1fa6c",
   "metadata": {},
   "outputs": [],
   "source": [
    "def generatePrimesTo(n):\n",
    "    primes = [2,3,5,7]\n",
    "    i = 11\n",
    "    while i < n:\n",
    "        for j in [0, 2, 6, 8]:\n",
    "            if isPrimeOver10(i+j, primes):\n",
    "                primes.append(i+j)\n",
    "        i += 10\n",
    "    while primes[-1] > n:\n",
    "        primes.pop()\n",
    "    return primes"
   ]
  },
  {
   "cell_type": "code",
   "execution_count": 197,
   "id": "f871a7fc",
   "metadata": {},
   "outputs": [],
   "source": [
    "def isPrimeOver10(n, primes):\n",
    "    i = 0\n",
    "    root = math.floor(n**0.5)\n",
    "    while i < len(primes) and primes[i] <= root:\n",
    "        if n % primes[i] == 0:\n",
    "            return False\n",
    "        i += 1\n",
    "    return True"
   ]
  },
  {
   "cell_type": "code",
   "execution_count": 207,
   "id": "a66c10ea",
   "metadata": {},
   "outputs": [
    {
     "name": "stdout",
     "output_type": "stream",
     "text": [
      "Pair (a, b): -61 971\n",
      "Length: 71\n"
     ]
    },
    {
     "data": {
      "text/plain": [
       "-59231"
      ]
     },
     "execution_count": 207,
     "metadata": {},
     "output_type": "execute_result"
    }
   ],
   "source": [
    "maxQuadPrimes(1000)"
   ]
  },
  {
   "cell_type": "markdown",
   "id": "aa364e33",
   "metadata": {},
   "source": [
    "## Problem #28"
   ]
  },
  {
   "cell_type": "markdown",
   "id": "a02bdfc7",
   "metadata": {},
   "source": [
    "What is the sum of the numbers on the diagonals in a 1,000 by 1,000 spiral?"
   ]
  },
  {
   "cell_type": "code",
   "execution_count": 218,
   "id": "4ac13573",
   "metadata": {},
   "outputs": [],
   "source": [
    "def spiralSum(n):\n",
    "    n = (n + 1) // 2\n",
    "    return ((16 * n**3 - 4 * n) // 3) - (12 * ((n-1) * n // 2)) - 3"
   ]
  },
  {
   "cell_type": "code",
   "execution_count": 221,
   "id": "6759998f",
   "metadata": {},
   "outputs": [
    {
     "data": {
      "text/plain": [
       "669171001"
      ]
     },
     "execution_count": 221,
     "metadata": {},
     "output_type": "execute_result"
    }
   ],
   "source": [
    "spiralSum(1001)"
   ]
  },
  {
   "cell_type": "markdown",
   "id": "9a0b26ae",
   "metadata": {},
   "source": [
    "## Problem #29"
   ]
  },
  {
   "cell_type": "markdown",
   "id": "0a4a6cc7",
   "metadata": {},
   "source": [
    "How many distinct terms are in the sequence generated a^b by 2 <= a <= 100 and 2 <= b <= 100?"
   ]
  },
  {
   "cell_type": "code",
   "execution_count": 222,
   "id": "8acc41be",
   "metadata": {},
   "outputs": [],
   "source": [
    "def numDistinctPowers(cap):\n",
    "    powers = set()\n",
    "    for a in range(2, cap+1):\n",
    "        for b in range(2, cap+1):\n",
    "            powers.add(a**b)\n",
    "    return len(powers)"
   ]
  },
  {
   "cell_type": "code",
   "execution_count": 223,
   "id": "668f22e9",
   "metadata": {},
   "outputs": [
    {
     "data": {
      "text/plain": [
       "9183"
      ]
     },
     "execution_count": 223,
     "metadata": {},
     "output_type": "execute_result"
    }
   ],
   "source": [
    "numDistinctPowers(100)"
   ]
  },
  {
   "cell_type": "markdown",
   "id": "992800c5",
   "metadata": {},
   "source": [
    "## Problem #30"
   ]
  },
  {
   "cell_type": "markdown",
   "id": "df283f95",
   "metadata": {},
   "source": [
    "Find the sum of all the numbers that can be written as the sum of fifth powers of their digits."
   ]
  },
  {
   "cell_type": "code",
   "execution_count": 224,
   "id": "84c65b80",
   "metadata": {},
   "outputs": [],
   "source": [
    "def powerDigitSum(num, power):\n",
    "    total = 0\n",
    "    while num > 0:\n",
    "        num, rem = divmod(num, 10)\n",
    "        total += rem**power\n",
    "    return total"
   ]
  },
  {
   "cell_type": "code",
   "execution_count": 229,
   "id": "96502bed",
   "metadata": {},
   "outputs": [],
   "source": [
    "def findFifthPowerDigitSums():\n",
    "    cap = 6*(9**5)+1\n",
    "    nums = []\n",
    "    for i in range(10, cap):\n",
    "        if powerDigitSum(i, 5) == i:\n",
    "            nums.append(i)\n",
    "    print(nums)\n",
    "    return sum(nums)"
   ]
  },
  {
   "cell_type": "code",
   "execution_count": 230,
   "id": "922b9c66",
   "metadata": {},
   "outputs": [
    {
     "name": "stdout",
     "output_type": "stream",
     "text": [
      "[4150, 4151, 54748, 92727, 93084, 194979]\n"
     ]
    },
    {
     "data": {
      "text/plain": [
       "443839"
      ]
     },
     "execution_count": 230,
     "metadata": {},
     "output_type": "execute_result"
    }
   ],
   "source": [
    "findFifthPowerDigitSums()"
   ]
  },
  {
   "cell_type": "code",
   "execution_count": null,
   "id": "c242ad52",
   "metadata": {},
   "outputs": [],
   "source": []
  }
 ],
 "metadata": {
  "kernelspec": {
   "display_name": "Python 3 (ipykernel)",
   "language": "python",
   "name": "python3"
  },
  "language_info": {
   "codemirror_mode": {
    "name": "ipython",
    "version": 3
   },
   "file_extension": ".py",
   "mimetype": "text/x-python",
   "name": "python",
   "nbconvert_exporter": "python",
   "pygments_lexer": "ipython3",
   "version": "3.11.5"
  }
 },
 "nbformat": 4,
 "nbformat_minor": 5
}
