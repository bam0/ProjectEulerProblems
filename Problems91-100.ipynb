{
 "cells": [
  {
   "cell_type": "markdown",
   "id": "0a9d1c4f",
   "metadata": {},
   "source": [
    "# Project Euler\n",
    "## Problems 91 - 100\n",
    "\n",
    "### ************************"
   ]
  },
  {
   "cell_type": "markdown",
   "id": "d58db009",
   "metadata": {},
   "source": [
    "## Problem #91"
   ]
  },
  {
   "cell_type": "markdown",
   "id": "f993f1ca",
   "metadata": {},
   "source": [
    "How many right triangles can be formed with the origin where 0 <= x1, x2, y1, y2 <= 50?"
   ]
  },
  {
   "cell_type": "code",
   "execution_count": 7,
   "id": "5f421e56",
   "metadata": {},
   "outputs": [],
   "source": [
    "def rightTrianglesWithin(cap):\n",
    "    points = []\n",
    "    total = 0\n",
    "    for i in range(cap + 1):\n",
    "        for j in range(cap + 1):\n",
    "            points.append((i,j))\n",
    "    for i in range(1, len(points)-1):\n",
    "        for j in range(i + 1, len(points)):\n",
    "            if isRightTriangle(points[i], points[j]):\n",
    "                total += 1\n",
    "    return total"
   ]
  },
  {
   "cell_type": "code",
   "execution_count": 1,
   "id": "9092b3db",
   "metadata": {},
   "outputs": [],
   "source": [
    "def isRightTriangle(p1, p2):\n",
    "    x1, y1 = p1\n",
    "    x2, y2 = p2\n",
    "    if y1 * x2 == y2 * x1:\n",
    "        return False\n",
    "    lengths = sorted([x1**2 + y1**2, x2**2 + y2**2, (x1-x2)**2 + (y1-y2)**2])\n",
    "    return lengths[0] + lengths[1] == lengths[2]"
   ]
  },
  {
   "cell_type": "code",
   "execution_count": 12,
   "id": "eb0ec6c6",
   "metadata": {},
   "outputs": [
    {
     "data": {
      "text/plain": [
       "14234"
      ]
     },
     "execution_count": 12,
     "metadata": {},
     "output_type": "execute_result"
    }
   ],
   "source": [
    "rightTrianglesWithin(50)"
   ]
  },
  {
   "cell_type": "markdown",
   "id": "0115773b",
   "metadata": {},
   "source": [
    "## Problem #92"
   ]
  },
  {
   "cell_type": "markdown",
   "id": "8a0b8761",
   "metadata": {},
   "source": [
    "How many starting numbers below ten million will arrive at 89 by adding the squares of the digits?"
   ]
  },
  {
   "cell_type": "code",
   "execution_count": 15,
   "id": "370dbaa6",
   "metadata": {},
   "outputs": [],
   "source": [
    "def eightyNineChains(cap):\n",
    "    memo = {1:1, 89:89}\n",
    "    sq = {x:x**2 for x in range(10)}\n",
    "    total = 0\n",
    "    for i in range(2, cap):\n",
    "        if digitSquareChain(i, sq, memo) == 89:\n",
    "            total += 1\n",
    "    return total"
   ]
  },
  {
   "cell_type": "code",
   "execution_count": 14,
   "id": "81ddfae9",
   "metadata": {},
   "outputs": [],
   "source": [
    "def digitSquareChain(n, sq, memo):\n",
    "    if n in memo:\n",
    "        return memo[n]\n",
    "    dss = digitSquareSum(n, sq)\n",
    "    if dss in memo:\n",
    "        return memo[dss]\n",
    "    memo[dss] = digitSquareChain(dss, sq, memo)\n",
    "    return memo[dss]"
   ]
  },
  {
   "cell_type": "code",
   "execution_count": 13,
   "id": "aea0748d",
   "metadata": {},
   "outputs": [],
   "source": [
    "def digitSquareSum(n, sq):\n",
    "    total = 0\n",
    "    while n > 0:\n",
    "        n, r = divmod(n, 10)\n",
    "        total += sq[r]\n",
    "    return total"
   ]
  },
  {
   "cell_type": "code",
   "execution_count": 21,
   "id": "fe1c3f93",
   "metadata": {},
   "outputs": [
    {
     "data": {
      "text/plain": [
       "8581146"
      ]
     },
     "execution_count": 21,
     "metadata": {},
     "output_type": "execute_result"
    }
   ],
   "source": [
    "eightyNineChains(10000000)"
   ]
  },
  {
   "cell_type": "markdown",
   "id": "9c2f5c66",
   "metadata": {},
   "source": [
    "## Problem #93"
   ]
  },
  {
   "cell_type": "markdown",
   "id": "0c2eac31",
   "metadata": {},
   "source": [
    "Find the set of four distinct digits a < b < c < d for which the longest set of consecutive positive integers 1 to n can be obtained, giving your answer as a string: abcd."
   ]
  },
  {
   "cell_type": "code",
   "execution_count": 4,
   "id": "85f61a8d",
   "metadata": {},
   "outputs": [],
   "source": [
    "from itertools import product\n",
    "from itertools import permutations\n",
    "from itertools import combinations"
   ]
  },
  {
   "cell_type": "code",
   "execution_count": 15,
   "id": "4369a119",
   "metadata": {},
   "outputs": [],
   "source": [
    "def findBestFourDigits():\n",
    "    bestLength = 0\n",
    "    bestFour = None\n",
    "    for digs in combinations(range(10), 4):\n",
    "        ies = integerExpressionSet(digs)\n",
    "        n = 1\n",
    "        while n in ies:\n",
    "            n += 1\n",
    "        if n-1 > bestLength:\n",
    "            bestFour = digs\n",
    "            bestLength = n-1\n",
    "    print('Longest chain:', bestLength)\n",
    "    return ''.join([str(x) for x in bestFour])"
   ]
  },
  {
   "cell_type": "code",
   "execution_count": 6,
   "id": "21aadb15",
   "metadata": {},
   "outputs": [],
   "source": [
    "def integerExpressionSet(digits):\n",
    "    ints = set()\n",
    "    for perm in permutations(digits, 4):\n",
    "        nums = []\n",
    "        for p in perm:\n",
    "            nums.append([p, 1])\n",
    "        for ops in product(range(6), repeat=3):\n",
    "            val = nums[0]\n",
    "            for i, op in enumerate(ops):\n",
    "                val = doop(op, val, nums[i+1])\n",
    "            val = reduceFrac(val)\n",
    "            if val[1] == 1 and val[0] > 0:\n",
    "                ints.add(val[0])\n",
    "    return ints        "
   ]
  },
  {
   "cell_type": "code",
   "execution_count": 7,
   "id": "1b646b95",
   "metadata": {},
   "outputs": [],
   "source": [
    "def doop(op, frac1, frac2):\n",
    "    if op == 0:\n",
    "        return addFrac(frac1, frac2)\n",
    "    elif op == 1:\n",
    "        frac3 = [frac2[0]*-1, frac2[1]]\n",
    "        return addFrac(frac1, frac3)\n",
    "    elif op == 2:\n",
    "        return multFrac(frac1, frac2)\n",
    "    elif op == 3:\n",
    "        frac3 = [frac2[1], frac2[0]]\n",
    "        return multFrac(frac1, frac3)\n",
    "    elif op == 4:\n",
    "        frac3 = [frac1[0]*-1, frac1[1]]\n",
    "        return addFrac(frac2, frac3)\n",
    "    else:\n",
    "        frac3 = [frac1[1], frac1[0]]\n",
    "        return multFrac(frac2, frac3)"
   ]
  },
  {
   "cell_type": "code",
   "execution_count": 8,
   "id": "150eca0f",
   "metadata": {},
   "outputs": [],
   "source": [
    "def multFrac(frac1, frac2):\n",
    "    a, b = frac1\n",
    "    c, d = frac2\n",
    "    return [a*c, b*d]"
   ]
  },
  {
   "cell_type": "code",
   "execution_count": 9,
   "id": "b298c5a2",
   "metadata": {},
   "outputs": [],
   "source": [
    "def addFrac(frac1, frac2):\n",
    "    a, b = frac1\n",
    "    c, d = frac2\n",
    "    return [b*c + a*d, b*d]"
   ]
  },
  {
   "cell_type": "code",
   "execution_count": 10,
   "id": "fbdbdad9",
   "metadata": {},
   "outputs": [],
   "source": [
    "def reduceFrac(frac):\n",
    "    a, b = frac\n",
    "    if b == 0:\n",
    "        return [1, 0]\n",
    "    d = gcd(a, b)\n",
    "    return [a // d, b // d]"
   ]
  },
  {
   "cell_type": "code",
   "execution_count": 11,
   "id": "3f110776",
   "metadata": {},
   "outputs": [],
   "source": [
    "def gcd(a, b):\n",
    "    if b == 0:\n",
    "        return a\n",
    "    return gcd(b, a % b)"
   ]
  },
  {
   "cell_type": "code",
   "execution_count": 16,
   "id": "645d9212",
   "metadata": {},
   "outputs": [
    {
     "name": "stdout",
     "output_type": "stream",
     "text": [
      "Longest chain: 51\n"
     ]
    },
    {
     "data": {
      "text/plain": [
       "'1258'"
      ]
     },
     "execution_count": 16,
     "metadata": {},
     "output_type": "execute_result"
    }
   ],
   "source": [
    "findBestFourDigits()"
   ]
  },
  {
   "cell_type": "markdown",
   "id": "b354f77b",
   "metadata": {},
   "source": [
    "## Problem #94"
   ]
  },
  {
   "cell_type": "markdown",
   "id": "492ae344",
   "metadata": {},
   "source": [
    "Find the sum of the perimeters of all almost equilateral triangles with integral side lengths and area and whose perimeters do not exceed one billion."
   ]
  },
  {
   "cell_type": "code",
   "execution_count": 127,
   "id": "a018924b",
   "metadata": {},
   "outputs": [],
   "source": [
    "import math"
   ]
  },
  {
   "cell_type": "code",
   "execution_count": 138,
   "id": "507d6251",
   "metadata": {},
   "outputs": [],
   "source": [
    "def almostEquilateralTris(cap):\n",
    "    k = 2\n",
    "    alms = []\n",
    "    total = 0\n",
    "    while 6 * k + 2 < cap:\n",
    "        for a in [2*k-1,2*k+1]:\n",
    "            b = math.floor((a**2 - k**2)**0.5)\n",
    "            if k**2 + b**2 == a**2:\n",
    "                alms.append((k,b,a))\n",
    "                total += 2*a + 2*k\n",
    "        k += 1\n",
    "    print(alms)\n",
    "    return total"
   ]
  },
  {
   "cell_type": "code",
   "execution_count": 145,
   "id": "c3f721e5",
   "metadata": {},
   "outputs": [
    {
     "name": "stdout",
     "output_type": "stream",
     "text": [
      "[(3, 4, 5), (8, 15, 17), (33, 56, 65), (120, 209, 241), (451, 780, 901), (1680, 2911, 3361), (6273, 10864, 12545), (23408, 40545, 46817), (87363, 151316, 174725), (326040, 564719, 652081), (1216801, 2107560, 2433601), (4541160, 7865521, 9082321), (16947843, 29354524, 33895685), (63250208, 109552575, 126500417)]\n"
     ]
    },
    {
     "data": {
      "text/plain": [
       "518408346"
      ]
     },
     "execution_count": 145,
     "metadata": {},
     "output_type": "execute_result"
    }
   ],
   "source": [
    "almostEquilateralTris(1000000000)"
   ]
  },
  {
   "cell_type": "markdown",
   "id": "3212e57e",
   "metadata": {},
   "source": [
    "## Problem #95"
   ]
  },
  {
   "cell_type": "markdown",
   "id": "672cacc3",
   "metadata": {},
   "source": [
    "Find the smallest member of the longest amicable chain with no element exceeding one million."
   ]
  },
  {
   "cell_type": "code",
   "execution_count": 28,
   "id": "cd4b80fc",
   "metadata": {},
   "outputs": [],
   "source": [
    "import math"
   ]
  },
  {
   "cell_type": "code",
   "execution_count": 54,
   "id": "a32c6ff8",
   "metadata": {},
   "outputs": [],
   "source": [
    "def smallestLongestAmicable(cap):\n",
    "    primes = generatePrimesTo(math.ceil(cap**0.5))\n",
    "    memo = {1:0}\n",
    "    chains = dict()\n",
    "    mxChain = 0\n",
    "    mxNum = 1\n",
    "    for n in range(2, cap+1):\n",
    "        curSet, nums = set(), list()\n",
    "        chLength = amicableChain(n, primes, memo, chains, cap, curSet, nums)\n",
    "        if chLength > mxChain:\n",
    "            mxChain = chLength\n",
    "            mxNum = n\n",
    "    print(\"Max Chain Length:\", mxChain)\n",
    "    return mxNum"
   ]
  },
  {
   "cell_type": "code",
   "execution_count": 29,
   "id": "301a3265",
   "metadata": {},
   "outputs": [],
   "source": [
    "def amicableChain(n, primes, memo, chains, cap, curSet, nums):\n",
    "    if n in memo:\n",
    "        val = memo[n]\n",
    "        if len(nums) > 0:\n",
    "            for num in nums:\n",
    "                memo[num] = 0\n",
    "        return val\n",
    "    if n > cap:\n",
    "        for val in nums:\n",
    "            memo[val] = 0\n",
    "        return 0\n",
    "    if n in curSet:\n",
    "        i = 0\n",
    "        while nums[i] != n:\n",
    "            i += 1\n",
    "        length = len(nums) - i\n",
    "        mn = n\n",
    "        for j in range(i):\n",
    "            memo[nums[j]] = 0\n",
    "        for j in range(i, len(nums)):\n",
    "            val = nums[j]\n",
    "            memo[val] = length\n",
    "            if val < mn:\n",
    "                mn = val\n",
    "        if length in chains:\n",
    "            if mn < chains[length]:\n",
    "                chains[length] = mn\n",
    "        else:\n",
    "            chains[length] = mn\n",
    "        return length\n",
    "    curSet.add(n)\n",
    "    nums.append(n)\n",
    "    pds = properDivSum(n, primes)\n",
    "    amicableChain(pds, primes, memo, chains, cap, curSet, nums)\n",
    "    return memo[n]"
   ]
  },
  {
   "cell_type": "code",
   "execution_count": 24,
   "id": "fed960c0",
   "metadata": {},
   "outputs": [],
   "source": [
    "def properDivSum(n, primes):\n",
    "    divs = 1\n",
    "    n_copy = n\n",
    "    root = n**0.5\n",
    "    for p in primes:\n",
    "        if n == 1 or root < p:\n",
    "            break\n",
    "        power = 1\n",
    "        curSum = 1\n",
    "        while n % p == 0:\n",
    "            n //= p\n",
    "            power *= p\n",
    "            curSum += power\n",
    "        divs *= curSum\n",
    "    if n != 1:\n",
    "        divs *= (n+1)\n",
    "    return divs - n_copy"
   ]
  },
  {
   "cell_type": "code",
   "execution_count": 25,
   "id": "c9e9e264",
   "metadata": {},
   "outputs": [],
   "source": [
    "def generatePrimesTo(n):\n",
    "    primes = [2,3,5,7]\n",
    "    i = 11\n",
    "    while i < n:\n",
    "        for j in [0, 2, 6, 8]:\n",
    "            if isPrime(i+j, primes):\n",
    "                primes.append(i+j)\n",
    "        i += 10\n",
    "    while primes[-1] > n:\n",
    "        primes.pop()\n",
    "    return primes"
   ]
  },
  {
   "cell_type": "code",
   "execution_count": 26,
   "id": "b10c4529",
   "metadata": {},
   "outputs": [],
   "source": [
    "def isPrime(n, primes):\n",
    "    if n < 11:\n",
    "        return False if n not in [2,3,5,7] else True\n",
    "    i = 0\n",
    "    root = math.floor(n**0.5)\n",
    "    while i < len(primes) and primes[i] <= root:\n",
    "        if n % primes[i] == 0:\n",
    "            return False\n",
    "        i += 1\n",
    "    return True"
   ]
  },
  {
   "cell_type": "code",
   "execution_count": 55,
   "id": "b13fcccf",
   "metadata": {},
   "outputs": [
    {
     "name": "stdout",
     "output_type": "stream",
     "text": [
      "Max Chain Length: 28\n"
     ]
    },
    {
     "data": {
      "text/plain": [
       "14316"
      ]
     },
     "execution_count": 55,
     "metadata": {},
     "output_type": "execute_result"
    }
   ],
   "source": [
    "smallestLongestAmicable(1000000)"
   ]
  },
  {
   "cell_type": "markdown",
   "id": "318d968d",
   "metadata": {},
   "source": [
    "## Problem #96"
   ]
  },
  {
   "cell_type": "markdown",
   "id": "bf96fa2d",
   "metadata": {},
   "source": [
    "By solving all fifty puzzles find the sum of the 3-digit numbers found in the top left corner of each solution grid; for example, 483 is the 3-digit number found in the top left corner of the solution grid above."
   ]
  },
  {
   "cell_type": "code",
   "execution_count": 377,
   "id": "baf14804",
   "metadata": {},
   "outputs": [],
   "source": [
    "def solveAllGrids():\n",
    "    total = 0\n",
    "    for n in range(50):\n",
    "        sud = readSudoku('sudoku_p96.txt')[9*n:9*(n+1)]\n",
    "        pmap = dict()\n",
    "        for i in range(9):\n",
    "            for j in range(9):\n",
    "                pmap[(i,j)] = set(range(1,10))\n",
    "        stack = getSudokuStack(sud, pmap)\n",
    "        result = backTrackSudoku(sud, pmap, stack)\n",
    "        total += 100*result[0][0] + 10*result[0][1] + result[0][2]\n",
    "    return total"
   ]
  },
  {
   "cell_type": "code",
   "execution_count": 367,
   "id": "0971cb9e",
   "metadata": {},
   "outputs": [],
   "source": [
    "def backTrackSudoku(sud, pmap, stack):\n",
    "    if len(stack) == 0:\n",
    "        for i in range(9):\n",
    "            for j in range(9):\n",
    "                if sud[i][j] == 0:\n",
    "                    return None\n",
    "        return sud\n",
    "    k, coord = stack.pop()\n",
    "    if len(pmap[coord]) == 0:\n",
    "        stack.append([k, coord])\n",
    "        return None\n",
    "    r, c = coord\n",
    "    oldSet = set(pmap[coord])\n",
    "    for val in oldSet:\n",
    "        sud[r][c] = val\n",
    "        newCoords = updateGrid(val, coord, pmap)\n",
    "        bt = backTrackSudoku(sud, pmap, stack)\n",
    "        if bt is not None:\n",
    "            return bt\n",
    "        for pos in newCoords:\n",
    "            pmap[pos].add(val)\n",
    "    pmap[coord] = oldSet\n",
    "    sud[r][c] = 0\n",
    "    stack.append([k, coord])\n",
    "    return None"
   ]
  },
  {
   "cell_type": "code",
   "execution_count": 351,
   "id": "67884f64",
   "metadata": {},
   "outputs": [],
   "source": [
    "def updateGrid(val, coord, pmap):\n",
    "    updatedCoords = []\n",
    "    pmap[coord] = set()\n",
    "    r, c = coord\n",
    "    for i in range(1, 9):\n",
    "        for pos in [(r, (c + i)%9), ((r + i)%9, c)]:\n",
    "            if val in pmap[pos]:\n",
    "                updatedCoords.append(pos)\n",
    "                pmap[pos].remove(val)\n",
    "    i, j = (r // 3)*3, (c // 3)*3\n",
    "    for a in range(3):\n",
    "        for b in range(3):\n",
    "            pos = (i+a, j+b)\n",
    "            if pos == coord:\n",
    "                continue\n",
    "            if val in pmap[pos]:\n",
    "                updatedCoords.append(pos)\n",
    "                pmap[pos].remove(val)\n",
    "    return updatedCoords"
   ]
  },
  {
   "cell_type": "code",
   "execution_count": 292,
   "id": "4d78bf6f",
   "metadata": {},
   "outputs": [],
   "source": [
    "def getSudokuStack(sud, pmap):\n",
    "    stack = []\n",
    "    for r in range(9):\n",
    "        for c in range(9):\n",
    "            val = sud[r][c]\n",
    "            coord = (r,c)\n",
    "            if val == 0:\n",
    "                stack.append(coord)\n",
    "                continue\n",
    "            updateGrid(val, coord, pmap)\n",
    "    newStack = [[len(pmap[pos]), pos] for pos in stack]\n",
    "    newStack.sort(reverse=True)\n",
    "    return newStack"
   ]
  },
  {
   "cell_type": "code",
   "execution_count": 294,
   "id": "ee88d811",
   "metadata": {},
   "outputs": [],
   "source": [
    "def readSudoku(filename):\n",
    "    sud = []\n",
    "    with open(filename, 'r') as f:\n",
    "        for line in f.readlines():\n",
    "            line = line.strip()\n",
    "            if line.startswith('G'):\n",
    "                continue\n",
    "            sud.append([int(x) for x in line])\n",
    "    return sud"
   ]
  },
  {
   "cell_type": "code",
   "execution_count": 380,
   "id": "0f53eb77",
   "metadata": {},
   "outputs": [
    {
     "data": {
      "text/plain": [
       "24702"
      ]
     },
     "execution_count": 380,
     "metadata": {},
     "output_type": "execute_result"
    }
   ],
   "source": [
    "solveAllGrids()"
   ]
  },
  {
   "cell_type": "markdown",
   "id": "c42eb1fc",
   "metadata": {},
   "source": [
    "## Problem #97"
   ]
  },
  {
   "cell_type": "code",
   "execution_count": 58,
   "id": "06084555",
   "metadata": {},
   "outputs": [],
   "source": [
    "def largeNonMersennePrime():\n",
    "    num = 28433\n",
    "    k = 7830457\n",
    "    ten = 10**10\n",
    "    for _ in range(k):\n",
    "        num *= 2\n",
    "        num %= ten\n",
    "    return (num + 1) % ten"
   ]
  },
  {
   "cell_type": "code",
   "execution_count": 59,
   "id": "dd93a80b",
   "metadata": {},
   "outputs": [
    {
     "data": {
      "text/plain": [
       "8739992577"
      ]
     },
     "execution_count": 59,
     "metadata": {},
     "output_type": "execute_result"
    }
   ],
   "source": [
    "largeNonMersennePrime()"
   ]
  },
  {
   "cell_type": "markdown",
   "id": "2e045efa",
   "metadata": {},
   "source": [
    "## Problem #98"
   ]
  },
  {
   "cell_type": "markdown",
   "id": "0cabfeb3",
   "metadata": {},
   "source": [
    "Find all the square anagram word pairs (a palindromic word is NOT considered to be an anagram of itself). What is the largest square number formed by any member of such a pair?"
   ]
  },
  {
   "cell_type": "code",
   "execution_count": 88,
   "id": "1b34b1e5",
   "metadata": {},
   "outputs": [],
   "source": [
    "import math"
   ]
  },
  {
   "cell_type": "code",
   "execution_count": 118,
   "id": "c3e3b34e",
   "metadata": {},
   "outputs": [],
   "source": [
    "def largestAnagramicSquare():\n",
    "    grams = findAnagramWords(readWords('anagramicSquares_p98.txt'))\n",
    "    mxSquare = -1\n",
    "    mxPair = [\"\", \"\"]\n",
    "    for w1, w2 in grams:\n",
    "        val = squareForPair(w1, w2)\n",
    "        if val > mxSquare:\n",
    "            mxSquare = val\n",
    "            mxPair = [w1, w2]\n",
    "    print(mxPair)\n",
    "    return mxSquare"
   ]
  },
  {
   "cell_type": "code",
   "execution_count": 109,
   "id": "1a24b1c6",
   "metadata": {},
   "outputs": [],
   "source": [
    "def squareForPair(w1, w2):\n",
    "    n = len(w1) - 1\n",
    "    squares = set()\n",
    "    i = math.ceil((10**n)**0.5)\n",
    "    cap = math.ceil((10**(n+1))**0.5)\n",
    "    mxNum = -1\n",
    "    while i < cap:\n",
    "        squares.add(i**2)\n",
    "        i += 1\n",
    "    for sq in squares:\n",
    "        digs = digList(sq)\n",
    "        letVal = dict()\n",
    "        distincts = set()\n",
    "        isGood = True\n",
    "        for char, d in zip(w1, digs):\n",
    "            if char in letVal:\n",
    "                if d != letVal[char]:\n",
    "                    isGood = False\n",
    "                    break\n",
    "            else:\n",
    "                if d in distincts:\n",
    "                    isGood = False\n",
    "                    break\n",
    "                letVal[char] = d\n",
    "                distincts.add(d)\n",
    "        if isGood:\n",
    "            otherDigs = [letVal[char] for char in w2]\n",
    "            num = digsToNum(otherDigs)\n",
    "            if num in squares:\n",
    "                num = max(sq, num)\n",
    "                if num > mxNum:\n",
    "                    mxNum = num\n",
    "    return mxNum"
   ]
  },
  {
   "cell_type": "code",
   "execution_count": 102,
   "id": "381c9dab",
   "metadata": {},
   "outputs": [],
   "source": [
    "def digsToNum(digs):\n",
    "    num = digs[0]\n",
    "    for i in range(1, len(digs)):\n",
    "        num *= 10\n",
    "        num += digs[i]\n",
    "    return num"
   ]
  },
  {
   "cell_type": "code",
   "execution_count": 100,
   "id": "3776ee0d",
   "metadata": {},
   "outputs": [],
   "source": [
    "def digList(num):\n",
    "    digs = []\n",
    "    while num > 0:\n",
    "        num, r = divmod(num, 10)\n",
    "        digs.append(r)\n",
    "    return digs[::-1]"
   ]
  },
  {
   "cell_type": "code",
   "execution_count": 84,
   "id": "84e79b4b",
   "metadata": {},
   "outputs": [],
   "source": [
    "def findAnagramWords(words):\n",
    "    letterValues = dict()\n",
    "    letters = \"ABCDEFGHIJKLMNOPQRSTUVWXYZ\"\n",
    "    primes = [2, 3, 5, 7, 11, 13, 17, 19, 23, 29, 31, 37, 41, 43, 47, 53, 59, 61, 67, 71, 73, 79, 83, 89, 97, 101]\n",
    "    wordValues = dict()\n",
    "    anagramList = list()\n",
    "    for l, p in zip(letters, primes):\n",
    "        letterValues[l] = p\n",
    "    for word in words:\n",
    "        val = 1\n",
    "        for char in word:\n",
    "            val *= letterValues[char]\n",
    "        if val in wordValues:\n",
    "            wordValues[val].append(word)\n",
    "        else:\n",
    "            wordValues[val] = [word]\n",
    "    for x in wordValues.values():\n",
    "        if len(x) == 2:\n",
    "            anagramList.append(x)\n",
    "        if len(x) > 2:\n",
    "            for i in range(len(x)-1):\n",
    "                for j in range(i+1, len(x)):\n",
    "                    anagramList.append([x[i], x[j]])\n",
    "    return anagramList"
   ]
  },
  {
   "cell_type": "code",
   "execution_count": 85,
   "id": "286c9eb8",
   "metadata": {},
   "outputs": [],
   "source": [
    "def readWords(filename):\n",
    "    with open(filename, 'r') as f:\n",
    "        words = f.readlines()[0].split('\\\",\\\"')\n",
    "        words[0] = words[0].strip('\\\"')\n",
    "        words[-1] = words[-1].strip('\\\"')\n",
    "    return words"
   ]
  },
  {
   "cell_type": "code",
   "execution_count": 119,
   "id": "71c0adb9",
   "metadata": {},
   "outputs": [
    {
     "name": "stdout",
     "output_type": "stream",
     "text": [
      "['BOARD', 'BROAD']\n"
     ]
    },
    {
     "data": {
      "text/plain": [
       "18769"
      ]
     },
     "execution_count": 119,
     "metadata": {},
     "output_type": "execute_result"
    }
   ],
   "source": [
    "largestAnagramicSquare()"
   ]
  },
  {
   "cell_type": "markdown",
   "id": "63219ed5",
   "metadata": {},
   "source": [
    "## Problem #99"
   ]
  },
  {
   "cell_type": "markdown",
   "id": "715bb8fa",
   "metadata": {},
   "source": [
    "Using the text file containing one thousand lines with a base/exponent pair on each line, determine which line number has the greatest numerical value."
   ]
  },
  {
   "cell_type": "code",
   "execution_count": 122,
   "id": "2943bdd1",
   "metadata": {},
   "outputs": [],
   "source": [
    "import math"
   ]
  },
  {
   "cell_type": "code",
   "execution_count": 123,
   "id": "480413e4",
   "metadata": {},
   "outputs": [],
   "source": [
    "def greatestExponentialValue():\n",
    "    pairs = readExponentials('largestExponential_p99.txt')\n",
    "    mxVal = -1\n",
    "    mxPos = -1\n",
    "    for i, pair in enumerate(pairs):\n",
    "        pos = i + 1\n",
    "        a, b = pair\n",
    "        a = math.log10(a)\n",
    "        val = a * b\n",
    "        if val > mxVal:\n",
    "            mxVal = val\n",
    "            mxPos = pos\n",
    "    return mxPos"
   ]
  },
  {
   "cell_type": "code",
   "execution_count": 120,
   "id": "7d01fafe",
   "metadata": {},
   "outputs": [],
   "source": [
    "def readExponentials(filename):\n",
    "    pairs = []\n",
    "    with open(filename, 'r') as f:\n",
    "        for line in f.readlines():\n",
    "            line = [int(x) for x in line.strip().split(',')]\n",
    "            pairs.append(line)\n",
    "    return pairs"
   ]
  },
  {
   "cell_type": "code",
   "execution_count": 124,
   "id": "4b6cc1fb",
   "metadata": {},
   "outputs": [
    {
     "data": {
      "text/plain": [
       "709"
      ]
     },
     "execution_count": 124,
     "metadata": {},
     "output_type": "execute_result"
    }
   ],
   "source": [
    "greatestExponentialValue()"
   ]
  },
  {
   "cell_type": "markdown",
   "id": "0dd201db",
   "metadata": {},
   "source": [
    "## Problem #100"
   ]
  },
  {
   "cell_type": "markdown",
   "id": "e813ac9e",
   "metadata": {},
   "source": [
    "By finding the first arrangement to contain over one trillion discs in total, determine the number of blue discs that the box would contain."
   ]
  },
  {
   "cell_type": "code",
   "execution_count": 161,
   "id": "ab5383ee",
   "metadata": {},
   "outputs": [],
   "source": [
    "import math"
   ]
  },
  {
   "cell_type": "code",
   "execution_count": 198,
   "id": "e211d8c7",
   "metadata": {},
   "outputs": [],
   "source": [
    "def firstArrangedProbabilityOver(cap):\n",
    "    rn, rd = 3,2\n",
    "    B,T = 3,4\n",
    "    i = 0\n",
    "    while True:\n",
    "        nrn, nrd = rn + 2*rd, rn + rd\n",
    "        if i % 2 == 0:\n",
    "            B = rn * nrd\n",
    "            T = rn * nrn\n",
    "        else:\n",
    "            B = rd * nrn\n",
    "            T = 2 * rd * nrd\n",
    "        if T > cap:\n",
    "            print(\"Total Discs:\", T)\n",
    "            return B\n",
    "        rn, rd = nrn, nrd\n",
    "        i += 1"
   ]
  },
  {
   "cell_type": "code",
   "execution_count": 199,
   "id": "f869473f",
   "metadata": {},
   "outputs": [
    {
     "name": "stdout",
     "output_type": "stream",
     "text": [
      "Total Discs: 1070379110497\n"
     ]
    },
    {
     "data": {
      "text/plain": [
       "756872327473"
      ]
     },
     "execution_count": 199,
     "metadata": {},
     "output_type": "execute_result"
    }
   ],
   "source": [
    "firstArrangedProbabilityOver(10**12)"
   ]
  },
  {
   "cell_type": "code",
   "execution_count": null,
   "id": "734b1ee4",
   "metadata": {},
   "outputs": [],
   "source": []
  }
 ],
 "metadata": {
  "kernelspec": {
   "display_name": "Python 3 (ipykernel)",
   "language": "python",
   "name": "python3"
  },
  "language_info": {
   "codemirror_mode": {
    "name": "ipython",
    "version": 3
   },
   "file_extension": ".py",
   "mimetype": "text/x-python",
   "name": "python",
   "nbconvert_exporter": "python",
   "pygments_lexer": "ipython3",
   "version": "3.11.5"
  }
 },
 "nbformat": 4,
 "nbformat_minor": 5
}
