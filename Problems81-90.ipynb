{
 "cells": [
  {
   "cell_type": "markdown",
   "id": "88826720",
   "metadata": {},
   "source": [
    "# Project Euler\n",
    "## Problems 81 - 90\n",
    "\n",
    "### ************************"
   ]
  },
  {
   "cell_type": "markdown",
   "id": "d580d9eb",
   "metadata": {},
   "source": [
    "## Problem #81"
   ]
  },
  {
   "cell_type": "markdown",
   "id": "06f5abb4",
   "metadata": {},
   "source": [
    "Find the minimal path sum from the top left to the bottom right by only moving right and down in the 31K text file containing an 80 by 80 matrix."
   ]
  },
  {
   "cell_type": "code",
   "execution_count": 9,
   "id": "db3d77f0",
   "metadata": {},
   "outputs": [],
   "source": [
    "def minimalPathTwoWays(arr):\n",
    "    n = len(arr)\n",
    "    for i in range(1, n):\n",
    "        arr[0][i] += arr[0][i-1]\n",
    "        arr[i][0] += arr[i-1][0]\n",
    "    for i in range(1, n):\n",
    "        for j in range(1, n):\n",
    "            arr[i][j] += min(arr[i-1][j], arr[i][j-1])\n",
    "    return arr[-1][-1]"
   ]
  },
  {
   "cell_type": "code",
   "execution_count": 10,
   "id": "ab40554f",
   "metadata": {},
   "outputs": [],
   "source": [
    "def readMatrix(filename):\n",
    "    matrix = []\n",
    "    with open(filename, 'r') as f:\n",
    "        for line in f.readlines():\n",
    "            line = line.strip()\n",
    "            row = [int(x) for x in line.split(',')]\n",
    "            matrix.append(row)\n",
    "    return matrix"
   ]
  },
  {
   "cell_type": "code",
   "execution_count": 11,
   "id": "1042bebc",
   "metadata": {},
   "outputs": [
    {
     "data": {
      "text/plain": [
       "427337"
      ]
     },
     "execution_count": 11,
     "metadata": {},
     "output_type": "execute_result"
    }
   ],
   "source": [
    "minimalPathTwoWays(readMatrix('pathSum_p81.txt'))"
   ]
  },
  {
   "cell_type": "markdown",
   "id": "edb0dada",
   "metadata": {},
   "source": [
    "## Problem #82"
   ]
  },
  {
   "cell_type": "markdown",
   "id": "a2c0cd70",
   "metadata": {},
   "source": [
    "Find the minimal path sum from the left column to the right column in the 80 by 80 matrix by moving to the right, up and down. "
   ]
  },
  {
   "cell_type": "code",
   "execution_count": 303,
   "id": "fbf3ae21",
   "metadata": {},
   "outputs": [],
   "source": [
    "def minimalPathThreeWays(arr):\n",
    "    n = len(arr)\n",
    "    for col in range(1, n):\n",
    "        newCol = []\n",
    "        for row in range(n):\n",
    "            curMin = arr[row][col] + arr[row][col-1]\n",
    "            curSum = arr[row][col]\n",
    "            for i in range(row-1, -1, -1):\n",
    "                curSum += arr[i][col]\n",
    "                if curSum + arr[i][col-1] < curMin:\n",
    "                    curMin = curSum + arr[i][col-1]\n",
    "            curSum = arr[row][col]\n",
    "            for i in range(row+1, n):\n",
    "                curSum += arr[i][col]\n",
    "                if curSum + arr[i][col-1] < curMin:\n",
    "                    curMin = curSum + arr[i][col-1]\n",
    "            newCol.append(curMin)\n",
    "        for row in range(n):\n",
    "            arr[row][col] = newCol[row]\n",
    "    theMin = arr[0][-1]\n",
    "    for r in range(1, n):\n",
    "        if arr[r][-1] < theMin:\n",
    "            theMin = arr[r][-1]\n",
    "    return theMin"
   ]
  },
  {
   "cell_type": "code",
   "execution_count": 304,
   "id": "cae4ce23",
   "metadata": {},
   "outputs": [],
   "source": [
    "def minimalPathThreeWaysDijkstras(arr):\n",
    "    rows, cols = len(arr), len(arr[0])\n",
    "    minSums = [[float(\"inf\") for _ in range(cols)] for _ in range(rows)]\n",
    "    priq = []\n",
    "    for i in range(rows):\n",
    "        heapq.heappush(priq, (arr[i][0], i, 0))\n",
    "        minSums[i][0] = arr[i][0]\n",
    "    while len(priq) > 0:\n",
    "        curMin, i, j = heapq.heappop(priq)\n",
    "        if j == cols - 1:\n",
    "            return curMin\n",
    "        for di, dj in [(-1,0),(1,0),(0,1)]:\n",
    "            ni, nj = i + di, j + dj\n",
    "            if 0 <= ni < rows and 0 <= nj < cols:\n",
    "                newSum = arr[ni][nj] + curMin\n",
    "                if newSum < minSums[ni][nj]:\n",
    "                    minSums[ni][nj] = newSum\n",
    "                    heapq.heappush(priq, (newSum, ni, nj))\n",
    "    return -1    "
   ]
  },
  {
   "cell_type": "code",
   "execution_count": 305,
   "id": "77089cea",
   "metadata": {},
   "outputs": [],
   "source": [
    "def readMatrix(filename):\n",
    "    matrix = []\n",
    "    with open(filename, 'r') as f:\n",
    "        for line in f.readlines():\n",
    "            line = line.strip()\n",
    "            row = [int(x) for x in line.split(',')]\n",
    "            matrix.append(row)\n",
    "    return matrix"
   ]
  },
  {
   "cell_type": "code",
   "execution_count": 306,
   "id": "9f57720a",
   "metadata": {},
   "outputs": [
    {
     "data": {
      "text/plain": [
       "260324"
      ]
     },
     "execution_count": 306,
     "metadata": {},
     "output_type": "execute_result"
    }
   ],
   "source": [
    "minimalPathThreeWays(readMatrix('pathSum_p81.txt'))"
   ]
  },
  {
   "cell_type": "code",
   "execution_count": 307,
   "id": "7d98683a",
   "metadata": {},
   "outputs": [
    {
     "data": {
      "text/plain": [
       "260324"
      ]
     },
     "execution_count": 307,
     "metadata": {},
     "output_type": "execute_result"
    }
   ],
   "source": [
    "minimalPathThreeWaysDijkstras(readMatrix('pathSum_p81.txt'))"
   ]
  },
  {
   "cell_type": "markdown",
   "id": "80fc13e4",
   "metadata": {},
   "source": [
    "## Problem #83"
   ]
  },
  {
   "cell_type": "markdown",
   "id": "1166999b",
   "metadata": {},
   "source": [
    "Find the minimal path sum from the top left to the bottom right by moving left, right, up, and down in the 80 by 80 matrix."
   ]
  },
  {
   "cell_type": "code",
   "execution_count": 291,
   "id": "b0a5bf2d",
   "metadata": {},
   "outputs": [],
   "source": [
    "import heapq"
   ]
  },
  {
   "cell_type": "code",
   "execution_count": 292,
   "id": "5661de2c",
   "metadata": {},
   "outputs": [],
   "source": [
    "def minimalPathFourWays(arr):\n",
    "    rows, cols = len(arr), len(arr[0])\n",
    "    minSums = [[float(\"inf\") for _ in range(cols)] for _ in range(rows)]\n",
    "    minSums[0][0] = arr[0][0]\n",
    "    priq = [(minSums[0][0], 0, 0)]\n",
    "    return findMinimalPathDijkstras(arr, rows, cols, minSums, priq)"
   ]
  },
  {
   "cell_type": "code",
   "execution_count": 293,
   "id": "f56f23fb",
   "metadata": {},
   "outputs": [],
   "source": [
    "def findMinimalPathDijkstras(arr, rows, cols, minSums, priq):\n",
    "    while len(priq) > 0:\n",
    "        curMin, i, j = heapq.heappop(priq)\n",
    "        if i == rows - 1 and j == cols - 1:\n",
    "            return curMin\n",
    "        for di, dj in [(-1,0),(1,0),(0,-1),(0,1)]:\n",
    "            ni, nj = i + di, j + dj\n",
    "            if 0 <= ni < rows and 0 <= nj < cols:\n",
    "                newSum = arr[ni][nj] + curMin\n",
    "                if newSum < minSums[ni][nj]:\n",
    "                    minSums[ni][nj] = newSum\n",
    "                    heapq.heappush(priq, (newSum, ni, nj))\n",
    "    return -1"
   ]
  },
  {
   "cell_type": "code",
   "execution_count": 294,
   "id": "2f124675",
   "metadata": {},
   "outputs": [],
   "source": [
    "# inefficient; checks every path\n",
    "def findMinimalPathBacktracking(arr, vis, i, j, curSum, minSum):\n",
    "    if curSum >= minSum[0]:\n",
    "        return\n",
    "    if i == len(arr)-1 and j == len(arr[0])-1:\n",
    "        minSum[0] = curSum\n",
    "        return\n",
    "    for di, dj in [(-1,0), (1,0), (0,-1), (0,1)]:\n",
    "        ni, nj = i + di, j + dj\n",
    "        if ni >= 0 and ni < len(arr) and nj >= 0 and nj < len(arr[0]) and not vis[ni][nj]:\n",
    "            vis[ni][nj] = True\n",
    "            findMinimalPath(arr, vis, ni, nj, curSum + arr[ni][nj], minSum)\n",
    "            vis[ni][nj] = False"
   ]
  },
  {
   "cell_type": "code",
   "execution_count": 295,
   "id": "7fd55d46",
   "metadata": {},
   "outputs": [],
   "source": [
    "def readMatrix(filename):\n",
    "    matrix = []\n",
    "    with open(filename, 'r') as f:\n",
    "        for line in f.readlines():\n",
    "            line = line.strip()\n",
    "            row = [int(x) for x in line.split(',')]\n",
    "            matrix.append(row)\n",
    "    return matrix"
   ]
  },
  {
   "cell_type": "code",
   "execution_count": 297,
   "id": "4d58197f",
   "metadata": {},
   "outputs": [
    {
     "data": {
      "text/plain": [
       "425185"
      ]
     },
     "execution_count": 297,
     "metadata": {},
     "output_type": "execute_result"
    }
   ],
   "source": [
    "minimalPathFourWays(readMatrix('pathSum_p81.txt'))"
   ]
  },
  {
   "cell_type": "markdown",
   "id": "900b190a",
   "metadata": {},
   "source": [
    "## Problem #84"
   ]
  },
  {
   "cell_type": "markdown",
   "id": "c00f8a96",
   "metadata": {},
   "source": [
    "If, instead of using two 6-sided dice, two 4-sided dice are used, find the six-digit modal string."
   ]
  },
  {
   "cell_type": "code",
   "execution_count": 1,
   "id": "80a53219",
   "metadata": {},
   "outputs": [],
   "source": [
    "import random"
   ]
  },
  {
   "cell_type": "code",
   "execution_count": 58,
   "id": "87fa1824",
   "metadata": {},
   "outputs": [],
   "source": [
    "def playMonopoly(dice, games):\n",
    "    board = ['GO', 'A1', 'CC1', 'A2', 'T1', 'R1', 'B1', 'CH1', 'B2', 'B3', 'JAIL', 'C1', 'U1', 'C2', 'C3', \n",
    "            'R2', 'D1', 'CC2', 'D2', 'D3', 'FP', 'E1', 'CH2', 'E2', 'E3', 'R3', 'F1', 'F2', 'U2', 'F3', \n",
    "            'G2J', 'G1', 'G2', 'CC3', 'G3', 'R4', 'CH3', 'H1', 'T2', 'H2']\n",
    "    visits = [0 for _ in range(40)]\n",
    "    chest = ['GO', 'JAIL'] + [\"\" for _ in range(14)]\n",
    "    chance = ['GO', 'JAIL', 'C1', 'E3', 'H2', 'R1', 'NR', 'NR', 'NU', 'BACK3'] + [\"\" for _ in range(6)]\n",
    "    directs = {'GO':0, 'JAIL':10, 'C1':11, 'E3':24, 'H2':39, 'R1':5}\n",
    "    for _ in range(games):\n",
    "        random.shuffle(chest)\n",
    "        random.shuffle(chance)\n",
    "        gameVisits = [0 for _ in range(40)]\n",
    "        statuses = [0 for _ in range(4)]\n",
    "        for _ in range(1000):\n",
    "            playTurn(dice, board, gameVisits, statuses, chest, chance, directs)\n",
    "        for i, val in enumerate(gameVisits):\n",
    "            visits[i] += val\n",
    "    bv = list(zip(board, visits))\n",
    "    bv.sort(key = lambda x: -x[1])\n",
    "    squares = []\n",
    "    for i in range(3):\n",
    "        char = str(board.index(bv[i][0]))\n",
    "        if len(char) == 1:\n",
    "            char = '0' + char\n",
    "        squares.append(char)\n",
    "    return ''.join(squares)"
   ]
  },
  {
   "cell_type": "code",
   "execution_count": 43,
   "id": "b7757720",
   "metadata": {},
   "outputs": [],
   "source": [
    "def playTurn(dice, board, visits, statuses, chest, chance, directs):\n",
    "    d1, d2 = random.randint(1, dice), random.randint(1, dice)\n",
    "    if d1 == d2:\n",
    "        statuses[3] += 1\n",
    "        if statuses[3] == 3:\n",
    "            visits[directs['JAIL']] += 1\n",
    "            statuses[0] = directs['JAIL']\n",
    "            statuses[3] = 0\n",
    "            return\n",
    "    else:\n",
    "        statuses[3] = 0\n",
    "    curPos = (statuses[0] + d1 + d2) % 40\n",
    "    space = board[curPos]\n",
    "    if space == 'G2J':\n",
    "        visits[directs['JAIL']] += 1\n",
    "        statuses[0] = directs['JAIL']\n",
    "    elif space.startswith('CC'):\n",
    "        card = chest[statuses[1]]\n",
    "        if card in directs:\n",
    "            visits[directs[card]] += 1\n",
    "            statuses[0] = directs[card]\n",
    "        else:\n",
    "            visits[curPos] += 1\n",
    "            statuses[0] = curPos\n",
    "        statuses[1] = (statuses[1] + 1) % 16\n",
    "    elif space.startswith('CH'):\n",
    "        card = chance[statuses[2]]\n",
    "        if card in directs:\n",
    "            visits[directs[card]] += 1\n",
    "            statuses[0] = directs[card]\n",
    "        elif card.startswith('N'):\n",
    "            curPos += 1\n",
    "            while not board[curPos].startswith(card[1]):\n",
    "                curPos = (curPos + 1) % 40\n",
    "            visits[curPos] += 1\n",
    "            statuses[0] = curPos\n",
    "        elif card == 'BACK3':\n",
    "            curPos -= 3\n",
    "            if board[curPos].startswith('CC'):\n",
    "                card = chest[statuses[1]]\n",
    "                if card in directs:\n",
    "                    visits[directs[card]] += 1\n",
    "                    statuses[0] = directs[card]\n",
    "                else:\n",
    "                    visits[curPos] += 1\n",
    "                    statuses[0] = curPos\n",
    "                statuses[1] = (statuses[1] + 1) % 16\n",
    "            else:\n",
    "                visits[curPos] += 1\n",
    "                statuses[0] = curPos\n",
    "        else:\n",
    "            visits[curPos] += 1\n",
    "            statuses[0] = curPos\n",
    "        statuses[2] = (statuses[2] + 1) % 16\n",
    "    else:\n",
    "        visits[curPos] += 1\n",
    "        statuses[0] = curPos\n",
    "    return"
   ]
  },
  {
   "cell_type": "code",
   "execution_count": 63,
   "id": "7bd800ce",
   "metadata": {},
   "outputs": [
    {
     "data": {
      "text/plain": [
       "'101524'"
      ]
     },
     "execution_count": 63,
     "metadata": {},
     "output_type": "execute_result"
    }
   ],
   "source": [
    "playMonopoly(4, 1000)"
   ]
  },
  {
   "cell_type": "markdown",
   "id": "f775c617",
   "metadata": {},
   "source": [
    "## Problem #85"
   ]
  },
  {
   "cell_type": "markdown",
   "id": "d9eb6774",
   "metadata": {},
   "source": [
    "Although there exists no rectangular grid that contains exactly two million rectangles, find the area of the grid with the nearest solution."
   ]
  },
  {
   "cell_type": "code",
   "execution_count": 14,
   "id": "4c09c624",
   "metadata": {},
   "outputs": [],
   "source": [
    "import math"
   ]
  },
  {
   "cell_type": "code",
   "execution_count": 25,
   "id": "d65b935e",
   "metadata": {},
   "outputs": [],
   "source": [
    "def findClosestArea(area):\n",
    "    n = 1\n",
    "    tris = []\n",
    "    while tri(n) < area:\n",
    "        tris.append(tri(n))\n",
    "        n += 1\n",
    "    li = 0\n",
    "    ri = len(tris) - 1\n",
    "    curMax = tris[li] * tris[ri]\n",
    "    curPair = math.floor((tris[li] * 2)**0.5), math.floor((tris[ri] * 2)**0.5)\n",
    "    while li < ri:\n",
    "        prod = tris[li] * tris[ri]\n",
    "        if prod > curMax and prod <= area:\n",
    "            curMax = prod\n",
    "            curPair = math.floor((tris[li] * 2)**0.5), math.floor((tris[ri] * 2)**0.5)\n",
    "        if prod < area:\n",
    "            li += 1\n",
    "        else:\n",
    "            ri -= 1\n",
    "    return curPair[0] * curPair[1]"
   ]
  },
  {
   "cell_type": "code",
   "execution_count": 23,
   "id": "3fdf487e",
   "metadata": {},
   "outputs": [],
   "source": [
    "def tri(n):\n",
    "    return n * (n+1) // 2"
   ]
  },
  {
   "cell_type": "code",
   "execution_count": 26,
   "id": "60aa2f1d",
   "metadata": {},
   "outputs": [
    {
     "data": {
      "text/plain": [
       "2772"
      ]
     },
     "execution_count": 26,
     "metadata": {},
     "output_type": "execute_result"
    }
   ],
   "source": [
    "findClosestArea(2000000)"
   ]
  },
  {
   "cell_type": "markdown",
   "id": "815ac5e4",
   "metadata": {},
   "source": [
    "## Problem #86"
   ]
  },
  {
   "cell_type": "markdown",
   "id": "dc79b42f",
   "metadata": {},
   "source": [
    "Find the least value of M such that the number of solutions first exceeds one million."
   ]
  },
  {
   "cell_type": "code",
   "execution_count": 81,
   "id": "8c3e765a",
   "metadata": {},
   "outputs": [],
   "source": [
    "def countShortestPaths(cap):\n",
    "    count = 0\n",
    "    c = 1\n",
    "    squares = set(i**2 for i in range(50000))\n",
    "    while count < cap:\n",
    "        for a in range(1, c+1):\n",
    "            for b in range(a, c+1):\n",
    "                 if shortestPathIsInt(a, b, c, squares):\n",
    "                        count += 1\n",
    "        c += 1\n",
    "    print('Number of Solutions:', count)\n",
    "    return c-1"
   ]
  },
  {
   "cell_type": "code",
   "execution_count": 74,
   "id": "cf388e0e",
   "metadata": {},
   "outputs": [],
   "source": [
    "def shortestPathIsInt(a, b, c, squares):\n",
    "    c1 = a**2 + (b + c)**2\n",
    "    c2 = b**2 + (a + c)**2\n",
    "    c3 = c**2 + (a + b)**2\n",
    "    mn = min(c1, c2, c3)\n",
    "    return mn in squares"
   ]
  },
  {
   "cell_type": "code",
   "execution_count": 84,
   "id": "137f78d2",
   "metadata": {},
   "outputs": [
    {
     "name": "stdout",
     "output_type": "stream",
     "text": [
      "Number of Solutions: 1000457\n"
     ]
    },
    {
     "data": {
      "text/plain": [
       "1818"
      ]
     },
     "execution_count": 84,
     "metadata": {},
     "output_type": "execute_result"
    }
   ],
   "source": [
    "countShortestPaths(1000000)"
   ]
  },
  {
   "cell_type": "markdown",
   "id": "a2cac491",
   "metadata": {},
   "source": [
    "## Problem #87"
   ]
  },
  {
   "cell_type": "markdown",
   "id": "392cb009",
   "metadata": {},
   "source": [
    "How many numbers below fifty million can be expressed as the sum of a prime square, prime cube, and prime fourth power?"
   ]
  },
  {
   "cell_type": "code",
   "execution_count": 89,
   "id": "5a899e99",
   "metadata": {},
   "outputs": [],
   "source": [
    "import math"
   ]
  },
  {
   "cell_type": "code",
   "execution_count": 99,
   "id": "95f21661",
   "metadata": {},
   "outputs": [],
   "source": [
    "def primeSumBelow(cap):\n",
    "    primes = generatePrimesTo(math.ceil(cap**0.5))\n",
    "    bis = primePowersBelow(cap, 2, primes)\n",
    "    tris = primePowersBelow(cap, 3, primes)\n",
    "    quads = primePowersBelow(cap, 4, primes)\n",
    "    distinct = set()\n",
    "    for q in quads:\n",
    "        for t in tris:\n",
    "            if q + t >= cap:\n",
    "                break\n",
    "            for b in bis:\n",
    "                num = q + t + b\n",
    "                if num >= cap:\n",
    "                    break\n",
    "                distinct.add(num)\n",
    "    return len(distinct)"
   ]
  },
  {
   "cell_type": "code",
   "execution_count": 94,
   "id": "5581cadd",
   "metadata": {},
   "outputs": [],
   "source": [
    "def primePowersBelow(cap, n, primes):\n",
    "    ps = []\n",
    "    for p in primes:\n",
    "        val = p**n\n",
    "        if val >= cap:\n",
    "            break\n",
    "        ps.append(val)\n",
    "    return ps"
   ]
  },
  {
   "cell_type": "code",
   "execution_count": 87,
   "id": "a4807e76",
   "metadata": {},
   "outputs": [],
   "source": [
    "def generatePrimesTo(n):\n",
    "    primes = [2,3,5,7]\n",
    "    i = 11\n",
    "    while i < n:\n",
    "        for j in [0, 2, 6, 8]:\n",
    "            if isPrime(i+j, primes):\n",
    "                primes.append(i+j)\n",
    "        i += 10\n",
    "    while primes[-1] > n:\n",
    "        primes.pop()\n",
    "    return primes"
   ]
  },
  {
   "cell_type": "code",
   "execution_count": 88,
   "id": "e0838df5",
   "metadata": {},
   "outputs": [],
   "source": [
    "def isPrime(n, primes):\n",
    "    if n < 11:\n",
    "        return False if n not in [2,3,5,7] else True\n",
    "    i = 0\n",
    "    root = math.floor(n**0.5)\n",
    "    while i < len(primes) and primes[i] <= root:\n",
    "        if n % primes[i] == 0:\n",
    "            return False\n",
    "        i += 1\n",
    "    return True"
   ]
  },
  {
   "cell_type": "code",
   "execution_count": 104,
   "id": "411842b7",
   "metadata": {},
   "outputs": [
    {
     "data": {
      "text/plain": [
       "1097343"
      ]
     },
     "execution_count": 104,
     "metadata": {},
     "output_type": "execute_result"
    }
   ],
   "source": [
    "primeSumBelow(50000000)"
   ]
  },
  {
   "cell_type": "markdown",
   "id": "f1f1e68e",
   "metadata": {},
   "source": [
    "## Problem #88"
   ]
  },
  {
   "cell_type": "markdown",
   "id": "42396e95",
   "metadata": {},
   "source": [
    "What is the sum of all the minimal product-sum numbers for 2 <= k <= 12,000?"
   ]
  },
  {
   "cell_type": "code",
   "execution_count": 125,
   "id": "203ca6d9",
   "metadata": {},
   "outputs": [],
   "source": [
    "import math"
   ]
  },
  {
   "cell_type": "code",
   "execution_count": 152,
   "id": "fb83d733",
   "metadata": {},
   "outputs": [],
   "source": [
    "def sumMinProdSums(k):\n",
    "    totalSet = set()\n",
    "    for i in range(2, k+1):\n",
    "        totalSet.add(minimalProdSum(i))\n",
    "    return sum(totalSet)"
   ]
  },
  {
   "cell_type": "code",
   "execution_count": 149,
   "id": "872d07a6",
   "metadata": {},
   "outputs": [],
   "source": [
    "def minimalProdSum(k):\n",
    "    best = 2*k\n",
    "    size = math.floor(math.log2(best))\n",
    "    stack = [1 for _ in range(size)]\n",
    "    stack[-1], stack[-2] = 2, 2\n",
    "    curSum = sum(stack) + k - len(stack)\n",
    "    curProd = prod(stack)\n",
    "    while True:\n",
    "        while curProd < best:\n",
    "            if curProd == curSum and curSum < best:\n",
    "                best = curSum\n",
    "            curProd //= stack[-1]\n",
    "            stack[-1] += 1\n",
    "            curSum += 1\n",
    "            curProd *= stack[-1]\n",
    "        stack, curProd, curSum = nextStack(stack, k, best)\n",
    "        if len(stack) == 0:\n",
    "            break\n",
    "    return best"
   ]
  },
  {
   "cell_type": "code",
   "execution_count": 127,
   "id": "f8ceab9a",
   "metadata": {},
   "outputs": [],
   "source": [
    "def nextStack(stack, k, best):\n",
    "    for i in range(len(stack)-2, -1, -1):\n",
    "        val = stack[i] + 1\n",
    "        newStack = stack[:i] + [val for _ in range(len(stack) - i)]\n",
    "        curProd = prod(newStack)\n",
    "        if curProd < best:\n",
    "            return newStack, curProd, sum(newStack) + k - len(newStack)\n",
    "    return [], 0, 0"
   ]
  },
  {
   "cell_type": "code",
   "execution_count": 128,
   "id": "2bc905db",
   "metadata": {},
   "outputs": [],
   "source": [
    "def prod(arr):\n",
    "    p = 1\n",
    "    for e in arr:\n",
    "        p *= e\n",
    "    return p"
   ]
  },
  {
   "cell_type": "code",
   "execution_count": 156,
   "id": "a96e47e9",
   "metadata": {},
   "outputs": [
    {
     "data": {
      "text/plain": [
       "7587457"
      ]
     },
     "execution_count": 156,
     "metadata": {},
     "output_type": "execute_result"
    }
   ],
   "source": [
    "sumMinProdSums(12000)"
   ]
  },
  {
   "cell_type": "markdown",
   "id": "c9fa95cb",
   "metadata": {},
   "source": [
    "## Problem #89"
   ]
  },
  {
   "cell_type": "markdown",
   "id": "52f0d27c",
   "metadata": {},
   "source": [
    "Find the number of characters saved by writing each of these in their minimal roman numeral form."
   ]
  },
  {
   "cell_type": "code",
   "execution_count": 172,
   "id": "710ed844",
   "metadata": {},
   "outputs": [],
   "source": [
    "def shortenNumerals(filename):\n",
    "    saved = 0\n",
    "    numerals = readNumerals(filename)\n",
    "    for rom in numerals:\n",
    "        num = convertToNumeral(convertFromNumeral(rom))\n",
    "        saved += len(rom) - len(num)\n",
    "    return saved"
   ]
  },
  {
   "cell_type": "code",
   "execution_count": 169,
   "id": "dd3f613f",
   "metadata": {},
   "outputs": [],
   "source": [
    "def convertFromNumeral(rom):\n",
    "    n = 0\n",
    "    i = 0\n",
    "    dct = {'M':1000, 'D':500, 'C':100, 'L':50, 'X':10, 'V':5, 'I':1}\n",
    "    while i < len(rom):\n",
    "        if i == len(rom) - 1:\n",
    "            n += dct[rom[i]]\n",
    "            break\n",
    "        num = rom[i]\n",
    "        if num == 'C':\n",
    "            if rom[i+1] == 'M':\n",
    "                n += 900\n",
    "                i += 1\n",
    "            elif rom[i+1] == 'D':\n",
    "                n += 400\n",
    "                i += 1\n",
    "            else:\n",
    "                n += 100\n",
    "        elif num == 'X':\n",
    "            if rom[i+1] == 'C':\n",
    "                n += 90\n",
    "                i += 1\n",
    "            elif rom[i+1] == 'L':\n",
    "                n += 40\n",
    "                i += 1\n",
    "            else:\n",
    "                n += 10\n",
    "        elif num == 'I':\n",
    "            if rom[i+1] == 'X':\n",
    "                n += 9\n",
    "                i += 1\n",
    "            elif rom[i+1] == 'V':\n",
    "                n += 4\n",
    "                i += 1\n",
    "            else:\n",
    "                n += 1\n",
    "        else:\n",
    "            n += dct[rom[i]]\n",
    "        i += 1\n",
    "    return n"
   ]
  },
  {
   "cell_type": "code",
   "execution_count": 161,
   "id": "fd0f2e21",
   "metadata": {},
   "outputs": [],
   "source": [
    "def convertToNumeral(n):\n",
    "    rom = []\n",
    "    while n >= 1000:\n",
    "        rom.append('M')\n",
    "        n -= 1000\n",
    "    if n >= 900:\n",
    "        rom.append('CM')\n",
    "        n -= 900\n",
    "    if n >= 500:\n",
    "        rom.append('D')\n",
    "        n -= 500\n",
    "    if n >= 400:\n",
    "        rom.append('CD')\n",
    "        n -= 400\n",
    "    while n >= 100:\n",
    "        rom.append('C')\n",
    "        n -= 100\n",
    "    if n >= 90:\n",
    "        rom.append('XC')\n",
    "        n -= 90\n",
    "    if n >= 50:\n",
    "        rom.append('L')\n",
    "        n -= 50\n",
    "    if n >= 40:\n",
    "        rom.append('XL')\n",
    "        n -= 40\n",
    "    while n >= 10:\n",
    "        rom.append('X')\n",
    "        n -= 10\n",
    "    if n >= 9:\n",
    "        rom.append('IX')\n",
    "        n -= 9\n",
    "    if n >= 5:\n",
    "        rom.append('V')\n",
    "        n -= 5\n",
    "    if n >= 4:\n",
    "        rom.append('IV')\n",
    "        n -= 4\n",
    "    while n >= 1:\n",
    "        rom.append('I')\n",
    "        n -= 1\n",
    "    return ''.join(rom)"
   ]
  },
  {
   "cell_type": "code",
   "execution_count": 157,
   "id": "02799b74",
   "metadata": {},
   "outputs": [],
   "source": [
    "def readNumerals(filename):\n",
    "    numerals = []\n",
    "    with open(filename, 'r') as f:\n",
    "        for line in f.readlines():\n",
    "            line = line.strip()\n",
    "            numerals.append(line)\n",
    "    return numerals"
   ]
  },
  {
   "cell_type": "code",
   "execution_count": 173,
   "id": "963b8969",
   "metadata": {},
   "outputs": [
    {
     "data": {
      "text/plain": [
       "743"
      ]
     },
     "execution_count": 173,
     "metadata": {},
     "output_type": "execute_result"
    }
   ],
   "source": [
    "shortenNumerals('romanNumerals_p89.txt')"
   ]
  },
  {
   "cell_type": "markdown",
   "id": "1ca7f6bd",
   "metadata": {},
   "source": [
    "## Problem #90"
   ]
  },
  {
   "cell_type": "markdown",
   "id": "71b0fdaf",
   "metadata": {},
   "source": [
    "How many distinct arrangements of the two cubes allow for all of the square numbers to be displayed?"
   ]
  },
  {
   "cell_type": "code",
   "execution_count": 174,
   "id": "ac2a36eb",
   "metadata": {},
   "outputs": [],
   "source": [
    "from itertools import combinations"
   ]
  },
  {
   "cell_type": "code",
   "execution_count": 182,
   "id": "5f1b2464",
   "metadata": {},
   "outputs": [],
   "source": [
    "def findTotalCubes():\n",
    "    d1s = d2s = list(combinations(range(10), 6))\n",
    "    goods = set()\n",
    "    for d1 in d1s:\n",
    "        d1set = set(d1)\n",
    "        for d2 in d2s:\n",
    "            d2set = set(d2)\n",
    "            if checkDicePair(d1set, d2set):\n",
    "                goods.add(tuple(sorted([d1, d2])))\n",
    "    return len(goods)"
   ]
  },
  {
   "cell_type": "code",
   "execution_count": 178,
   "id": "084a3523",
   "metadata": {},
   "outputs": [],
   "source": [
    "def checkDicePair(d1, d2):\n",
    "    d = [d1, d2]\n",
    "    goods = set()\n",
    "    for i in range(2):\n",
    "        j = (i+1)%2\n",
    "        if 0 in d[i]:\n",
    "            if 1 in d[j]:\n",
    "                goods.add(1)\n",
    "            if 4 in d[j]:\n",
    "                goods.add(4)\n",
    "            if 6 in d[j] or 9 in d[j]:\n",
    "                goods.add(9)\n",
    "        if 1 in d[i]:\n",
    "            if 6 in d[j] or 9 in d[j]:\n",
    "                goods.add(16)\n",
    "        if 2 in d[i]:\n",
    "            if 5 in d[j]:\n",
    "                goods.add(25)\n",
    "        if 3 in d[i]:\n",
    "            if 6 in d[j] or 9 in d[j]:\n",
    "                goods.add(36)\n",
    "        if 4 in d[i]:\n",
    "            if 6 in d[j] or 9 in d[j]:\n",
    "                goods.add(49)\n",
    "        if 6 in d[i] or 9 in d[i]:\n",
    "            if 4 in d[j]:\n",
    "                goods.add(64)\n",
    "        if 8 in d[i]:\n",
    "            if 1 in d[j]:\n",
    "                goods.add(81)\n",
    "    return len(goods) == 9"
   ]
  },
  {
   "cell_type": "code",
   "execution_count": 184,
   "id": "cd3f8bd4",
   "metadata": {},
   "outputs": [
    {
     "data": {
      "text/plain": [
       "1217"
      ]
     },
     "execution_count": 184,
     "metadata": {},
     "output_type": "execute_result"
    }
   ],
   "source": [
    "findTotalCubes()"
   ]
  },
  {
   "cell_type": "code",
   "execution_count": null,
   "id": "34df4785",
   "metadata": {},
   "outputs": [],
   "source": []
  }
 ],
 "metadata": {
  "kernelspec": {
   "display_name": "Python 3 (ipykernel)",
   "language": "python",
   "name": "python3"
  },
  "language_info": {
   "codemirror_mode": {
    "name": "ipython",
    "version": 3
   },
   "file_extension": ".py",
   "mimetype": "text/x-python",
   "name": "python",
   "nbconvert_exporter": "python",
   "pygments_lexer": "ipython3",
   "version": "3.11.5"
  }
 },
 "nbformat": 4,
 "nbformat_minor": 5
}
