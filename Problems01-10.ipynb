{
 "cells": [
  {
   "cell_type": "markdown",
   "id": "b25f57bb",
   "metadata": {},
   "source": [
    "# Project Euler\n",
    "## Problems 01 - 10\n",
    "\n",
    "### ************************"
   ]
  },
  {
   "cell_type": "markdown",
   "id": "da3cb9ff",
   "metadata": {},
   "source": [
    "## Problem #01"
   ]
  },
  {
   "cell_type": "markdown",
   "id": "546bccfb",
   "metadata": {},
   "source": [
    "Find the sum of all the multiples of 3 or 5 below 1000."
   ]
  },
  {
   "cell_type": "code",
   "execution_count": 8,
   "id": "0510f928",
   "metadata": {},
   "outputs": [],
   "source": [
    "def findSumOfMultiples(a, b, cap):\n",
    "    return findMultiples(a, cap) + findMultiples(b, cap) - findMultiples(a*b, cap)"
   ]
  },
  {
   "cell_type": "code",
   "execution_count": 11,
   "id": "043ba234",
   "metadata": {},
   "outputs": [],
   "source": [
    "def findMultiples(num, cap):\n",
    "    i = (cap-1) // num\n",
    "    return (num * i * (i+1)) // 2"
   ]
  },
  {
   "cell_type": "code",
   "execution_count": 12,
   "id": "c4230eac",
   "metadata": {},
   "outputs": [
    {
     "data": {
      "text/plain": [
       "233168"
      ]
     },
     "execution_count": 12,
     "metadata": {},
     "output_type": "execute_result"
    }
   ],
   "source": [
    "findSumOfMultiples(3,5,1000)"
   ]
  },
  {
   "cell_type": "markdown",
   "id": "e49cfcdb",
   "metadata": {},
   "source": [
    "## Problem #02"
   ]
  },
  {
   "cell_type": "markdown",
   "id": "f6bf57ad",
   "metadata": {},
   "source": [
    "By considering the terms in the Fibonacci sequence whose values do not exceed four million, find the sum of the even-valued terms."
   ]
  },
  {
   "cell_type": "code",
   "execution_count": 18,
   "id": "7f22f0cc",
   "metadata": {},
   "outputs": [],
   "source": [
    "def evenFibSum(cap):\n",
    "    total = 0\n",
    "    a, b = 0, 1\n",
    "    while b <= cap:\n",
    "        a, b = b, a+b\n",
    "        if a%2 == 0:\n",
    "            total += a\n",
    "    return total"
   ]
  },
  {
   "cell_type": "code",
   "execution_count": 21,
   "id": "6e7101e4",
   "metadata": {},
   "outputs": [
    {
     "data": {
      "text/plain": [
       "4613732"
      ]
     },
     "execution_count": 21,
     "metadata": {},
     "output_type": "execute_result"
    }
   ],
   "source": [
    "evenFibSum(4000000)"
   ]
  },
  {
   "cell_type": "markdown",
   "id": "22b9c778",
   "metadata": {},
   "source": [
    "## Problem #03"
   ]
  },
  {
   "cell_type": "markdown",
   "id": "44d22d13",
   "metadata": {},
   "source": [
    "What is the largest prime factor of the number 600851475143?"
   ]
  },
  {
   "cell_type": "code",
   "execution_count": 38,
   "id": "da539324",
   "metadata": {},
   "outputs": [],
   "source": [
    "def largestPrimeFactor(n):\n",
    "    for prime in [2,3,5,7]:\n",
    "        n = divideOutNum(n, prime)\n",
    "        if n == 1:\n",
    "            return prime\n",
    "    i = 11\n",
    "    while i <= n**0.5:\n",
    "        for j in [0, 2, 6, 8]:\n",
    "            n = divideOutNum(n, i+j)\n",
    "            if n == 1:\n",
    "                return i+j\n",
    "        i += 10\n",
    "    return n"
   ]
  },
  {
   "cell_type": "code",
   "execution_count": 39,
   "id": "63976a41",
   "metadata": {},
   "outputs": [],
   "source": [
    "def divideOutNum(n, p):\n",
    "    while n % p == 0:\n",
    "        n = n // p\n",
    "    return n"
   ]
  },
  {
   "cell_type": "code",
   "execution_count": 43,
   "id": "efd8fc22",
   "metadata": {},
   "outputs": [
    {
     "data": {
      "text/plain": [
       "6857"
      ]
     },
     "execution_count": 43,
     "metadata": {},
     "output_type": "execute_result"
    }
   ],
   "source": [
    "largestPrimeFactor(600851475143)"
   ]
  },
  {
   "cell_type": "markdown",
   "id": "f1e4787c",
   "metadata": {},
   "source": [
    "## Problem #04"
   ]
  },
  {
   "cell_type": "markdown",
   "id": "75a2bf15",
   "metadata": {},
   "source": [
    "Find the largest palindrome made from the product of two 3-digit numbers."
   ]
  },
  {
   "cell_type": "code",
   "execution_count": 70,
   "id": "e13e6f42",
   "metadata": {},
   "outputs": [],
   "source": [
    "import math\n",
    "def largestThreeDigPal():\n",
    "    curNum = 997\n",
    "    while curNum > 99:\n",
    "        pal = generatePalindrome(curNum)\n",
    "        for i in range(999, math.floor(pal**0.5), -1):\n",
    "            if pal % i == 0 and pal // i < 1000:\n",
    "                print(pal // i, i)\n",
    "                return pal\n",
    "        curNum -= 1"
   ]
  },
  {
   "cell_type": "code",
   "execution_count": 71,
   "id": "dbbf243c",
   "metadata": {},
   "outputs": [],
   "source": [
    "def generatePalindrome(n):\n",
    "    if n < 10:\n",
    "        return 11*n\n",
    "    tens = 10\n",
    "    left = n\n",
    "    n,rem = divmod(n, 10)\n",
    "    right = rem\n",
    "    while n > 0:\n",
    "        n,rem = divmod(n, 10)\n",
    "        right *= 10\n",
    "        right += rem\n",
    "        tens *= 10\n",
    "    return left * tens + right"
   ]
  },
  {
   "cell_type": "code",
   "execution_count": 72,
   "id": "0619060b",
   "metadata": {},
   "outputs": [
    {
     "name": "stdout",
     "output_type": "stream",
     "text": [
      "913 993\n"
     ]
    },
    {
     "data": {
      "text/plain": [
       "906609"
      ]
     },
     "execution_count": 72,
     "metadata": {},
     "output_type": "execute_result"
    }
   ],
   "source": [
    "largestThreeDigPal()"
   ]
  },
  {
   "cell_type": "markdown",
   "id": "993d771e",
   "metadata": {},
   "source": [
    "## Problem #05"
   ]
  },
  {
   "cell_type": "markdown",
   "id": "d9623b3a",
   "metadata": {},
   "source": [
    "What is the smallest positive number that is evenly divisible by all of the numbers from 1 to 20?"
   ]
  },
  {
   "cell_type": "code",
   "execution_count": 75,
   "id": "847520d1",
   "metadata": {},
   "outputs": [],
   "source": [
    "def gcd(a, b):\n",
    "    if b == 0:\n",
    "        return a\n",
    "    return gcd(b, a%b)"
   ]
  },
  {
   "cell_type": "code",
   "execution_count": 76,
   "id": "5b43a049",
   "metadata": {},
   "outputs": [],
   "source": [
    "def smallestDivisibleRange(n):\n",
    "    prod = 1\n",
    "    for i in range(1, n+1):\n",
    "        prod = (prod * i) // gcd(prod, i)\n",
    "    return prod"
   ]
  },
  {
   "cell_type": "code",
   "execution_count": 78,
   "id": "acce3041",
   "metadata": {},
   "outputs": [
    {
     "data": {
      "text/plain": [
       "232792560"
      ]
     },
     "execution_count": 78,
     "metadata": {},
     "output_type": "execute_result"
    }
   ],
   "source": [
    "smallestDivisibleRange(20)"
   ]
  },
  {
   "cell_type": "markdown",
   "id": "80632b23",
   "metadata": {},
   "source": [
    "## Problem #06"
   ]
  },
  {
   "cell_type": "markdown",
   "id": "0a0091d2",
   "metadata": {},
   "source": [
    "Find the difference between the sum of the squares of the first one hundred natural numbers and the square of the sum."
   ]
  },
  {
   "cell_type": "code",
   "execution_count": 79,
   "id": "02b43ec9",
   "metadata": {},
   "outputs": [],
   "source": [
    "def sumSquares(n):\n",
    "    return n * (n+1) * (2*n + 1) // 6"
   ]
  },
  {
   "cell_type": "code",
   "execution_count": 80,
   "id": "101f5d6f",
   "metadata": {},
   "outputs": [],
   "source": [
    "def squareSum(n):\n",
    "    return (n * (n+1) // 2)**2"
   ]
  },
  {
   "cell_type": "code",
   "execution_count": 82,
   "id": "fd940855",
   "metadata": {},
   "outputs": [
    {
     "data": {
      "text/plain": [
       "25164150"
      ]
     },
     "execution_count": 82,
     "metadata": {},
     "output_type": "execute_result"
    }
   ],
   "source": [
    "squareSum(100) - sumSquares(100)"
   ]
  },
  {
   "cell_type": "markdown",
   "id": "1e34be01",
   "metadata": {},
   "source": [
    "## Problem #07"
   ]
  },
  {
   "cell_type": "markdown",
   "id": "3838f7b7",
   "metadata": {},
   "source": [
    "What is the 10,001st prime number?"
   ]
  },
  {
   "cell_type": "code",
   "execution_count": 84,
   "id": "1f86ca69",
   "metadata": {},
   "outputs": [],
   "source": [
    "def nthPrime(n):\n",
    "    primes = [2,3,5,7]\n",
    "    if n < 5:\n",
    "        return primes[n-1]\n",
    "    primes = [3,7]\n",
    "    i = 11\n",
    "    numPrimes = 4\n",
    "    while numPrimes < n:\n",
    "        for j in [0, 2, 6, 8]:\n",
    "            if isPrimeOver10(i+j, primes):\n",
    "                primes.append(i+j)\n",
    "                numPrimes += 1\n",
    "        i += 10\n",
    "    for k in range(numPrimes, n, -1):\n",
    "        primes.pop()\n",
    "    return primes[-1]"
   ]
  },
  {
   "cell_type": "code",
   "execution_count": 85,
   "id": "52298619",
   "metadata": {},
   "outputs": [],
   "source": [
    "def isPrimeOver10(n, primes):\n",
    "    i = 0\n",
    "    root = math.floor(n**0.5)\n",
    "    while primes[i] <= root:\n",
    "        if n % primes[i] == 0:\n",
    "            return False\n",
    "        i += 1\n",
    "    return True"
   ]
  },
  {
   "cell_type": "code",
   "execution_count": 93,
   "id": "a5187568",
   "metadata": {},
   "outputs": [
    {
     "data": {
      "text/plain": [
       "104743"
      ]
     },
     "execution_count": 93,
     "metadata": {},
     "output_type": "execute_result"
    }
   ],
   "source": [
    "nthPrime(10001)"
   ]
  },
  {
   "cell_type": "markdown",
   "id": "ed2990d5",
   "metadata": {},
   "source": [
    "## Problem #08"
   ]
  },
  {
   "cell_type": "markdown",
   "id": "74250db9",
   "metadata": {},
   "source": [
    "Find the thirteen adjacent digits in the 1000-digit number that have the greatest product. What is the value of this product?"
   ]
  },
  {
   "cell_type": "code",
   "execution_count": 106,
   "id": "13c1ceb9",
   "metadata": {},
   "outputs": [],
   "source": [
    "def biggestChainProduct(n):\n",
    "    digList = []\n",
    "    with open('bigNumber_p08.txt', 'r') as f:\n",
    "        for line in f.readlines():\n",
    "            for dig in line.strip():\n",
    "                digList.append(dig)\n",
    "    maxProd = 0\n",
    "    for i in range(len(digList)-n):\n",
    "        curProd = digProd(i, n, digList)\n",
    "        if curProd > maxProd:\n",
    "            maxProd = curProd\n",
    "    return maxProd"
   ]
  },
  {
   "cell_type": "code",
   "execution_count": 107,
   "id": "72ffadae",
   "metadata": {},
   "outputs": [],
   "source": [
    "def digProd(idx, length, digits):\n",
    "    prod = 1\n",
    "    for i in range(length):\n",
    "        prod *= DIGIT_DICT[digits[idx+i]]\n",
    "    return prod"
   ]
  },
  {
   "cell_type": "code",
   "execution_count": 108,
   "id": "ad961f95",
   "metadata": {},
   "outputs": [],
   "source": [
    "DIGIT_DICT = {}\n",
    "for i, char in enumerate(\"0123456789\"):\n",
    "    DIGIT_DICT[char] = i"
   ]
  },
  {
   "cell_type": "code",
   "execution_count": 111,
   "id": "b87cbeaf",
   "metadata": {},
   "outputs": [
    {
     "data": {
      "text/plain": [
       "23514624000"
      ]
     },
     "execution_count": 111,
     "metadata": {},
     "output_type": "execute_result"
    }
   ],
   "source": [
    "biggestChainProduct(13)"
   ]
  },
  {
   "cell_type": "markdown",
   "id": "14e31cbd",
   "metadata": {},
   "source": [
    "## Problem #09"
   ]
  },
  {
   "cell_type": "markdown",
   "id": "2310df0f",
   "metadata": {},
   "source": [
    "There exists exactly one Pythagorean triplet for which a + b + c = 1000.\n",
    "Find the product abc."
   ]
  },
  {
   "cell_type": "code",
   "execution_count": 116,
   "id": "756a81b4",
   "metadata": {},
   "outputs": [],
   "source": [
    "def findPythagTrip(target):\n",
    "    m = 2\n",
    "    while m**2 < target // 2:\n",
    "        for n in range(1, m):\n",
    "            a, b, c = m**2 - n**2, 2*m*n, m**2 + n**2\n",
    "            sum_abc = a + b + c\n",
    "            if target % sum_abc == 0:\n",
    "                k = target // sum_abc\n",
    "                print(\"Primitive:\", a, b, c)\n",
    "                print(\"Actual:\", k*a, k*b, k*c)\n",
    "                return (k**3) * a * b * c\n",
    "        m += 1"
   ]
  },
  {
   "cell_type": "code",
   "execution_count": 117,
   "id": "1430a4ce",
   "metadata": {},
   "outputs": [
    {
     "name": "stdout",
     "output_type": "stream",
     "text": [
      "Primitive: 15 8 17\n",
      "Actual: 375 200 425\n"
     ]
    },
    {
     "data": {
      "text/plain": [
       "31875000"
      ]
     },
     "execution_count": 117,
     "metadata": {},
     "output_type": "execute_result"
    }
   ],
   "source": [
    "findPythagTrip(1000)"
   ]
  },
  {
   "cell_type": "markdown",
   "id": "94ce3399",
   "metadata": {},
   "source": [
    "## Problem #10"
   ]
  },
  {
   "cell_type": "markdown",
   "id": "05f7f932",
   "metadata": {},
   "source": [
    "Find the sum of all the primes below two million."
   ]
  },
  {
   "cell_type": "code",
   "execution_count": 161,
   "id": "1a5d383f",
   "metadata": {},
   "outputs": [],
   "source": [
    "def sumOfPrimesBelow(n):\n",
    "    primes = generatePrimesTo(math.floor(n**0.5))\n",
    "    curNum = primes[-1] + 2\n",
    "    total = sum(primes) + 2\n",
    "    while curNum < n:\n",
    "        if isPrimeOver10(curNum, primes):\n",
    "            total += curNum\n",
    "        curNum += 2\n",
    "    return total"
   ]
  },
  {
   "cell_type": "code",
   "execution_count": 149,
   "id": "6b26a568",
   "metadata": {},
   "outputs": [],
   "source": [
    "def generatePrimesTo(n):\n",
    "    primes = [3,5,7]\n",
    "    i = 11\n",
    "    while i < n:\n",
    "        for j in [0, 2, 6, 8]:\n",
    "            if isPrimeOver10(i+j, primes):\n",
    "                primes.append(i+j)\n",
    "        i += 10\n",
    "    while primes[-1] > n:\n",
    "        primes.pop()\n",
    "    return primes"
   ]
  },
  {
   "cell_type": "code",
   "execution_count": 150,
   "id": "eb3077a1",
   "metadata": {},
   "outputs": [],
   "source": [
    "def isPrimeOver10(n, primes):\n",
    "    i = 0\n",
    "    root = math.floor(n**0.5)\n",
    "    while i < len(primes) and primes[i] <= root:\n",
    "        if n % primes[i] == 0:\n",
    "            return False\n",
    "        i += 1\n",
    "    return True"
   ]
  },
  {
   "cell_type": "code",
   "execution_count": 160,
   "id": "414912f6",
   "metadata": {},
   "outputs": [
    {
     "data": {
      "text/plain": [
       "142913828922"
      ]
     },
     "execution_count": 160,
     "metadata": {},
     "output_type": "execute_result"
    }
   ],
   "source": [
    "sumOfPrimesBelow(2000000)"
   ]
  },
  {
   "cell_type": "code",
   "execution_count": null,
   "id": "775af073",
   "metadata": {},
   "outputs": [],
   "source": []
  }
 ],
 "metadata": {
  "kernelspec": {
   "display_name": "Python 3 (ipykernel)",
   "language": "python",
   "name": "python3"
  },
  "language_info": {
   "codemirror_mode": {
    "name": "ipython",
    "version": 3
   },
   "file_extension": ".py",
   "mimetype": "text/x-python",
   "name": "python",
   "nbconvert_exporter": "python",
   "pygments_lexer": "ipython3",
   "version": "3.11.5"
  }
 },
 "nbformat": 4,
 "nbformat_minor": 5
}
