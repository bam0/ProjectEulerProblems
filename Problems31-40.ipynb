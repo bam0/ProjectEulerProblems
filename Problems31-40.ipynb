{
 "cells": [
  {
   "cell_type": "markdown",
   "id": "33e70f2f",
   "metadata": {},
   "source": [
    "# Project Euler\n",
    "## Problems 31 - 40\n",
    "\n",
    "### ************************"
   ]
  },
  {
   "cell_type": "markdown",
   "id": "4d4eebff",
   "metadata": {},
   "source": [
    "## Problem #31"
   ]
  },
  {
   "cell_type": "markdown",
   "id": "957b3e7c",
   "metadata": {},
   "source": [
    "How many different ways can £2 be made using any number of coins?"
   ]
  },
  {
   "cell_type": "code",
   "execution_count": 3,
   "id": "c3e1cec5",
   "metadata": {},
   "outputs": [],
   "source": [
    "def waysToMakeTwoPounds():\n",
    "    coins = [1,2,5,10,20,50,100,200]\n",
    "    ways = [0 for i in range(201)]\n",
    "    ways[0] = 1\n",
    "    for coin in coins:\n",
    "        for i in range(coin, len(ways)):\n",
    "            ways[i] += ways[i-coin]\n",
    "    return ways[-1]"
   ]
  },
  {
   "cell_type": "code",
   "execution_count": 4,
   "id": "c06d46e3",
   "metadata": {},
   "outputs": [
    {
     "data": {
      "text/plain": [
       "73682"
      ]
     },
     "execution_count": 4,
     "metadata": {},
     "output_type": "execute_result"
    }
   ],
   "source": [
    "waysToMakeTwoPounds()"
   ]
  },
  {
   "cell_type": "markdown",
   "id": "4cfbe9b9",
   "metadata": {},
   "source": [
    "## Problem #32"
   ]
  },
  {
   "cell_type": "markdown",
   "id": "4c7f400a",
   "metadata": {},
   "source": [
    "Find the sum of all products whose multiplicand/multiplier/product identity can be written as a 1 through 9 pandigital."
   ]
  },
  {
   "cell_type": "code",
   "execution_count": 15,
   "id": "7b54b9df",
   "metadata": {},
   "outputs": [],
   "source": [
    "def isPanProd(a, b):\n",
    "    checkList = [0 for i in range(10)]\n",
    "    return checkAgainstList(a, checkList) and checkAgainstList(b, checkList) \\\n",
    "    and checkAgainstList(a*b, checkList) and sum(checkList) == 9"
   ]
  },
  {
   "cell_type": "code",
   "execution_count": 16,
   "id": "556dbab2",
   "metadata": {},
   "outputs": [],
   "source": [
    "def checkAgainstList(num, checkList):\n",
    "    while num > 0:\n",
    "        num, rem = divmod(num, 10)\n",
    "        if rem == 0 or checkList[rem] == 1:\n",
    "            return False\n",
    "        checkList[rem] = 1\n",
    "    return True"
   ]
  },
  {
   "cell_type": "code",
   "execution_count": 32,
   "id": "c8d51099",
   "metadata": {},
   "outputs": [],
   "source": [
    "def findPanProdSum():\n",
    "    panProds = set()\n",
    "    for a in range(2, 10):\n",
    "        for b in range(1234, 9877 // a):\n",
    "            if isPanProd(a, b):\n",
    "                panProds.add(a * b)\n",
    "    for a in range(12, 99):\n",
    "        for b in range(123, 988):\n",
    "            if a * b > 9876:\n",
    "                break\n",
    "            if isPanProd(a, b):\n",
    "                panProds.add(a * b)\n",
    "    return sum(panProds)"
   ]
  },
  {
   "cell_type": "code",
   "execution_count": 33,
   "id": "f06c3f48",
   "metadata": {},
   "outputs": [
    {
     "data": {
      "text/plain": [
       "45228"
      ]
     },
     "execution_count": 33,
     "metadata": {},
     "output_type": "execute_result"
    }
   ],
   "source": [
    "findPanProdSum()"
   ]
  },
  {
   "cell_type": "markdown",
   "id": "aa8293c0",
   "metadata": {},
   "source": [
    "## Problem #33"
   ]
  },
  {
   "cell_type": "markdown",
   "id": "a7734b52",
   "metadata": {},
   "source": [
    "There are exactly four non-trivial examples of this type of fraction, less than one in value, and containing two digits in the numerator and denominator.\n",
    "\n",
    "If the product of these four fractions is given in its lowest common terms, find the value of the denominator."
   ]
  },
  {
   "cell_type": "code",
   "execution_count": 49,
   "id": "819c2829",
   "metadata": {},
   "outputs": [],
   "source": [
    "def findTheFourFractions():\n",
    "    theFour = []\n",
    "    for a in range(11, 99):\n",
    "        if a % 10 == 0:\n",
    "            continue\n",
    "        for b in range(a + 1, 100):\n",
    "            if b % 10 == 0:\n",
    "                continue\n",
    "            if canCancel(a, b): \n",
    "                theFour.append([a, b])\n",
    "    print(theFour)\n",
    "    final = [1, 1]\n",
    "    for frac in theFour:\n",
    "        final[0] *= frac[0]\n",
    "        final[1] *= frac[1]\n",
    "    return reduceFraction(*final)[1]"
   ]
  },
  {
   "cell_type": "code",
   "execution_count": 45,
   "id": "0fe1ad43",
   "metadata": {},
   "outputs": [],
   "source": [
    "def canCancel(a, b):\n",
    "    n1, n2 = divmod(a, 10)\n",
    "    d1, d2 = divmod(b, 10)\n",
    "    if n1 not in [d1, d2] and n2 not in [d1, d2]:\n",
    "        return False\n",
    "    red = reduceFraction(a, b)\n",
    "    if n1 == d1:\n",
    "        return reduceFraction(n2, d2) == red\n",
    "    elif n1 == d2:\n",
    "        return reduceFraction(n2, d1) == red\n",
    "    elif n2 == d1:\n",
    "        return reduceFraction(n1, d2) == red\n",
    "    else:\n",
    "        return reduceFraction(n1, d1) == red"
   ]
  },
  {
   "cell_type": "code",
   "execution_count": 46,
   "id": "fbb21e4b",
   "metadata": {},
   "outputs": [],
   "source": [
    "def reduceFraction(a, b):\n",
    "    d = gcd(a, b)\n",
    "    return (a // d, b // d)"
   ]
  },
  {
   "cell_type": "code",
   "execution_count": 47,
   "id": "f80f4e53",
   "metadata": {},
   "outputs": [],
   "source": [
    "def gcd(a, b):\n",
    "    if b == 0:\n",
    "        return a\n",
    "    return gcd(b, a % b)"
   ]
  },
  {
   "cell_type": "code",
   "execution_count": 50,
   "id": "20847554",
   "metadata": {},
   "outputs": [
    {
     "name": "stdout",
     "output_type": "stream",
     "text": [
      "[[16, 64], [19, 95], [26, 65], [49, 98]]\n"
     ]
    },
    {
     "data": {
      "text/plain": [
       "100"
      ]
     },
     "execution_count": 50,
     "metadata": {},
     "output_type": "execute_result"
    }
   ],
   "source": [
    "findTheFourFractions()"
   ]
  },
  {
   "cell_type": "markdown",
   "id": "8a7870e4",
   "metadata": {},
   "source": [
    "## Problem #34"
   ]
  },
  {
   "cell_type": "markdown",
   "id": "8729f740",
   "metadata": {},
   "source": [
    "Find the sum of all numbers which are equal to the sum of the factorial of their digits."
   ]
  },
  {
   "cell_type": "code",
   "execution_count": 59,
   "id": "f0c77541",
   "metadata": {},
   "outputs": [],
   "source": [
    "def totalFacDigSum():\n",
    "    curiousList = []\n",
    "    facList = [fac(i) for i in range(10)]\n",
    "    for i in range(10, 2000000):\n",
    "        if i == facDigitSum(i, facList):\n",
    "            curiousList.append(i)\n",
    "    print(curiousList)\n",
    "    return sum(curiousList)"
   ]
  },
  {
   "cell_type": "code",
   "execution_count": 60,
   "id": "642515e8",
   "metadata": {},
   "outputs": [],
   "source": [
    "def fac(n):\n",
    "    prod = 1\n",
    "    for i in range(2, n+1):\n",
    "        prod *= i\n",
    "    return prod"
   ]
  },
  {
   "cell_type": "code",
   "execution_count": 61,
   "id": "ba2fc2dc",
   "metadata": {},
   "outputs": [],
   "source": [
    "def facDigitSum(num, facList):\n",
    "    total = 0\n",
    "    while num > 0:\n",
    "        num, rem = divmod(num, 10)\n",
    "        total += facList[rem]\n",
    "    return total"
   ]
  },
  {
   "cell_type": "code",
   "execution_count": 63,
   "id": "e21135da",
   "metadata": {},
   "outputs": [
    {
     "name": "stdout",
     "output_type": "stream",
     "text": [
      "[145, 40585]\n"
     ]
    },
    {
     "data": {
      "text/plain": [
       "40730"
      ]
     },
     "execution_count": 63,
     "metadata": {},
     "output_type": "execute_result"
    }
   ],
   "source": [
    "totalFacDigSum()"
   ]
  },
  {
   "cell_type": "markdown",
   "id": "d57c2912",
   "metadata": {},
   "source": [
    "## Problem #35"
   ]
  },
  {
   "cell_type": "markdown",
   "id": "c3c6d507",
   "metadata": {},
   "source": [
    "How many circular primes are there below one million?"
   ]
  },
  {
   "cell_type": "code",
   "execution_count": 66,
   "id": "a9c7bbc8",
   "metadata": {},
   "outputs": [],
   "source": [
    "import math"
   ]
  },
  {
   "cell_type": "code",
   "execution_count": 80,
   "id": "861fcd6f",
   "metadata": {},
   "outputs": [],
   "source": [
    "def getCircularPrimes(cap):\n",
    "    primes = generatePrimesTo(math.floor(cap**0.5))\n",
    "    circs = set([2,3,5,7])\n",
    "    i = 11\n",
    "    while i < cap:\n",
    "        for j in [0, 2, 6, 8]:\n",
    "            val = i + j\n",
    "            if val in circs:\n",
    "                continue\n",
    "            if isPrime(val, primes):\n",
    "                if isCircular(val, primes, circs):\n",
    "                    circs.add(val)\n",
    "        i += 10\n",
    "    print(sorted(list(circs)))\n",
    "    return len(circs)"
   ]
  },
  {
   "cell_type": "code",
   "execution_count": 85,
   "id": "0ae46ad6",
   "metadata": {},
   "outputs": [],
   "source": [
    "def isCircular(p, primes, circs):\n",
    "    d = math.floor(math.log10(p))\n",
    "    newCircs = []\n",
    "    for _ in range(d):\n",
    "        q, rem = divmod(p, 10)\n",
    "        p = rem * 10**d + q\n",
    "        if not isPrime(p, primes):\n",
    "            return False\n",
    "        newCircs.append(p)\n",
    "    for c in newCircs:\n",
    "        circs.add(c)\n",
    "    return True"
   ]
  },
  {
   "cell_type": "code",
   "execution_count": 83,
   "id": "d959fa74",
   "metadata": {},
   "outputs": [],
   "source": [
    "def generatePrimesTo(n):\n",
    "    primes = [2,3,5,7]\n",
    "    i = 11\n",
    "    while i < n:\n",
    "        for j in [0, 2, 6, 8]:\n",
    "            if isPrime(i+j, primes):\n",
    "                primes.append(i+j)\n",
    "        i += 10\n",
    "    while primes[-1] > n:\n",
    "        primes.pop()\n",
    "    return primes"
   ]
  },
  {
   "cell_type": "code",
   "execution_count": 71,
   "id": "85071320",
   "metadata": {},
   "outputs": [],
   "source": [
    "def isPrime(n, primes):\n",
    "    if n < 11:\n",
    "        return False if n not in [2,3,5,7] else True\n",
    "    i = 0\n",
    "    root = math.floor(n**0.5)\n",
    "    while i < len(primes) and primes[i] <= root:\n",
    "        if n % primes[i] == 0:\n",
    "            return False\n",
    "        i += 1\n",
    "    return True"
   ]
  },
  {
   "cell_type": "code",
   "execution_count": 92,
   "id": "b84c1190",
   "metadata": {},
   "outputs": [
    {
     "name": "stdout",
     "output_type": "stream",
     "text": [
      "[2, 3, 5, 7, 11, 13, 17, 31, 37, 71, 73, 79, 97, 113, 131, 197, 199, 311, 337, 373, 719, 733, 919, 971, 991, 1193, 1931, 3119, 3779, 7793, 7937, 9311, 9377, 11939, 19391, 19937, 37199, 39119, 71993, 91193, 93719, 93911, 99371, 193939, 199933, 319993, 331999, 391939, 393919, 919393, 933199, 939193, 939391, 993319, 999331]\n"
     ]
    },
    {
     "data": {
      "text/plain": [
       "55"
      ]
     },
     "execution_count": 92,
     "metadata": {},
     "output_type": "execute_result"
    }
   ],
   "source": [
    "getCircularPrimes(1000000)"
   ]
  },
  {
   "cell_type": "markdown",
   "id": "9a7ce0e4",
   "metadata": {},
   "source": [
    "## Problem #36"
   ]
  },
  {
   "cell_type": "markdown",
   "id": "ca36429d",
   "metadata": {},
   "source": [
    "Find the sum of all numbers, less than one million, which are palindromic in base 10 and base 2."
   ]
  },
  {
   "cell_type": "code",
   "execution_count": 131,
   "id": "1d466c55",
   "metadata": {},
   "outputs": [],
   "source": [
    "def sumOfPalsLessThan(cap):\n",
    "    total = 0\n",
    "    nums = []\n",
    "    for i in range(1, 10):\n",
    "        binary = bin(i)[2:]\n",
    "        if binary == binary[::-1]:\n",
    "            total += i\n",
    "            nums.append(i)\n",
    "    for i in range(1, math.floor(cap**0.5)):\n",
    "        pals = generatePalindromes(i)\n",
    "        for pal in pals:\n",
    "            if pal > 1000000:\n",
    "                continue\n",
    "            binary = bin(pal)[2:]\n",
    "            if binary == binary[::-1]:\n",
    "                total += pal\n",
    "                nums.append(pal)\n",
    "    print(sorted(nums))\n",
    "    return total"
   ]
  },
  {
   "cell_type": "code",
   "execution_count": 127,
   "id": "0f4a73e8",
   "metadata": {},
   "outputs": [],
   "source": [
    "def generatePalindromes(n):\n",
    "    pals = []\n",
    "    if n < 10:\n",
    "        pals.append(11*n)\n",
    "        for i in range(10):\n",
    "            pals.append(n*100 + i*10 + n)\n",
    "        return pals\n",
    "    tens = 10\n",
    "    left = n\n",
    "    n,rem = divmod(n, 10)\n",
    "    right = rem\n",
    "    while n > 0:\n",
    "        n,rem = divmod(n, 10)\n",
    "        right *= 10\n",
    "        right += rem\n",
    "        tens *= 10\n",
    "    pals.append(left * tens + right)\n",
    "    for i in range(10):\n",
    "        pals.append(left * tens * 10 + i * tens + right)\n",
    "    return pals"
   ]
  },
  {
   "cell_type": "code",
   "execution_count": 132,
   "id": "46a4d224",
   "metadata": {},
   "outputs": [
    {
     "name": "stdout",
     "output_type": "stream",
     "text": [
      "[1, 3, 5, 7, 9, 33, 99, 313, 585, 717, 7447, 9009, 15351, 32223, 39993, 53235, 53835, 73737, 585585]\n"
     ]
    },
    {
     "data": {
      "text/plain": [
       "872187"
      ]
     },
     "execution_count": 132,
     "metadata": {},
     "output_type": "execute_result"
    }
   ],
   "source": [
    "sumOfPalsLessThan(1000000)"
   ]
  },
  {
   "cell_type": "markdown",
   "id": "0700c64e",
   "metadata": {},
   "source": [
    "## Problem #37"
   ]
  },
  {
   "cell_type": "markdown",
   "id": "722f97fe",
   "metadata": {},
   "source": [
    "Find the sum of the only eleven primes that are both truncatable from left to right and right to left."
   ]
  },
  {
   "cell_type": "code",
   "execution_count": 135,
   "id": "e81568af",
   "metadata": {},
   "outputs": [],
   "source": [
    "import math"
   ]
  },
  {
   "cell_type": "code",
   "execution_count": 153,
   "id": "0a4fb03a",
   "metadata": {},
   "outputs": [],
   "source": [
    "def getTruncatables():\n",
    "    primes = generatePrimesTo(5000)\n",
    "    left = set([2,3,5,7])\n",
    "    right = set([2,3,5,7])\n",
    "    truncs = set()\n",
    "    while len(truncs) < 11:\n",
    "        newLeft = set()\n",
    "        newRight = set()\n",
    "        counter = 0\n",
    "        for val in left:\n",
    "            exp = math.floor(math.log10(val)) + 1\n",
    "            for d in range(1, 10):\n",
    "                p = d * 10**exp + val\n",
    "                if isPrime(p, primes):\n",
    "                    newLeft.add(p)\n",
    "        for val in right:\n",
    "            for d in [1,3,7,9]:\n",
    "                p = val * 10 + d\n",
    "                if isPrime(p, primes):\n",
    "                    newRight.add(p)\n",
    "        for val in newLeft:\n",
    "            if val in newRight:\n",
    "                truncs.add(val)\n",
    "        left = newLeft\n",
    "        right = newRight\n",
    "    print(sorted(list(truncs)))\n",
    "    return sum(truncs)"
   ]
  },
  {
   "cell_type": "code",
   "execution_count": 137,
   "id": "27a57c82",
   "metadata": {},
   "outputs": [],
   "source": [
    "def generatePrimesTo(n):\n",
    "    primes = [2,3,5,7]\n",
    "    i = 11\n",
    "    while i < n:\n",
    "        for j in [0, 2, 6, 8]:\n",
    "            if isPrime(i+j, primes):\n",
    "                primes.append(i+j)\n",
    "        i += 10\n",
    "    while primes[-1] > n:\n",
    "        primes.pop()\n",
    "    return primes"
   ]
  },
  {
   "cell_type": "code",
   "execution_count": 138,
   "id": "0530136c",
   "metadata": {},
   "outputs": [],
   "source": [
    "def isPrime(n, primes):\n",
    "    if n < 11:\n",
    "        return False if n not in [2,3,5,7] else True\n",
    "    i = 0\n",
    "    root = math.floor(n**0.5)\n",
    "    while i < len(primes) and primes[i] <= root:\n",
    "        if n % primes[i] == 0:\n",
    "            return False\n",
    "        i += 1\n",
    "    return True"
   ]
  },
  {
   "cell_type": "code",
   "execution_count": 154,
   "id": "b4868433",
   "metadata": {},
   "outputs": [
    {
     "name": "stdout",
     "output_type": "stream",
     "text": [
      "[23, 37, 53, 73, 313, 317, 373, 797, 3137, 3797, 739397]\n"
     ]
    },
    {
     "data": {
      "text/plain": [
       "748317"
      ]
     },
     "execution_count": 154,
     "metadata": {},
     "output_type": "execute_result"
    }
   ],
   "source": [
    "getTruncatables()"
   ]
  },
  {
   "cell_type": "markdown",
   "id": "9fb08cba",
   "metadata": {},
   "source": [
    "## Problem #38"
   ]
  },
  {
   "cell_type": "markdown",
   "id": "3829987c",
   "metadata": {},
   "source": [
    "What is the largest 1 to 9 pandigital 9-digit number that can be formed as the concatenated product of an integer with (1,2,...,n) where n > 1?"
   ]
  },
  {
   "cell_type": "code",
   "execution_count": 169,
   "id": "c7306a78",
   "metadata": {},
   "outputs": [],
   "source": [
    "def largestPan():\n",
    "    starts = [0, 9, 99, 999, 9999]\n",
    "    maxPan = -1\n",
    "    for i in range(1, len(starts)):\n",
    "        for val in range(starts[i], starts[i]-starts[i-1]-1, -1):\n",
    "            arr = []\n",
    "            if isPanMulti(val, arr):\n",
    "                pan = listToNum(arr)\n",
    "                if pan > maxPan:\n",
    "                    maxPan = pan\n",
    "                break\n",
    "    return maxPan"
   ]
  },
  {
   "cell_type": "code",
   "execution_count": 161,
   "id": "e2c0dbc7",
   "metadata": {},
   "outputs": [],
   "source": [
    "def listToNum(arr):\n",
    "    return int(''.join([str(x) for x in arr]))"
   ]
  },
  {
   "cell_type": "code",
   "execution_count": 162,
   "id": "8c9b2c4c",
   "metadata": {},
   "outputs": [],
   "source": [
    "def isPanMulti(val, arr):\n",
    "    n = 1\n",
    "    digits = [0 for i in range(10)]\n",
    "    while sum(digits) < 9:\n",
    "        curVal = val * n\n",
    "        arr.append(curVal)\n",
    "        while curVal > 0:\n",
    "            curVal, rem = divmod(curVal, 10)\n",
    "            if rem == 0 or digits[rem] == 1:\n",
    "                return False\n",
    "            digits[rem] = 1\n",
    "        n += 1\n",
    "    return True"
   ]
  },
  {
   "cell_type": "code",
   "execution_count": 170,
   "id": "997d97f4",
   "metadata": {},
   "outputs": [
    {
     "data": {
      "text/plain": [
       "932718654"
      ]
     },
     "execution_count": 170,
     "metadata": {},
     "output_type": "execute_result"
    }
   ],
   "source": [
    "largestPan()"
   ]
  },
  {
   "cell_type": "markdown",
   "id": "81290d9d",
   "metadata": {},
   "source": [
    "## Problem #39"
   ]
  },
  {
   "cell_type": "markdown",
   "id": "178b6ac5",
   "metadata": {},
   "source": [
    "If p is the perimeter of a right angle triangle with integral length sides, for which value of p <= 1,000 is the number of triangles maximized?"
   ]
  },
  {
   "cell_type": "code",
   "execution_count": 176,
   "id": "43db7a96",
   "metadata": {},
   "outputs": [],
   "source": [
    "def maxTriangles(cap):\n",
    "    m = 2\n",
    "    numTriangles = [0 for _ in range(cap+1)]\n",
    "    while m * (m + 1) <= cap // 2:\n",
    "        m_even = m % 2 == 0\n",
    "        for n in range(1, m):\n",
    "            if gcd(m, n) != 1:\n",
    "                continue\n",
    "            n_even = n % 2 == 0\n",
    "            if m_even and n_even or not m_even and not n_even:\n",
    "                continue\n",
    "            perim = 2 * m * (m + n)\n",
    "            p_copy = perim\n",
    "            while perim <= cap:\n",
    "                numTriangles[perim] += 1\n",
    "                perim += p_copy\n",
    "        m += 1\n",
    "    idx, most = 0, 0\n",
    "    for i, p in enumerate(numTriangles):\n",
    "        if p > most:\n",
    "            most = p\n",
    "            idx = i\n",
    "    print(\"Total triangles:\", most)\n",
    "    return idx"
   ]
  },
  {
   "cell_type": "code",
   "execution_count": 177,
   "id": "ab1727ac",
   "metadata": {},
   "outputs": [],
   "source": [
    "def gcd(a, b):\n",
    "    if b == 0:\n",
    "        return a\n",
    "    return gcd(b, a % b)"
   ]
  },
  {
   "cell_type": "code",
   "execution_count": 183,
   "id": "a4a7ca68",
   "metadata": {},
   "outputs": [
    {
     "name": "stdout",
     "output_type": "stream",
     "text": [
      "Total triangles: 8\n"
     ]
    },
    {
     "data": {
      "text/plain": [
       "840"
      ]
     },
     "execution_count": 183,
     "metadata": {},
     "output_type": "execute_result"
    }
   ],
   "source": [
    "maxTriangles(1000)"
   ]
  },
  {
   "cell_type": "markdown",
   "id": "8633ea9c",
   "metadata": {},
   "source": [
    "## Problem #40"
   ]
  },
  {
   "cell_type": "markdown",
   "id": "3b79d5f2",
   "metadata": {},
   "source": [
    "If d_n represents the nth digit of the fractional part of Champernowne's constant, find the value of the following expression: d_1 * d_10 * ... * d_1000000"
   ]
  },
  {
   "cell_type": "code",
   "execution_count": 195,
   "id": "ae6e7378",
   "metadata": {},
   "outputs": [],
   "source": [
    "def champerProd(exp):\n",
    "    prod = 1\n",
    "    totalDigits = 1\n",
    "    curNum = 2\n",
    "    nthDigit = 10\n",
    "    cap = 10**exp\n",
    "    while totalDigits < cap:\n",
    "        curDigs = numDigits(curNum)\n",
    "        if totalDigits + curDigs > nthDigit:\n",
    "            idx = nthDigit - totalDigits - 1\n",
    "            prod *= getDigitAtIndex(idx, curNum)\n",
    "            nthDigit *= 10\n",
    "        totalDigits += curDigs\n",
    "        curNum += 1\n",
    "    return prod"
   ]
  },
  {
   "cell_type": "code",
   "execution_count": 193,
   "id": "efa50dcf",
   "metadata": {},
   "outputs": [],
   "source": [
    "def getDigitAtIndex(i, num):\n",
    "    digits = []\n",
    "    while num > 0:\n",
    "        num, rem = divmod(num, 10)\n",
    "        digits.append(rem)\n",
    "    return digits[len(digits)-1-i]"
   ]
  },
  {
   "cell_type": "code",
   "execution_count": 194,
   "id": "a548b6a0",
   "metadata": {},
   "outputs": [],
   "source": [
    "def numDigits(n):\n",
    "    return math.floor(math.log10(n)) + 1"
   ]
  },
  {
   "cell_type": "code",
   "execution_count": 204,
   "id": "895579d0",
   "metadata": {},
   "outputs": [
    {
     "data": {
      "text/plain": [
       "210"
      ]
     },
     "execution_count": 204,
     "metadata": {},
     "output_type": "execute_result"
    }
   ],
   "source": [
    "champerProd(6)"
   ]
  },
  {
   "cell_type": "code",
   "execution_count": null,
   "id": "43972562",
   "metadata": {},
   "outputs": [],
   "source": []
  }
 ],
 "metadata": {
  "kernelspec": {
   "display_name": "Python 3 (ipykernel)",
   "language": "python",
   "name": "python3"
  },
  "language_info": {
   "codemirror_mode": {
    "name": "ipython",
    "version": 3
   },
   "file_extension": ".py",
   "mimetype": "text/x-python",
   "name": "python",
   "nbconvert_exporter": "python",
   "pygments_lexer": "ipython3",
   "version": "3.11.5"
  }
 },
 "nbformat": 4,
 "nbformat_minor": 5
}
