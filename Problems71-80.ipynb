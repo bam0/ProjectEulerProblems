{
 "cells": [
  {
   "cell_type": "markdown",
   "id": "fc8a62ca",
   "metadata": {},
   "source": [
    "# Project Euler\n",
    "## Problems 71 - 80\n",
    "\n",
    "### ************************"
   ]
  },
  {
   "cell_type": "markdown",
   "id": "6ddf7bf5",
   "metadata": {},
   "source": [
    "## Problem 71"
   ]
  },
  {
   "cell_type": "markdown",
   "id": "1454d8c1",
   "metadata": {},
   "source": [
    "By listing the set of reduced proper fractions for d <= 1,000,000 in ascending order of size, find the numerator of the fraction immediately to the left of 3/7. "
   ]
  },
  {
   "cell_type": "code",
   "execution_count": 16,
   "id": "572878e0",
   "metadata": {},
   "outputs": [],
   "source": [
    "def closestFraction(n, d, cap):\n",
    "    bestn, bestd = n - 1, d\n",
    "    for i in range(d+1, cap+1):\n",
    "        xn, xd = n * i // d, i\n",
    "        if isLessThan([bestn, bestd], [xn, xd]) and isLessThan([xn, xd], [n, d]):\n",
    "            bestn, bestd = reduceFraction(xn, xd)\n",
    "    print(bestn, bestd)\n",
    "    return bestn"
   ]
  },
  {
   "cell_type": "code",
   "execution_count": 6,
   "id": "f4842ac6",
   "metadata": {},
   "outputs": [],
   "source": [
    "def isLessThan(frac1, frac2):\n",
    "    return frac1[0]*frac2[1] < frac1[1]*frac2[0]"
   ]
  },
  {
   "cell_type": "code",
   "execution_count": 3,
   "id": "d8a6bad3",
   "metadata": {},
   "outputs": [],
   "source": [
    "def reduceFraction(n, d):\n",
    "    g = gcd(n, d)\n",
    "    return n // g, d // g"
   ]
  },
  {
   "cell_type": "code",
   "execution_count": 4,
   "id": "8f7fd124",
   "metadata": {},
   "outputs": [],
   "source": [
    "def gcd(a, b):\n",
    "    if b == 0:\n",
    "        return a\n",
    "    return gcd(b, a % b)"
   ]
  },
  {
   "cell_type": "code",
   "execution_count": 18,
   "id": "6b4a4dcd",
   "metadata": {},
   "outputs": [
    {
     "name": "stdout",
     "output_type": "stream",
     "text": [
      "428570 999997\n"
     ]
    },
    {
     "data": {
      "text/plain": [
       "428570"
      ]
     },
     "execution_count": 18,
     "metadata": {},
     "output_type": "execute_result"
    }
   ],
   "source": [
    "closestFraction(3, 7, cap=1000000)"
   ]
  },
  {
   "cell_type": "markdown",
   "id": "ecc9199b",
   "metadata": {},
   "source": [
    "## Problem #72"
   ]
  },
  {
   "cell_type": "markdown",
   "id": "a94fd161",
   "metadata": {},
   "source": [
    "How many elements would be contained in the set of reduced proper fractions for d <= 1,000,000?"
   ]
  },
  {
   "cell_type": "code",
   "execution_count": 23,
   "id": "670cf49d",
   "metadata": {},
   "outputs": [],
   "source": [
    "import math"
   ]
  },
  {
   "cell_type": "code",
   "execution_count": 24,
   "id": "c5608008",
   "metadata": {},
   "outputs": [],
   "source": [
    "def numberOfReducedFractions(cap):\n",
    "    total = 0\n",
    "    primes = generatePrimesTo(math.ceil(cap**0.5))\n",
    "    for d in range(2, cap+1):\n",
    "        total += phi(d, primes)\n",
    "    return total"
   ]
  },
  {
   "cell_type": "code",
   "execution_count": 20,
   "id": "8ed0349e",
   "metadata": {},
   "outputs": [],
   "source": [
    "def phi(n, primes):\n",
    "    totient = n\n",
    "    root = n**0.5\n",
    "    for p in primes:\n",
    "        if p > root:\n",
    "            break\n",
    "        if n % p == 0:\n",
    "            totient //= p\n",
    "            while n % p == 0:\n",
    "                n //= p\n",
    "            totient *= p - 1\n",
    "            root = n**0.5\n",
    "    return totient if n < 2 else totient * (n - 1) // n"
   ]
  },
  {
   "cell_type": "code",
   "execution_count": 21,
   "id": "0610e9dc",
   "metadata": {},
   "outputs": [],
   "source": [
    "def generatePrimesTo(n):\n",
    "    primes = [2,3,5,7]\n",
    "    i = 11\n",
    "    while i < n:\n",
    "        for j in [0, 2, 6, 8]:\n",
    "            if isPrime(i+j, primes):\n",
    "                primes.append(i+j)\n",
    "        i += 10\n",
    "    while primes[-1] > n:\n",
    "        primes.pop()\n",
    "    return primes"
   ]
  },
  {
   "cell_type": "code",
   "execution_count": 22,
   "id": "15ceb4ac",
   "metadata": {},
   "outputs": [],
   "source": [
    "def isPrime(n, primes):\n",
    "    if n < 11:\n",
    "        return False if n not in [2,3,5,7] else True\n",
    "    i = 0\n",
    "    root = math.floor(n**0.5)\n",
    "    while i < len(primes) and primes[i] <= root:\n",
    "        if n % primes[i] == 0:\n",
    "            return False\n",
    "        i += 1\n",
    "    return True"
   ]
  },
  {
   "cell_type": "code",
   "execution_count": 25,
   "id": "dd6169be",
   "metadata": {},
   "outputs": [
    {
     "data": {
      "text/plain": [
       "303963552391"
      ]
     },
     "execution_count": 25,
     "metadata": {},
     "output_type": "execute_result"
    }
   ],
   "source": [
    "numberOfReducedFractions(1000000)"
   ]
  },
  {
   "cell_type": "markdown",
   "id": "22ac1410",
   "metadata": {},
   "source": [
    "## Problem #73"
   ]
  },
  {
   "cell_type": "markdown",
   "id": "49a683e5",
   "metadata": {},
   "source": [
    "How many fractions lie between 1/3 and 1/2 in the sorted set of reduced proper fractions for d <= 12,000?"
   ]
  },
  {
   "cell_type": "code",
   "execution_count": 36,
   "id": "be5891d6",
   "metadata": {},
   "outputs": [],
   "source": [
    "def fractionsBetween(d1, d2, cap):\n",
    "    count = 0\n",
    "    for n in range(2, cap+1):\n",
    "        for i in range((n + (d1-1)) // d1, (n-1) // d2 + 1):\n",
    "            if i == 1:\n",
    "                continue\n",
    "            if gcd(n, i) == 1:\n",
    "                count += 1\n",
    "    return count"
   ]
  },
  {
   "cell_type": "code",
   "execution_count": 1,
   "id": "e5824732",
   "metadata": {},
   "outputs": [],
   "source": [
    "def gcd(a, b):\n",
    "    if b == 0:\n",
    "        return a\n",
    "    return gcd(b, a % b)"
   ]
  },
  {
   "cell_type": "code",
   "execution_count": 39,
   "id": "9cea35c0",
   "metadata": {},
   "outputs": [
    {
     "data": {
      "text/plain": [
       "7295372"
      ]
     },
     "execution_count": 39,
     "metadata": {},
     "output_type": "execute_result"
    }
   ],
   "source": [
    "fractionsBetween(3, 2, cap=12000)"
   ]
  },
  {
   "cell_type": "markdown",
   "id": "e36451e6",
   "metadata": {},
   "source": [
    "## Problem #74"
   ]
  },
  {
   "cell_type": "markdown",
   "id": "7245e543",
   "metadata": {},
   "source": [
    "How many chains, with a starting number below one million, contain exactly sixty non-repeating terms?"
   ]
  },
  {
   "cell_type": "code",
   "execution_count": 26,
   "id": "5ad895ad",
   "metadata": {},
   "outputs": [],
   "source": [
    "def sixtyLengthChains():\n",
    "    facs = facDigitDict()\n",
    "    memo = {}\n",
    "    count = 0\n",
    "    for i in range(1, 1000001):\n",
    "        if facDigitChain(i, facs, memo) == 60:\n",
    "            count += 1\n",
    "    return count"
   ]
  },
  {
   "cell_type": "code",
   "execution_count": 24,
   "id": "cb807206",
   "metadata": {},
   "outputs": [],
   "source": [
    "def facDigitChain(n, facs, memo):\n",
    "    if n in memo:\n",
    "        return memo[n]\n",
    "    n_copy = n\n",
    "    newVals = []\n",
    "    while n not in memo:\n",
    "        newVals.append(n)\n",
    "        memo[n] = 0\n",
    "        n = facDigitSum(n, facs)\n",
    "    numVals = len(newVals)\n",
    "    for i, val in enumerate(newVals):\n",
    "        memo[val] = (numVals - i) + memo[n]\n",
    "    return memo[n_copy]"
   ]
  },
  {
   "cell_type": "code",
   "execution_count": 4,
   "id": "91d93e57",
   "metadata": {},
   "outputs": [],
   "source": [
    "def facDigitSum(n, facs):\n",
    "    total = 0\n",
    "    while n > 0:\n",
    "        n, r = divmod(n, 10)\n",
    "        total += facs[r]\n",
    "    return total"
   ]
  },
  {
   "cell_type": "code",
   "execution_count": 1,
   "id": "99fd7080",
   "metadata": {},
   "outputs": [],
   "source": [
    "def facDigitDict():\n",
    "    facs = {}\n",
    "    for i in range(10):\n",
    "        facs[i] = fac(i)\n",
    "    return facs"
   ]
  },
  {
   "cell_type": "code",
   "execution_count": 2,
   "id": "0fbb1299",
   "metadata": {},
   "outputs": [],
   "source": [
    "def fac(n):\n",
    "    prod = 1\n",
    "    for i in range(2, n+1):\n",
    "        prod *= i\n",
    "    return prod"
   ]
  },
  {
   "cell_type": "code",
   "execution_count": 27,
   "id": "8e803df1",
   "metadata": {},
   "outputs": [
    {
     "data": {
      "text/plain": [
       "402"
      ]
     },
     "execution_count": 27,
     "metadata": {},
     "output_type": "execute_result"
    }
   ],
   "source": [
    "sixtyLengthChains()"
   ]
  },
  {
   "cell_type": "markdown",
   "id": "dcc44ed5",
   "metadata": {},
   "source": [
    "## Problem #75"
   ]
  },
  {
   "cell_type": "markdown",
   "id": "b7bf8371",
   "metadata": {},
   "source": [
    "Given that L is the perimeter of the triangle, for how many values of L <= 1,500,000 can exactly one integer sided right angle triangle be formed?"
   ]
  },
  {
   "cell_type": "code",
   "execution_count": 33,
   "id": "f84ff040",
   "metadata": {},
   "outputs": [],
   "source": [
    "def uniqueRightTriangles(L):\n",
    "    perims = [0 for _ in range(L+1)]\n",
    "    m = 2\n",
    "    while 2 * m * (m + 1) <= L:\n",
    "        m_even = m % 2 == 0\n",
    "        for n in range(1, m):\n",
    "            if gcd(m, n) != 1:\n",
    "                continue\n",
    "            n_even = n % 2 == 0\n",
    "            if m_even and n_even or not m_even and not n_even:\n",
    "                continue\n",
    "            perim = 2 * m * (m + n)\n",
    "            p_copy = perim\n",
    "            while perim <= L:\n",
    "                if perims[perim] == 0:\n",
    "                    perims[perim] = 1\n",
    "                else:\n",
    "                    perims[perim] = 2\n",
    "                perim += p_copy\n",
    "        m += 1\n",
    "    return sum(x == 1 for x in perims)"
   ]
  },
  {
   "cell_type": "code",
   "execution_count": 34,
   "id": "f558b1d1",
   "metadata": {},
   "outputs": [],
   "source": [
    "def gcd(a, b):\n",
    "    if b == 0:\n",
    "        return a\n",
    "    return gcd(b, a % b)"
   ]
  },
  {
   "cell_type": "code",
   "execution_count": 39,
   "id": "abb905f2",
   "metadata": {},
   "outputs": [
    {
     "data": {
      "text/plain": [
       "161667"
      ]
     },
     "execution_count": 39,
     "metadata": {},
     "output_type": "execute_result"
    }
   ],
   "source": [
    "uniqueRightTriangles(1500000)"
   ]
  },
  {
   "cell_type": "markdown",
   "id": "031b2a65",
   "metadata": {},
   "source": [
    "## Problem #76"
   ]
  },
  {
   "cell_type": "markdown",
   "id": "20a66ea1",
   "metadata": {},
   "source": [
    "How many different ways can one hundred be written as a sum of at least two positive integers?"
   ]
  },
  {
   "cell_type": "code",
   "execution_count": 118,
   "id": "26b50863",
   "metadata": {},
   "outputs": [],
   "source": [
    "def oneLessPartitions(n):\n",
    "    return partitions(n, {}) - 1"
   ]
  },
  {
   "cell_type": "code",
   "execution_count": 116,
   "id": "04660564",
   "metadata": {},
   "outputs": [],
   "source": [
    "def partitions(n, memo):\n",
    "    if n in memo:\n",
    "        return memo[n]\n",
    "    if n < 2:\n",
    "        return 1\n",
    "    total = 0\n",
    "    i = 1\n",
    "    while pent(i) <= n:\n",
    "        if i % 4 == 1 or i % 4 == 2:\n",
    "            total += partitions(n - pent(i), memo)\n",
    "        else:\n",
    "            total -= partitions(n - pent(i), memo)\n",
    "        i += 1\n",
    "    memo[n] = total\n",
    "    return memo[n]"
   ]
  },
  {
   "cell_type": "code",
   "execution_count": 117,
   "id": "52ae6f46",
   "metadata": {},
   "outputs": [],
   "source": [
    "def pent(n):\n",
    "    n = ((-1)**((n + 1) % 2)) * ((n + 1) // 2)\n",
    "    return n * (3*n-1) // 2"
   ]
  },
  {
   "cell_type": "code",
   "execution_count": 119,
   "id": "7a5950f9",
   "metadata": {},
   "outputs": [
    {
     "data": {
      "text/plain": [
       "190569291"
      ]
     },
     "execution_count": 119,
     "metadata": {},
     "output_type": "execute_result"
    }
   ],
   "source": [
    "oneLessPartitions(100)"
   ]
  },
  {
   "cell_type": "markdown",
   "id": "0b730f77",
   "metadata": {},
   "source": [
    "## Problem #77"
   ]
  },
  {
   "cell_type": "markdown",
   "id": "354f3b81",
   "metadata": {},
   "source": [
    "What is the first value which can be written as the sum of primes in over five thousand different ways?"
   ]
  },
  {
   "cell_type": "code",
   "execution_count": 126,
   "id": "0975eff8",
   "metadata": {},
   "outputs": [],
   "source": [
    "import math"
   ]
  },
  {
   "cell_type": "code",
   "execution_count": 155,
   "id": "0f7a3f86",
   "metadata": {},
   "outputs": [],
   "source": [
    "def firstPrimePartitionsOver(n):\n",
    "    i = 4\n",
    "    while primePartitions(i) < n:\n",
    "        i += 1\n",
    "    return i"
   ]
  },
  {
   "cell_type": "code",
   "execution_count": 154,
   "id": "57ff5bf0",
   "metadata": {},
   "outputs": [],
   "source": [
    "def primePartitions(n):\n",
    "    primes = generatePrimesTo(1000)\n",
    "    pdic = {}\n",
    "    for i in range(len(primes)-1):\n",
    "        pdic[primes[i]] = primes[i+1]\n",
    "    pdic[1] = 2\n",
    "    count = 0\n",
    "    curVal = 1\n",
    "    total = 2\n",
    "    pstack = [2]\n",
    "    while curVal <= n:\n",
    "        curVal = pdic[curVal]\n",
    "        while total < n:\n",
    "            total += curVal\n",
    "            pstack.append(curVal)\n",
    "        if total == n:\n",
    "            count += 1\n",
    "        total -= pstack.pop()\n",
    "        if len(pstack) == 0:\n",
    "            break\n",
    "        curVal = pstack.pop()\n",
    "        total -= curVal\n",
    "    return count"
   ]
  },
  {
   "cell_type": "code",
   "execution_count": 123,
   "id": "946b696e",
   "metadata": {},
   "outputs": [],
   "source": [
    "def generatePrimesTo(n):\n",
    "    primes = [2,3,5,7]\n",
    "    i = 11\n",
    "    while i < n:\n",
    "        for j in [0, 2, 6, 8]:\n",
    "            if isPrime(i+j, primes):\n",
    "                primes.append(i+j)\n",
    "        i += 10\n",
    "    while primes[-1] > n:\n",
    "        primes.pop()\n",
    "    return primes"
   ]
  },
  {
   "cell_type": "code",
   "execution_count": 124,
   "id": "601efe59",
   "metadata": {},
   "outputs": [],
   "source": [
    "def isPrime(n, primes):\n",
    "    if n < 11:\n",
    "        return False if n not in [2,3,5,7] else True\n",
    "    i = 0\n",
    "    root = math.floor(n**0.5)\n",
    "    while i < len(primes) and primes[i] <= root:\n",
    "        if n % primes[i] == 0:\n",
    "            return False\n",
    "        i += 1\n",
    "    return True"
   ]
  },
  {
   "cell_type": "code",
   "execution_count": 165,
   "id": "1f72ce94",
   "metadata": {},
   "outputs": [
    {
     "data": {
      "text/plain": [
       "71"
      ]
     },
     "execution_count": 165,
     "metadata": {},
     "output_type": "execute_result"
    }
   ],
   "source": [
    "firstPrimePartitionsOver(5000)"
   ]
  },
  {
   "cell_type": "markdown",
   "id": "ad1da3d9",
   "metadata": {},
   "source": [
    "## Problem #78"
   ]
  },
  {
   "cell_type": "markdown",
   "id": "27c1546d",
   "metadata": {},
   "source": [
    "Find the least value of n for which p(n) (partitions) is divisible by one million."
   ]
  },
  {
   "cell_type": "code",
   "execution_count": 168,
   "id": "7fc56230",
   "metadata": {},
   "outputs": [],
   "source": [
    "def leastDivisiblePartition(d):\n",
    "    parts = {}\n",
    "    i = 1\n",
    "    while partitions(i, parts) % d != 0:\n",
    "        i += 1\n",
    "    return i"
   ]
  },
  {
   "cell_type": "code",
   "execution_count": 167,
   "id": "0e63bf41",
   "metadata": {},
   "outputs": [],
   "source": [
    "def partitions(n, memo):\n",
    "    if n in memo:\n",
    "        return memo[n]\n",
    "    if n < 2:\n",
    "        return 1\n",
    "    total = 0\n",
    "    i = 1\n",
    "    while pent(i) <= n:\n",
    "        if i % 4 == 1 or i % 4 == 2:\n",
    "            total += partitions(n - pent(i), memo)\n",
    "        else:\n",
    "            total -= partitions(n - pent(i), memo)\n",
    "        i += 1\n",
    "    memo[n] = total\n",
    "    return memo[n]"
   ]
  },
  {
   "cell_type": "code",
   "execution_count": 166,
   "id": "70aea739",
   "metadata": {},
   "outputs": [],
   "source": [
    "def pent(n):\n",
    "    n = ((-1)**((n + 1) % 2)) * ((n + 1) // 2)\n",
    "    return n * (3*n-1) // 2"
   ]
  },
  {
   "cell_type": "code",
   "execution_count": 175,
   "id": "2f385892",
   "metadata": {},
   "outputs": [
    {
     "data": {
      "text/plain": [
       "55374"
      ]
     },
     "execution_count": 175,
     "metadata": {},
     "output_type": "execute_result"
    }
   ],
   "source": [
    "leastDivisiblePartition(1000000)"
   ]
  },
  {
   "cell_type": "markdown",
   "id": "2139d483",
   "metadata": {},
   "source": [
    "## Problem #79"
   ]
  },
  {
   "cell_type": "markdown",
   "id": "032a833b",
   "metadata": {},
   "source": [
    "Given that the three characters are always asked for in order, analyse the file so as to determine the shortest possible secret passcode of unknown length."
   ]
  },
  {
   "cell_type": "code",
   "execution_count": 206,
   "id": "9e59bad5",
   "metadata": {},
   "outputs": [],
   "source": [
    "def crackPasscode():\n",
    "    entries = entryList('keylog_p79.txt')\n",
    "    code = []\n",
    "    for log in entries:\n",
    "        integrateLog(code, log)\n",
    "    for log in entries:\n",
    "        integrateLog(code, log)\n",
    "    return ''.join([str(list(x)[0]) for x in code[::-1]])"
   ]
  },
  {
   "cell_type": "code",
   "execution_count": 182,
   "id": "fb5073bc",
   "metadata": {},
   "outputs": [],
   "source": [
    "def entryList(filename):\n",
    "    entries = []\n",
    "    with open(filename, 'r') as f:\n",
    "        for line in f.readlines():\n",
    "            entries.append(int(line.strip()))\n",
    "    return entries"
   ]
  },
  {
   "cell_type": "code",
   "execution_count": 207,
   "id": "3fdd9a2d",
   "metadata": {},
   "outputs": [],
   "source": [
    "def integrateLog(code, num):\n",
    "    if len(code) == 0:\n",
    "        while num > 0:\n",
    "            num, r = divmod(num, 10)\n",
    "            code.append(set([r]))\n",
    "        return\n",
    "    startIdx = 0\n",
    "    while num > 0:\n",
    "        num, r = divmod(num, 10)\n",
    "        for i in range(len(code)):\n",
    "            if r in code[i]:\n",
    "                if i < startIdx:\n",
    "                    code[i].remove(r)\n",
    "                else:\n",
    "                    startIdx = i\n",
    "                break\n",
    "        if startIdx == len(code):\n",
    "            code.append(set([r]))\n",
    "        else:\n",
    "            code[startIdx].add(r) \n",
    "        startIdx += 1\n",
    "    return "
   ]
  },
  {
   "cell_type": "code",
   "execution_count": 208,
   "id": "4ce91d78",
   "metadata": {},
   "outputs": [
    {
     "data": {
      "text/plain": [
       "'73162890'"
      ]
     },
     "execution_count": 208,
     "metadata": {},
     "output_type": "execute_result"
    }
   ],
   "source": [
    "crackPasscode()"
   ]
  },
  {
   "cell_type": "markdown",
   "id": "c0223af1",
   "metadata": {},
   "source": [
    "## Problem #80"
   ]
  },
  {
   "cell_type": "markdown",
   "id": "7fb1f2ea",
   "metadata": {},
   "source": [
    "For the first one hundred natural numbers, find the total of the digital sums of the first one hundred decimal digits for all the irrational square roots."
   ]
  },
  {
   "cell_type": "code",
   "execution_count": 410,
   "id": "28068e94",
   "metadata": {},
   "outputs": [],
   "source": [
    "def squareRootSums():\n",
    "    sqSet = set(x**2 for x in range(11))\n",
    "    total = 0\n",
    "    for i in range(2, 100):\n",
    "        if i in sqSet:\n",
    "            continue\n",
    "        root = getRoot(i)\n",
    "        digs = root[0] * 10**99 // root[1]\n",
    "        total += digitSum(digs)\n",
    "    return total"
   ]
  },
  {
   "cell_type": "code",
   "execution_count": 405,
   "id": "47ddeac1",
   "metadata": {},
   "outputs": [],
   "source": [
    "def digitSum(n):\n",
    "    total = 0\n",
    "    while n > 0:\n",
    "        n, r = divmod(n, 10)\n",
    "        total += r\n",
    "    return total"
   ]
  },
  {
   "cell_type": "code",
   "execution_count": 406,
   "id": "c07713d0",
   "metadata": {},
   "outputs": [],
   "source": [
    "def getRoot(n):\n",
    "    xn = [n // 2, 1]\n",
    "    for i in range(10):\n",
    "        xn = addFrac([xn[0], 2*xn[1]], [n*xn[1], 2*xn[0]])\n",
    "    return xn"
   ]
  },
  {
   "cell_type": "code",
   "execution_count": 407,
   "id": "abf95bfb",
   "metadata": {},
   "outputs": [],
   "source": [
    "def addFrac(f1, f2):\n",
    "    f3 = [f1[0] * f2[1] + f1[1] * f2[0], f1[1] * f2[1]]\n",
    "    return f3"
   ]
  },
  {
   "cell_type": "code",
   "execution_count": 408,
   "id": "6678abc3",
   "metadata": {},
   "outputs": [],
   "source": [
    "def gcd(a, b):\n",
    "    if b == 0:\n",
    "        return a\n",
    "    return gcd(b, a%b)"
   ]
  },
  {
   "cell_type": "code",
   "execution_count": 411,
   "id": "aa5e0800",
   "metadata": {},
   "outputs": [
    {
     "data": {
      "text/plain": [
       "40886"
      ]
     },
     "execution_count": 411,
     "metadata": {},
     "output_type": "execute_result"
    }
   ],
   "source": [
    "squareRootSums()"
   ]
  },
  {
   "cell_type": "code",
   "execution_count": null,
   "id": "6c673b0b",
   "metadata": {},
   "outputs": [],
   "source": []
  }
 ],
 "metadata": {
  "kernelspec": {
   "display_name": "Python 3 (ipykernel)",
   "language": "python",
   "name": "python3"
  },
  "language_info": {
   "codemirror_mode": {
    "name": "ipython",
    "version": 3
   },
   "file_extension": ".py",
   "mimetype": "text/x-python",
   "name": "python",
   "nbconvert_exporter": "python",
   "pygments_lexer": "ipython3",
   "version": "3.11.5"
  }
 },
 "nbformat": 4,
 "nbformat_minor": 5
}
