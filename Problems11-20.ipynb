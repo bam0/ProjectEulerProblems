{
 "cells": [
  {
   "cell_type": "markdown",
   "id": "db1274ca",
   "metadata": {},
   "source": [
    "# Project Euler\n",
    "## Problems 11 - 20\n",
    "\n",
    "### ************************"
   ]
  },
  {
   "cell_type": "markdown",
   "id": "6c92178f",
   "metadata": {},
   "source": [
    "## Problem #11"
   ]
  },
  {
   "cell_type": "markdown",
   "id": "9eb50e53",
   "metadata": {},
   "source": [
    "What is the greatest product of four adjacent numbers in the same direction (up, down, left, right, or diagonally) in the 20 x 20 grid?"
   ]
  },
  {
   "cell_type": "code",
   "execution_count": 10,
   "id": "6726bfc0",
   "metadata": {},
   "outputs": [],
   "source": [
    "def findMaxProd(k):\n",
    "    grid = generateNumArray('numGrid_p11.txt')\n",
    "    return max(vertProd(k, grid), horProd(k, grid), posSlopeProd(k, grid), negSlopeProd(k, grid))"
   ]
  },
  {
   "cell_type": "code",
   "execution_count": 4,
   "id": "e5a71261",
   "metadata": {},
   "outputs": [],
   "source": [
    "def generateNumArray(filename):\n",
    "    grid = []\n",
    "    with open(filename, 'r') as f:\n",
    "        for line in f.readlines():\n",
    "            line = line.strip()\n",
    "            row = [int(x) for x in line.split()]\n",
    "            grid.append(row)\n",
    "    return grid"
   ]
  },
  {
   "cell_type": "code",
   "execution_count": 11,
   "id": "a986de74",
   "metadata": {},
   "outputs": [],
   "source": [
    "def vertProd(k, grid):\n",
    "    maxProd = 0\n",
    "    for c in range(len(grid[0])):\n",
    "        for r in range(len(grid)-k):\n",
    "            curProd = 1\n",
    "            for i in range(k):\n",
    "                curProd *= grid[r+i][c]\n",
    "            if curProd > maxProd:\n",
    "                maxProd = curProd\n",
    "    return maxProd"
   ]
  },
  {
   "cell_type": "code",
   "execution_count": 12,
   "id": "16ad29c5",
   "metadata": {},
   "outputs": [],
   "source": [
    "def horProd(k, grid):\n",
    "    maxProd = 0\n",
    "    for r in range(len(grid)):\n",
    "        for c in range(len(grid[0])-k):\n",
    "            curProd = 1\n",
    "            for i in range(k):\n",
    "                curProd *= grid[r][c+i]\n",
    "            if curProd > maxProd:\n",
    "                maxProd = curProd\n",
    "    return maxProd"
   ]
  },
  {
   "cell_type": "code",
   "execution_count": 13,
   "id": "30dc26b5",
   "metadata": {},
   "outputs": [],
   "source": [
    "def posSlopeProd(k, grid):\n",
    "    maxProd = 0\n",
    "    for r in range(k-1, len(grid)):\n",
    "        for c in range(len(grid[0])-k):\n",
    "            curProd = 1\n",
    "            for i in range(k):\n",
    "                curProd *= grid[r-i][c+i]\n",
    "            if curProd > maxProd:\n",
    "                maxProd = curProd\n",
    "    return maxProd"
   ]
  },
  {
   "cell_type": "code",
   "execution_count": 14,
   "id": "741a62a5",
   "metadata": {},
   "outputs": [],
   "source": [
    "def negSlopeProd(k, grid):\n",
    "    maxProd = 0\n",
    "    for r in range(len(grid)-k):\n",
    "        for c in range(len(grid[0])-k):\n",
    "            curProd = 1\n",
    "            for i in range(k):\n",
    "                curProd *= grid[r+i][c+i]\n",
    "            if curProd > maxProd:\n",
    "                maxProd = curProd\n",
    "    return maxProd"
   ]
  },
  {
   "cell_type": "code",
   "execution_count": 15,
   "id": "6ecded79",
   "metadata": {},
   "outputs": [
    {
     "data": {
      "text/plain": [
       "70600674"
      ]
     },
     "execution_count": 15,
     "metadata": {},
     "output_type": "execute_result"
    }
   ],
   "source": [
    "findMaxProd(4)"
   ]
  },
  {
   "cell_type": "markdown",
   "id": "e2f88f45",
   "metadata": {},
   "source": [
    "## Problem #12"
   ]
  },
  {
   "cell_type": "markdown",
   "id": "99327a3b",
   "metadata": {},
   "source": [
    "What is the value of the first triangle number to have over five hundred divisors?"
   ]
  },
  {
   "cell_type": "code",
   "execution_count": 32,
   "id": "fc2ff726",
   "metadata": {},
   "outputs": [],
   "source": [
    "import math"
   ]
  },
  {
   "cell_type": "code",
   "execution_count": 35,
   "id": "c5b6d772",
   "metadata": {},
   "outputs": [],
   "source": [
    "def firstTriangleOver(d):\n",
    "    primes = generatePrimesTo(10000)\n",
    "    i = 1\n",
    "    while True:\n",
    "        t = triangle(i)\n",
    "        divs = numDivisors(t, primes)\n",
    "        if divs > 500:\n",
    "            return t\n",
    "        i += 1"
   ]
  },
  {
   "cell_type": "code",
   "execution_count": 28,
   "id": "e0826096",
   "metadata": {},
   "outputs": [],
   "source": [
    "def triangle(n):\n",
    "    return n * (n+1) // 2"
   ]
  },
  {
   "cell_type": "code",
   "execution_count": 29,
   "id": "ab4fe2e2",
   "metadata": {},
   "outputs": [],
   "source": [
    "def numDivisors(n, primes):\n",
    "    total = 1\n",
    "    root = n**0.5\n",
    "    for p in primes:\n",
    "        if n == 1 or p > root:\n",
    "            break\n",
    "        exp = 0\n",
    "        while n % p == 0:\n",
    "            n //= p\n",
    "            exp += 1\n",
    "        total *= (exp + 1)\n",
    "    return total if n == 1 else total * 2"
   ]
  },
  {
   "cell_type": "code",
   "execution_count": 30,
   "id": "520e3d31",
   "metadata": {},
   "outputs": [],
   "source": [
    "def generatePrimesTo(n):\n",
    "    primes = [2,3,5,7]\n",
    "    i = 11\n",
    "    while i < n:\n",
    "        for j in [0, 2, 6, 8]:\n",
    "            if isPrimeOver10(i+j, primes):\n",
    "                primes.append(i+j)\n",
    "        i += 10\n",
    "    while primes[-1] > n:\n",
    "        primes.pop()\n",
    "    return primes"
   ]
  },
  {
   "cell_type": "code",
   "execution_count": 31,
   "id": "951c5b2e",
   "metadata": {},
   "outputs": [],
   "source": [
    "def isPrimeOver10(n, primes):\n",
    "    i = 0\n",
    "    root = math.floor(n**0.5)\n",
    "    while i < len(primes) and primes[i] <= root:\n",
    "        if n % primes[i] == 0:\n",
    "            return False\n",
    "        i += 1\n",
    "    return True"
   ]
  },
  {
   "cell_type": "code",
   "execution_count": 37,
   "id": "eba9894a",
   "metadata": {},
   "outputs": [
    {
     "data": {
      "text/plain": [
       "76576500"
      ]
     },
     "execution_count": 37,
     "metadata": {},
     "output_type": "execute_result"
    }
   ],
   "source": [
    "firstTriangleOver(500)"
   ]
  },
  {
   "cell_type": "markdown",
   "id": "78ae797d",
   "metadata": {},
   "source": [
    "## Problem #13"
   ]
  },
  {
   "cell_type": "markdown",
   "id": "37c6f677",
   "metadata": {},
   "source": [
    "Work out the first ten digits of the sum of the following one-hundred 50-digit numbers."
   ]
  },
  {
   "cell_type": "code",
   "execution_count": 38,
   "id": "463117f9",
   "metadata": {},
   "outputs": [],
   "source": [
    "def getFiftyDigSum(filename):\n",
    "    total = 0\n",
    "    with open(filename, 'r') as f:\n",
    "        for line in f.readlines():\n",
    "            line = line.strip()\n",
    "            num = int(line)\n",
    "            total += num\n",
    "    return total"
   ]
  },
  {
   "cell_type": "code",
   "execution_count": 40,
   "id": "c43445b1",
   "metadata": {},
   "outputs": [],
   "source": [
    "def firstTen(num):\n",
    "    return str(num)[:10]"
   ]
  },
  {
   "cell_type": "code",
   "execution_count": 41,
   "id": "880327bf",
   "metadata": {},
   "outputs": [
    {
     "data": {
      "text/plain": [
       "'5537376230'"
      ]
     },
     "execution_count": 41,
     "metadata": {},
     "output_type": "execute_result"
    }
   ],
   "source": [
    "firstTen(getFiftyDigSum('largeSum_p13.txt'))"
   ]
  },
  {
   "cell_type": "markdown",
   "id": "99c6a669",
   "metadata": {},
   "source": [
    "## Problem #14"
   ]
  },
  {
   "cell_type": "markdown",
   "id": "a5f7e6f6",
   "metadata": {},
   "source": [
    "Which starting number, under one million, produces the longest Collatz sequence?"
   ]
  },
  {
   "cell_type": "code",
   "execution_count": 43,
   "id": "e1268f4f",
   "metadata": {},
   "outputs": [],
   "source": [
    "def collatz(n, memo):\n",
    "    if n in memo:\n",
    "        return memo[n]\n",
    "    if n % 2 == 0:\n",
    "        memo[n] = 1 + collatz(n // 2, memo)\n",
    "    else:\n",
    "        memo[n] = 1 + collatz(3*n + 1, memo)\n",
    "    return memo[n]"
   ]
  },
  {
   "cell_type": "code",
   "execution_count": 55,
   "id": "eae29021",
   "metadata": {},
   "outputs": [],
   "source": [
    "def longestCollatzChain(cap):\n",
    "    memo = {}\n",
    "    memo[1] = 1\n",
    "    i = 2\n",
    "    maxChain = 1\n",
    "    maxVal = 1\n",
    "    while i < cap:\n",
    "        curChain = collatz(i, memo)\n",
    "        if curChain > maxChain:\n",
    "            maxChain = curChain\n",
    "            maxVal = i\n",
    "        i += 1\n",
    "    print(\"Chain Length:\", maxChain)\n",
    "    return maxVal"
   ]
  },
  {
   "cell_type": "code",
   "execution_count": 62,
   "id": "b318df7b",
   "metadata": {},
   "outputs": [
    {
     "name": "stdout",
     "output_type": "stream",
     "text": [
      "Chain Length: 525\n"
     ]
    },
    {
     "data": {
      "text/plain": [
       "837799"
      ]
     },
     "execution_count": 62,
     "metadata": {},
     "output_type": "execute_result"
    }
   ],
   "source": [
    "longestCollatzChain(1000000)"
   ]
  },
  {
   "cell_type": "markdown",
   "id": "876db68a",
   "metadata": {},
   "source": [
    "## Problem #15"
   ]
  },
  {
   "cell_type": "markdown",
   "id": "9623df8d",
   "metadata": {},
   "source": [
    "How many such routes are there only moving right and down through a 20 x 20 grid?"
   ]
  },
  {
   "cell_type": "code",
   "execution_count": 63,
   "id": "b291f228",
   "metadata": {},
   "outputs": [],
   "source": [
    "def numLatticePaths(m, n):\n",
    "    return choose(m+n, min(m, n))"
   ]
  },
  {
   "cell_type": "code",
   "execution_count": 64,
   "id": "5c405617",
   "metadata": {},
   "outputs": [],
   "source": [
    "def choose(n, k):\n",
    "    prod = 1\n",
    "    for i in range(1, k+1):\n",
    "        prod = (prod * (n-i+1)) // i\n",
    "    return prod"
   ]
  },
  {
   "cell_type": "code",
   "execution_count": 68,
   "id": "a7c4e941",
   "metadata": {},
   "outputs": [
    {
     "data": {
      "text/plain": [
       "137846528820"
      ]
     },
     "execution_count": 68,
     "metadata": {},
     "output_type": "execute_result"
    }
   ],
   "source": [
    "numLatticePaths(20, 20)"
   ]
  },
  {
   "cell_type": "markdown",
   "id": "c81313af",
   "metadata": {},
   "source": [
    "## Problem #16"
   ]
  },
  {
   "cell_type": "markdown",
   "id": "5ec009b1",
   "metadata": {},
   "source": [
    "What is the sum of the digits of the number 2^1000?"
   ]
  },
  {
   "cell_type": "code",
   "execution_count": 69,
   "id": "3d31e277",
   "metadata": {},
   "outputs": [],
   "source": [
    "def digitSum(n):\n",
    "    total = 0\n",
    "    while n > 0:\n",
    "        n, d = divmod(n, 10)\n",
    "        total += d\n",
    "    return total"
   ]
  },
  {
   "cell_type": "code",
   "execution_count": 72,
   "id": "87edbe76",
   "metadata": {},
   "outputs": [
    {
     "data": {
      "text/plain": [
       "1366"
      ]
     },
     "execution_count": 72,
     "metadata": {},
     "output_type": "execute_result"
    }
   ],
   "source": [
    "digitSum(2**1000)"
   ]
  },
  {
   "cell_type": "markdown",
   "id": "981131b5",
   "metadata": {},
   "source": [
    "## Problem #17"
   ]
  },
  {
   "cell_type": "markdown",
   "id": "4f25ced3",
   "metadata": {},
   "source": [
    "If all the numbers from to one to one-thousand inclusive were written out in words, how many letters would be used? "
   ]
  },
  {
   "cell_type": "code",
   "execution_count": 76,
   "id": "b8fdf58f",
   "metadata": {},
   "outputs": [],
   "source": [
    "def oneToOneThousand():\n",
    "    total = 0\n",
    "    nums = buildNumberDict()\n",
    "    \n",
    "    for i in range(1, 21):\n",
    "        total += nums[i]\n",
    "    \n",
    "    curNum = 21\n",
    "    while curNum < 100:\n",
    "        if curNum % 10 != 0:\n",
    "            rem = curNum % 10\n",
    "            nums[curNum] = nums[curNum - rem] + nums[rem]\n",
    "        total += nums[curNum]\n",
    "        curNum += 1\n",
    "        \n",
    "    while curNum < 1000:\n",
    "        if curNum % 100 == 0:\n",
    "            total += nums[curNum // 100] + nums[100]\n",
    "        else:\n",
    "            q, rem = divmod(curNum, 100)\n",
    "            total += nums[q] + nums[100] + 3 + nums[rem]\n",
    "        curNum += 1\n",
    "    return total + 11"
   ]
  },
  {
   "cell_type": "code",
   "execution_count": 77,
   "id": "4d8d3d83",
   "metadata": {},
   "outputs": [],
   "source": [
    "def buildNumberDict():\n",
    "    nums = {1: 3, 2: 3, 3: 5, 4: 4, 5: 4, 6: 3, 7: 5, 8: 5, 9: 4, 10: 3, \n",
    "            11: 6, 12: 6, 13: 8, 14: 8, 15: 7, 16: 7, 17: 9, 18: 8, 19: 8,\n",
    "            20: 6, 30: 6, 40: 5, 50: 5, 60: 5, 70: 7, 80: 6, 90: 6, 100: 7\n",
    "           }\n",
    "    return nums"
   ]
  },
  {
   "cell_type": "code",
   "execution_count": 78,
   "id": "ed57ec94",
   "metadata": {},
   "outputs": [
    {
     "data": {
      "text/plain": [
       "21124"
      ]
     },
     "execution_count": 78,
     "metadata": {},
     "output_type": "execute_result"
    }
   ],
   "source": [
    "oneToOneThousand()"
   ]
  },
  {
   "cell_type": "markdown",
   "id": "cb0ce7f9",
   "metadata": {},
   "source": [
    "## Problem #18"
   ]
  },
  {
   "cell_type": "markdown",
   "id": "24656a42",
   "metadata": {},
   "source": [
    "Find the maximum total from top to bottom of the triangle below."
   ]
  },
  {
   "cell_type": "code",
   "execution_count": 82,
   "id": "f504335f",
   "metadata": {},
   "outputs": [],
   "source": [
    "def maxTopBottom(arr):\n",
    "    for r in range(1, len(arr)):\n",
    "        arr[r][0] += arr[r-1][0]\n",
    "        for c in range(1, len(arr[r])-1):\n",
    "            arr[r][c] += max(arr[r-1][c-1], arr[r-1][c])\n",
    "        arr[r][-1] += arr[r-1][-1]\n",
    "    return max(arr[-1])"
   ]
  },
  {
   "cell_type": "code",
   "execution_count": 83,
   "id": "06362cc3",
   "metadata": {},
   "outputs": [],
   "source": [
    "def getTriangleArray(filename):\n",
    "    arr = []\n",
    "    with open(filename, 'r') as f:\n",
    "        for line in f.readlines():\n",
    "            line = line.strip()\n",
    "            row = [int(x) for x in line.split()]\n",
    "            arr.append(row)\n",
    "    return arr"
   ]
  },
  {
   "cell_type": "code",
   "execution_count": 80,
   "id": "2acb0d55",
   "metadata": {},
   "outputs": [],
   "source": [
    "def showTriangle():\n",
    "    name = 'trianglePath_p18.txt'\n",
    "    arr = getTriangleArray(name)\n",
    "    for row in arr:\n",
    "        print(row)"
   ]
  },
  {
   "cell_type": "code",
   "execution_count": 85,
   "id": "bb737df1",
   "metadata": {},
   "outputs": [
    {
     "name": "stdout",
     "output_type": "stream",
     "text": [
      "[75]\n",
      "[95, 64]\n",
      "[17, 47, 82]\n",
      "[18, 35, 87, 10]\n",
      "[20, 4, 82, 47, 65]\n",
      "[19, 1, 23, 75, 3, 34]\n",
      "[88, 2, 77, 73, 7, 63, 67]\n",
      "[99, 65, 4, 28, 6, 16, 70, 92]\n",
      "[41, 41, 26, 56, 83, 40, 80, 70, 33]\n",
      "[41, 48, 72, 33, 47, 32, 37, 16, 94, 29]\n",
      "[53, 71, 44, 65, 25, 43, 91, 52, 97, 51, 14]\n",
      "[70, 11, 33, 28, 77, 73, 17, 78, 39, 68, 17, 57]\n",
      "[91, 71, 52, 38, 17, 14, 91, 43, 58, 50, 27, 29, 48]\n",
      "[63, 66, 4, 68, 89, 53, 67, 30, 73, 16, 69, 87, 40, 31]\n",
      "[4, 62, 98, 27, 23, 9, 70, 98, 73, 93, 38, 53, 60, 4, 23]\n"
     ]
    }
   ],
   "source": [
    "showTriangle()"
   ]
  },
  {
   "cell_type": "code",
   "execution_count": 84,
   "id": "ab0175be",
   "metadata": {},
   "outputs": [
    {
     "data": {
      "text/plain": [
       "1074"
      ]
     },
     "execution_count": 84,
     "metadata": {},
     "output_type": "execute_result"
    }
   ],
   "source": [
    "maxTopBottom(getTriangleArray('trianglePath_p18.txt'))"
   ]
  },
  {
   "cell_type": "markdown",
   "id": "f35fb680",
   "metadata": {},
   "source": [
    "## Problem #19"
   ]
  },
  {
   "cell_type": "markdown",
   "id": "5813c433",
   "metadata": {},
   "source": [
    "How many Sundays fell on the first of the month during the twentieth century (1 Jan 1901 to 31 Dec 2000)?"
   ]
  },
  {
   "cell_type": "code",
   "execution_count": 86,
   "id": "452cd6bb",
   "metadata": {},
   "outputs": [],
   "source": [
    "import pandas as pd"
   ]
  },
  {
   "cell_type": "code",
   "execution_count": 87,
   "id": "f08ca06a",
   "metadata": {},
   "outputs": [],
   "source": [
    "dates = pd.date_range(start='1901-01-01', end='2000-12-31', freq='D')\n",
    "date_df = pd.DataFrame(dates, columns = ['date'])\n",
    "date_df['day_of_week'] = date_df['date'].dt.day_name()\n",
    "date_df['day_of_month'] = date_df['date'].dt.day"
   ]
  },
  {
   "cell_type": "code",
   "execution_count": 93,
   "id": "0e60292f",
   "metadata": {},
   "outputs": [
    {
     "data": {
      "text/plain": [
       "171"
      ]
     },
     "execution_count": 93,
     "metadata": {},
     "output_type": "execute_result"
    }
   ],
   "source": [
    "sundays = date_df[date_df['day_of_week'] == 'Sunday']\n",
    "len(sundays[sundays['day_of_month'] == 1])"
   ]
  },
  {
   "cell_type": "markdown",
   "id": "efd30e4f",
   "metadata": {},
   "source": [
    "## Problem #20"
   ]
  },
  {
   "cell_type": "markdown",
   "id": "667afe03",
   "metadata": {},
   "source": [
    "Find the sum of the digits in the number 100 factorial."
   ]
  },
  {
   "cell_type": "code",
   "execution_count": 99,
   "id": "0bbb0ec1",
   "metadata": {},
   "outputs": [],
   "source": [
    "def digitSum(n):\n",
    "    total = 0\n",
    "    while n > 0:\n",
    "        n, d = divmod(n, 10)\n",
    "        total += d\n",
    "    return total"
   ]
  },
  {
   "cell_type": "code",
   "execution_count": 102,
   "id": "b742bd11",
   "metadata": {},
   "outputs": [],
   "source": [
    "def fac(n):\n",
    "    total = 1\n",
    "    for i in range(2, n+1):\n",
    "        total *= i\n",
    "    return total"
   ]
  },
  {
   "cell_type": "code",
   "execution_count": 103,
   "id": "3c1d9b2b",
   "metadata": {},
   "outputs": [
    {
     "data": {
      "text/plain": [
       "648"
      ]
     },
     "execution_count": 103,
     "metadata": {},
     "output_type": "execute_result"
    }
   ],
   "source": [
    "digitSum(fac(100))"
   ]
  },
  {
   "cell_type": "code",
   "execution_count": null,
   "id": "0df52c73",
   "metadata": {},
   "outputs": [],
   "source": []
  }
 ],
 "metadata": {
  "kernelspec": {
   "display_name": "Python 3 (ipykernel)",
   "language": "python",
   "name": "python3"
  },
  "language_info": {
   "codemirror_mode": {
    "name": "ipython",
    "version": 3
   },
   "file_extension": ".py",
   "mimetype": "text/x-python",
   "name": "python",
   "nbconvert_exporter": "python",
   "pygments_lexer": "ipython3",
   "version": "3.11.5"
  }
 },
 "nbformat": 4,
 "nbformat_minor": 5
}
